{
 "cells": [
  {
   "cell_type": "markdown",
   "metadata": {
    "_cell_guid": "75232424-a1c0-4a39-fe3b-4efad3707541",
    "id": "KHR_SfRtYz5-"
   },
   "source": [
    "This notebook aims at going further in the exploratory data analysis. We'll use more complex models, implemented in the gensim library to perform topic modelling and convert songs to vector embeddings, allowing us to look for similarities between songs and between artists."
   ]
  },
  {
   "cell_type": "code",
   "execution_count": 61,
   "metadata": {
    "_cell_guid": "5639af0e-aa64-74bd-de5c-b6f5c50b041f",
    "id": "4dM9XX4kYz6F",
    "scrolled": true
   },
   "outputs": [],
   "source": [
    "import pandas as pd\n",
    "import numpy as np\n",
    "import gensim.models.word2vec as w2v\n",
    "import multiprocessing\n",
    "import os\n",
    "import re\n",
    "import pprint\n",
    "import time\n",
    "import sklearn.manifold\n",
    "import matplotlib.pyplot as plt\n",
    "import nltk\n",
    "import plotly.graph_objs as go\n",
    "import plotly.express as px\n",
    "from sklearn.feature_extraction.text import TfidfVectorizer\n",
    "from sklearn.metrics.pairwise import cosine_similarity\n",
    "from plotly.offline import download_plotlyjs, init_notebook_mode, plot, iplot\n",
    "from gensim.corpora.dictionary import Dictionary\n",
    "from gensim.models.ldamodel import LdaModel\n",
    "from ast import literal_eval\n",
    "\n",
    "#nltk.download('stopwords')"
   ]
  },
  {
   "cell_type": "code",
   "execution_count": null,
   "metadata": {
    "id": "JF6c8af9URTN"
   },
   "outputs": [],
   "source": [
    "repository = 'data/'\n",
    "songs_df = pd.read_csv(repository + \"genius_song_lyrics_tokenized.csv\", header=0)\n",
    "songs_df['tokens']=songs_df['tokens'].apply(literal_eval)\n",
    "songs_df=songs_df.reset_index()\n",
    "artist_df = pd.read_csv(repository + \"genius_artists.csv\", header=0)\n",
    "artist_df['tokens']=artist_df['tokens'].apply(literal_eval)"
   ]
  },
  {
   "cell_type": "markdown",
   "metadata": {
    "id": "Xz1o7rxZWIAc"
   },
   "source": [
    "# I - LATENT DIRICHLET ALLOCATION"
   ]
  },
  {
   "cell_type": "markdown",
   "metadata": {
    "id": "EzjB_KN-XXvd"
   },
   "source": [
    "In this section we will, perform a latent dirichlet allocation to extract the main themes from the genres and the artists lyrics."
   ]
  },
  {
   "cell_type": "code",
   "execution_count": 63,
   "metadata": {
    "id": "auA5hLeKUth0"
   },
   "outputs": [],
   "source": [
    "def perform_lda_by_genre(num_topics=5, passes=10):\n",
    "    \"\"\"Performs LDA topic modeling for each genre in the DataFrame.\n",
    "\n",
    "    Args:\n",
    "        num_topics (int, optional): Number of topics to extract per genre. Defaults to 5.\n",
    "        passes (int, optional): Number of passes through the corpus during training. Defaults to 50.\n",
    "\n",
    "    Returns:\n",
    "        dict: A dictionary where keys are genres and values are the corresponding LDA models.\n",
    "    \"\"\"\n",
    "\n",
    "    genre_models = {}  # Initialize an empty dictionary to store the models\n",
    "\n",
    "    # Iterate through each unique genre in the 'tag' column\n",
    "    for genre in songs_df['tag'].unique():\n",
    "        # Filter the DataFrame to include only songs of the current genre\n",
    "        genre_df = songs_df[songs_df['tag'] == genre]\n",
    "\n",
    "        # Create a dictionary of unique words in the genre's lyrics\n",
    "        dictionary = Dictionary(genre_df['tokens'])\n",
    "\n",
    "        # Create a corpus (bag-of-words representation) for LDA\n",
    "        corpus = [dictionary.doc2bow(text) for text in genre_df['tokens']]\n",
    "\n",
    "        # Train the LDA model for the current genre\n",
    "        lda_model = LdaModel(corpus, num_topics=num_topics, id2word=dictionary, passes=passes)\n",
    "\n",
    "        # Store the trained model in the dictionary\n",
    "        genre_models[genre] = lda_model\n",
    "\n",
    "        # Print the topics discovered for the genre\n",
    "        print(f\"Topics for genre: {genre}\")\n",
    "        topics = lda_model.print_topics(num_words=10)  # Get the top 10 words for each topic\n",
    "        for topic in topics:\n",
    "            print(topic)\n",
    "        print(\"-\" * 20)  # Separator\n",
    "\n",
    "    return genre_models  # Return the dictionary of genre models\n",
    "\n",
    "def perform_lda_by_artist(artist: str, num_topics=5):\n",
    "    \"\"\"Performs LDA topic modeling for a specific artist.\n",
    "\n",
    "    Args:\n",
    "        artist (str): The name of the artist.\n",
    "        num_topics (int, optional): Number of topics to extract. Defaults to 5.\n",
    "\n",
    "    Returns:\n",
    "        gensim.models.ldamodel.LdaModel: The trained LDA model for the artist.\n",
    "    \"\"\"\n",
    "\n",
    "    # Filter the DataFrame to include only songs by the specified artist\n",
    "    artist_df = songs_df[songs_df['artist'] == artist]\n",
    "\n",
    "    # Create a dictionary of unique words in the artist's lyrics\n",
    "    dictionary = Dictionary(artist_df['tokens'])\n",
    "\n",
    "    # Create a corpus (bag-of-words representation) for LDA\n",
    "    corpus = [dictionary.doc2bow(text) for text in artist_df['tokens']]\n",
    "\n",
    "    # Train the LDA model for the artist\n",
    "    lda_model = LdaModel(corpus, num_topics=num_topics, id2word=dictionary, passes=50)\n",
    "\n",
    "    # Print the topics discovered for the artist\n",
    "    print(f\"Topics for artist: {artist}\")\n",
    "    topics = lda_model.print_topics(num_words=10)  # Get the top 10 words for each topic\n",
    "    for topic in topics:\n",
    "        print(topic)\n",
    "    print(\"-\" * 20)  # Separator\n",
    "\n",
    "    return lda_model  # Return the trained LDA model"
   ]
  },
  {
   "cell_type": "code",
   "execution_count": 66,
   "metadata": {},
   "outputs": [
    {
     "data": {
      "text/html": [
       "<div>\n",
       "<style scoped>\n",
       "    .dataframe tbody tr th:only-of-type {\n",
       "        vertical-align: middle;\n",
       "    }\n",
       "\n",
       "    .dataframe tbody tr th {\n",
       "        vertical-align: top;\n",
       "    }\n",
       "\n",
       "    .dataframe thead th {\n",
       "        text-align: right;\n",
       "    }\n",
       "</style>\n",
       "<table border=\"1\" class=\"dataframe\">\n",
       "  <thead>\n",
       "    <tr style=\"text-align: right;\">\n",
       "      <th></th>\n",
       "      <th>index</th>\n",
       "      <th>title</th>\n",
       "      <th>tag</th>\n",
       "      <th>artist</th>\n",
       "      <th>year</th>\n",
       "      <th>lyrics</th>\n",
       "      <th>views</th>\n",
       "      <th>rank</th>\n",
       "      <th>tokens</th>\n",
       "      <th>valence</th>\n",
       "    </tr>\n",
       "  </thead>\n",
       "  <tbody>\n",
       "    <tr>\n",
       "      <th>0</th>\n",
       "      <td>0</td>\n",
       "      <td>Shape of You</td>\n",
       "      <td>pop</td>\n",
       "      <td>Ed Sheeran</td>\n",
       "      <td>2017</td>\n",
       "      <td>[Verse 1]\\nThe club isn't the best place to fi...</td>\n",
       "      <td>14569727</td>\n",
       "      <td>1</td>\n",
       "      <td>[club, best, place, find, lover, bar, go, frie...</td>\n",
       "      <td>0.9993</td>\n",
       "    </tr>\n",
       "    <tr>\n",
       "      <th>1</th>\n",
       "      <td>1</td>\n",
       "      <td>​thank u next</td>\n",
       "      <td>pop</td>\n",
       "      <td>Ariana Grande</td>\n",
       "      <td>2018</td>\n",
       "      <td>[Verse 1]\\nThought I'd end up with Sean\\nBut h...</td>\n",
       "      <td>9072131</td>\n",
       "      <td>2</td>\n",
       "      <td>[thought, end, sean, wa, match, wrote, song, r...</td>\n",
       "      <td>0.9996</td>\n",
       "    </tr>\n",
       "    <tr>\n",
       "      <th>2</th>\n",
       "      <td>2</td>\n",
       "      <td>Work</td>\n",
       "      <td>pop</td>\n",
       "      <td>Rihanna</td>\n",
       "      <td>2016</td>\n",
       "      <td>[Chorus: Rihanna]\\nWork, work, work, work, wor...</td>\n",
       "      <td>7871555</td>\n",
       "      <td>3</td>\n",
       "      <td>[work, work, work, work, work, work, said, haf...</td>\n",
       "      <td>-0.9978</td>\n",
       "    </tr>\n",
       "    <tr>\n",
       "      <th>3</th>\n",
       "      <td>3</td>\n",
       "      <td>Too Good at Goodbyes</td>\n",
       "      <td>pop</td>\n",
       "      <td>Sam Smith</td>\n",
       "      <td>2017</td>\n",
       "      <td>[Verse 1]\\nYou must think that I'm stupid\\nYou...</td>\n",
       "      <td>7784454</td>\n",
       "      <td>4</td>\n",
       "      <td>[must, think, stupid, must, think, fool, must,...</td>\n",
       "      <td>-0.9770</td>\n",
       "    </tr>\n",
       "    <tr>\n",
       "      <th>4</th>\n",
       "      <td>4</td>\n",
       "      <td>7 rings</td>\n",
       "      <td>pop</td>\n",
       "      <td>Ariana Grande</td>\n",
       "      <td>2019</td>\n",
       "      <td>[Verse 1]\\nYeah, breakfast at Tiffany's and bo...</td>\n",
       "      <td>7387794</td>\n",
       "      <td>5</td>\n",
       "      <td>[yeah, breakfast, tiffani, bottl, bubbl, girl,...</td>\n",
       "      <td>0.9972</td>\n",
       "    </tr>\n",
       "    <tr>\n",
       "      <th>...</th>\n",
       "      <td>...</td>\n",
       "      <td>...</td>\n",
       "      <td>...</td>\n",
       "      <td>...</td>\n",
       "      <td>...</td>\n",
       "      <td>...</td>\n",
       "      <td>...</td>\n",
       "      <td>...</td>\n",
       "      <td>...</td>\n",
       "      <td>...</td>\n",
       "    </tr>\n",
       "    <tr>\n",
       "      <th>995</th>\n",
       "      <td>995</td>\n",
       "      <td>The Other</td>\n",
       "      <td>pop</td>\n",
       "      <td>Lauv</td>\n",
       "      <td>2015</td>\n",
       "      <td>[Verse 1]\\nLike a spotlight the water hits me\\...</td>\n",
       "      <td>464603</td>\n",
       "      <td>996</td>\n",
       "      <td>[like, spotlight, water, hit, ran, extra, cold...</td>\n",
       "      <td>-0.9000</td>\n",
       "    </tr>\n",
       "    <tr>\n",
       "      <th>996</th>\n",
       "      <td>996</td>\n",
       "      <td>Remind Me to Forget</td>\n",
       "      <td>pop</td>\n",
       "      <td>Kygo</td>\n",
       "      <td>2018</td>\n",
       "      <td>[Verse 1]\\nIt never fades away, it's staying\\n...</td>\n",
       "      <td>464450</td>\n",
       "      <td>997</td>\n",
       "      <td>[never, fade, away, stay, kiss, like, broken, ...</td>\n",
       "      <td>-0.9518</td>\n",
       "    </tr>\n",
       "    <tr>\n",
       "      <th>997</th>\n",
       "      <td>997</td>\n",
       "      <td>IU - 에잇 eight ft. SUGA English Translation</td>\n",
       "      <td>pop</td>\n",
       "      <td>Genius English Translations</td>\n",
       "      <td>2020</td>\n",
       "      <td>[Verse 1: IU]\\nSo are you happy now?\\nFinally ...</td>\n",
       "      <td>464424</td>\n",
       "      <td>998</td>\n",
       "      <td>[happi, final, happi, yeah, well, feel, like, ...</td>\n",
       "      <td>0.9861</td>\n",
       "    </tr>\n",
       "    <tr>\n",
       "      <th>998</th>\n",
       "      <td>998</td>\n",
       "      <td>Ive Been Waiting</td>\n",
       "      <td>pop</td>\n",
       "      <td>Lil Peep &amp; iLoveMakonnen</td>\n",
       "      <td>2019</td>\n",
       "      <td>[Intro: Lil Peep]\\nWhoa, yeah\\n\\n[Verse 1: iLo...</td>\n",
       "      <td>464078</td>\n",
       "      <td>999</td>\n",
       "      <td>[whoa, yeah, wait, wait, wait, 'caus, ca, get,...</td>\n",
       "      <td>-0.9969</td>\n",
       "    </tr>\n",
       "    <tr>\n",
       "      <th>999</th>\n",
       "      <td>999</td>\n",
       "      <td>Treasure</td>\n",
       "      <td>pop</td>\n",
       "      <td>Bruno Mars</td>\n",
       "      <td>2013</td>\n",
       "      <td>[Intro]\\nBaby squirrel, you's a sexy motherfuc...</td>\n",
       "      <td>463907</td>\n",
       "      <td>1000</td>\n",
       "      <td>[babi, squirrel, sexi, motherfuck, gim, gim, g...</td>\n",
       "      <td>0.9987</td>\n",
       "    </tr>\n",
       "  </tbody>\n",
       "</table>\n",
       "<p>1000 rows × 10 columns</p>\n",
       "</div>"
      ],
      "text/plain": [
       "     index                                       title  tag  \\\n",
       "0        0                                Shape of You  pop   \n",
       "1        1                               ​thank u next  pop   \n",
       "2        2                                        Work  pop   \n",
       "3        3                        Too Good at Goodbyes  pop   \n",
       "4        4                                     7 rings  pop   \n",
       "..     ...                                         ...  ...   \n",
       "995    995                                   The Other  pop   \n",
       "996    996                         Remind Me to Forget  pop   \n",
       "997    997  IU - 에잇 eight ft. SUGA English Translation  pop   \n",
       "998    998                            Ive Been Waiting  pop   \n",
       "999    999                                    Treasure  pop   \n",
       "\n",
       "                          artist  year  \\\n",
       "0                     Ed Sheeran  2017   \n",
       "1                  Ariana Grande  2018   \n",
       "2                        Rihanna  2016   \n",
       "3                      Sam Smith  2017   \n",
       "4                  Ariana Grande  2019   \n",
       "..                           ...   ...   \n",
       "995                         Lauv  2015   \n",
       "996                         Kygo  2018   \n",
       "997  Genius English Translations  2020   \n",
       "998     Lil Peep & iLoveMakonnen  2019   \n",
       "999                   Bruno Mars  2013   \n",
       "\n",
       "                                                lyrics     views  rank  \\\n",
       "0    [Verse 1]\\nThe club isn't the best place to fi...  14569727     1   \n",
       "1    [Verse 1]\\nThought I'd end up with Sean\\nBut h...   9072131     2   \n",
       "2    [Chorus: Rihanna]\\nWork, work, work, work, wor...   7871555     3   \n",
       "3    [Verse 1]\\nYou must think that I'm stupid\\nYou...   7784454     4   \n",
       "4    [Verse 1]\\nYeah, breakfast at Tiffany's and bo...   7387794     5   \n",
       "..                                                 ...       ...   ...   \n",
       "995  [Verse 1]\\nLike a spotlight the water hits me\\...    464603   996   \n",
       "996  [Verse 1]\\nIt never fades away, it's staying\\n...    464450   997   \n",
       "997  [Verse 1: IU]\\nSo are you happy now?\\nFinally ...    464424   998   \n",
       "998  [Intro: Lil Peep]\\nWhoa, yeah\\n\\n[Verse 1: iLo...    464078   999   \n",
       "999  [Intro]\\nBaby squirrel, you's a sexy motherfuc...    463907  1000   \n",
       "\n",
       "                                                tokens  valence  \n",
       "0    [club, best, place, find, lover, bar, go, frie...   0.9993  \n",
       "1    [thought, end, sean, wa, match, wrote, song, r...   0.9996  \n",
       "2    [work, work, work, work, work, work, said, haf...  -0.9978  \n",
       "3    [must, think, stupid, must, think, fool, must,...  -0.9770  \n",
       "4    [yeah, breakfast, tiffani, bottl, bubbl, girl,...   0.9972  \n",
       "..                                                 ...      ...  \n",
       "995  [like, spotlight, water, hit, ran, extra, cold...  -0.9000  \n",
       "996  [never, fade, away, stay, kiss, like, broken, ...  -0.9518  \n",
       "997  [happi, final, happi, yeah, well, feel, like, ...   0.9861  \n",
       "998  [whoa, yeah, wait, wait, wait, 'caus, ca, get,...  -0.9969  \n",
       "999  [babi, squirrel, sexi, motherfuck, gim, gim, g...   0.9987  \n",
       "\n",
       "[1000 rows x 10 columns]"
      ]
     },
     "execution_count": 66,
     "metadata": {},
     "output_type": "execute_result"
    }
   ],
   "source": [
    "songs_df"
   ]
  },
  {
   "cell_type": "code",
   "execution_count": 67,
   "metadata": {
    "id": "I6uxgFaXWuN1"
   },
   "outputs": [
    {
     "name": "stdout",
     "output_type": "stream",
     "text": [
      "Topics for artist: Ed Sheeran\n",
      "(0, '0.027*\"know\" + 0.017*\"love\" + 0.015*\"wa\" + 0.015*\"look\" + 0.014*\"could\" + 0.012*\"babi\" + 0.012*\"girl\" + 0.012*\"\\'\\'\" + 0.011*\"beauti\" + 0.009*\"na\"')\n",
      "(1, '0.049*\"come\" + 0.040*\"love\" + 0.028*\"oh\" + 0.019*\"bodi\" + 0.018*\"babi\" + 0.013*\"wa\" + 0.011*\"like\" + 0.008*\"day\" + 0.008*\"everi\" + 0.008*\"know\"')\n",
      "(2, '0.023*\"love\" + 0.020*\"ooh\" + 0.016*\"know\" + 0.011*\"way\" + 0.011*\"habit\" + 0.011*\"bad\" + 0.010*\"one\" + 0.010*\"lead\" + 0.009*\"take\" + 0.009*\"find\"')\n",
      "(3, '0.025*\"barcelona\" + 0.019*\"come\" + 0.019*\"border\" + 0.016*\"south\" + 0.014*\"like\" + 0.013*\"free\" + 0.011*\"water\" + 0.011*\"jump\" + 0.010*\"got\" + 0.010*\"happier\"')\n",
      "(4, '0.051*\"need\" + 0.032*\"man\" + 0.017*\"know\" + 0.013*\"burn\" + 0.012*\"see\" + 0.012*\"na\" + 0.011*\"wan\" + 0.010*\"fire\" + 0.009*\"come\" + 0.008*\"back\"')\n",
      "--------------------\n",
      "Topics for genre: pop\n",
      "(0, '0.048*\"yeah\" + 0.031*\"na\" + 0.022*\"like\" + 0.022*\"got\" + 0.020*\"babi\" + 0.015*\"wan\" + 0.014*\"know\" + 0.012*\"oh\" + 0.011*\"ai\" + 0.011*\"girl\"')\n",
      "(1, '0.035*\"love\" + 0.018*\"know\" + 0.015*\"like\" + 0.013*\"let\" + 0.013*\"need\" + 0.010*\"go\" + 0.010*\"wa\" + 0.009*\"could\" + 0.009*\"time\" + 0.009*\"say\"')\n",
      "(2, '0.012*\"like\" + 0.012*\"get\" + 0.012*\"ah\" + 0.011*\"love\" + 0.009*\"night\" + 0.009*\"wa\" + 0.009*\"come\" + 0.008*\"never\" + 0.008*\"take\" + 0.008*\"keep\"')\n",
      "(3, '0.064*\"oh\" + 0.027*\"ooh\" + 0.019*\"know\" + 0.018*\"la\" + 0.016*\"na\" + 0.012*\"love\" + 0.012*\"like\" + 0.011*\"hey\" + 0.010*\"go\" + 0.010*\"got\"')\n",
      "(4, '0.018*\"know\" + 0.015*\"go\" + 0.014*\"oh\" + 0.013*\"yeah\" + 0.013*\"one\" + 0.012*\"want\" + 0.012*\"like\" + 0.011*\"da\" + 0.010*\"love\" + 0.010*\"na\"')\n",
      "--------------------\n"
     ]
    }
   ],
   "source": [
    "artist_models = perform_lda_by_artist('Ed Sheeran')\n",
    "genre_models = perform_lda_by_genre()"
   ]
  },
  {
   "cell_type": "markdown",
   "metadata": {
    "id": "kKnt522MWWBL"
   },
   "source": [
    "# II - SONGS TO VECTORS"
   ]
  },
  {
   "cell_type": "markdown",
   "metadata": {
    "id": "_5uUAKFKXxEg"
   },
   "source": [
    "We will now try to generate meaningful dense embeddings thanks to the word2vec model, that we will train. We'll start by tokenizing our lyrics, with a different and simpler function that in the previous notebook, since this time we want word conjugations, declinations ... and we don't want to get rid of any stop word, we want the largest possible vocabulary."
   ]
  },
  {
   "cell_type": "markdown",
   "metadata": {
    "id": "fD4xXQclXwIR"
   },
   "source": [
    "### II.1 - CREATING THE MODEL"
   ]
  },
  {
   "cell_type": "code",
   "execution_count": 68,
   "metadata": {
    "_cell_guid": "61f9b0e5-e203-22c7-4cab-457133f7b80a",
    "id": "eLap2c0uYz6J",
    "outputId": "17177d2c-f82d-4bfb-dc83-6c0b66cbf6d2"
   },
   "outputs": [
    {
     "data": {
      "text/html": [
       "<div>\n",
       "<style scoped>\n",
       "    .dataframe tbody tr th:only-of-type {\n",
       "        vertical-align: middle;\n",
       "    }\n",
       "\n",
       "    .dataframe tbody tr th {\n",
       "        vertical-align: top;\n",
       "    }\n",
       "\n",
       "    .dataframe thead th {\n",
       "        text-align: right;\n",
       "    }\n",
       "</style>\n",
       "<table border=\"1\" class=\"dataframe\">\n",
       "  <thead>\n",
       "    <tr style=\"text-align: right;\">\n",
       "      <th></th>\n",
       "      <th>index</th>\n",
       "      <th>title</th>\n",
       "      <th>tag</th>\n",
       "      <th>artist</th>\n",
       "      <th>year</th>\n",
       "      <th>lyrics</th>\n",
       "      <th>views</th>\n",
       "      <th>rank</th>\n",
       "      <th>tokens</th>\n",
       "      <th>valence</th>\n",
       "    </tr>\n",
       "  </thead>\n",
       "  <tbody>\n",
       "    <tr>\n",
       "      <th>0</th>\n",
       "      <td>0</td>\n",
       "      <td>Shape of You</td>\n",
       "      <td>pop</td>\n",
       "      <td>Ed Sheeran</td>\n",
       "      <td>2017</td>\n",
       "      <td>[Verse 1]\\nThe club isn't the best place to fi...</td>\n",
       "      <td>14569727</td>\n",
       "      <td>1</td>\n",
       "      <td>[the, club, isn't, the, best, place, to, find,...</td>\n",
       "      <td>0.9993</td>\n",
       "    </tr>\n",
       "    <tr>\n",
       "      <th>1</th>\n",
       "      <td>1</td>\n",
       "      <td>​thank u next</td>\n",
       "      <td>pop</td>\n",
       "      <td>Ariana Grande</td>\n",
       "      <td>2018</td>\n",
       "      <td>[Verse 1]\\nThought I'd end up with Sean\\nBut h...</td>\n",
       "      <td>9072131</td>\n",
       "      <td>2</td>\n",
       "      <td>[thought, i'd, end, up, with, sean, but, he, w...</td>\n",
       "      <td>0.9996</td>\n",
       "    </tr>\n",
       "    <tr>\n",
       "      <th>2</th>\n",
       "      <td>2</td>\n",
       "      <td>Work</td>\n",
       "      <td>pop</td>\n",
       "      <td>Rihanna</td>\n",
       "      <td>2016</td>\n",
       "      <td>[Chorus: Rihanna]\\nWork, work, work, work, wor...</td>\n",
       "      <td>7871555</td>\n",
       "      <td>3</td>\n",
       "      <td>[work, ,, work, ,, work, ,, work, ,, work, ,, ...</td>\n",
       "      <td>-0.9978</td>\n",
       "    </tr>\n",
       "    <tr>\n",
       "      <th>3</th>\n",
       "      <td>3</td>\n",
       "      <td>Too Good at Goodbyes</td>\n",
       "      <td>pop</td>\n",
       "      <td>Sam Smith</td>\n",
       "      <td>2017</td>\n",
       "      <td>[Verse 1]\\nYou must think that I'm stupid\\nYou...</td>\n",
       "      <td>7784454</td>\n",
       "      <td>4</td>\n",
       "      <td>[you, must, think, that, i'm, stupid, you, mus...</td>\n",
       "      <td>-0.9770</td>\n",
       "    </tr>\n",
       "    <tr>\n",
       "      <th>4</th>\n",
       "      <td>4</td>\n",
       "      <td>7 rings</td>\n",
       "      <td>pop</td>\n",
       "      <td>Ariana Grande</td>\n",
       "      <td>2019</td>\n",
       "      <td>[Verse 1]\\nYeah, breakfast at Tiffany's and bo...</td>\n",
       "      <td>7387794</td>\n",
       "      <td>5</td>\n",
       "      <td>[yeah, ,, breakfast, at, tiffany's, and, bottl...</td>\n",
       "      <td>0.9972</td>\n",
       "    </tr>\n",
       "    <tr>\n",
       "      <th>...</th>\n",
       "      <td>...</td>\n",
       "      <td>...</td>\n",
       "      <td>...</td>\n",
       "      <td>...</td>\n",
       "      <td>...</td>\n",
       "      <td>...</td>\n",
       "      <td>...</td>\n",
       "      <td>...</td>\n",
       "      <td>...</td>\n",
       "      <td>...</td>\n",
       "    </tr>\n",
       "    <tr>\n",
       "      <th>995</th>\n",
       "      <td>995</td>\n",
       "      <td>The Other</td>\n",
       "      <td>pop</td>\n",
       "      <td>Lauv</td>\n",
       "      <td>2015</td>\n",
       "      <td>[Verse 1]\\nLike a spotlight the water hits me\\...</td>\n",
       "      <td>464603</td>\n",
       "      <td>996</td>\n",
       "      <td>[like, a, spotlight, the, water, hits, me, ran...</td>\n",
       "      <td>-0.9000</td>\n",
       "    </tr>\n",
       "    <tr>\n",
       "      <th>996</th>\n",
       "      <td>996</td>\n",
       "      <td>Remind Me to Forget</td>\n",
       "      <td>pop</td>\n",
       "      <td>Kygo</td>\n",
       "      <td>2018</td>\n",
       "      <td>[Verse 1]\\nIt never fades away, it's staying\\n...</td>\n",
       "      <td>464450</td>\n",
       "      <td>997</td>\n",
       "      <td>[it, never, fades, away, ,, it's, staying, you...</td>\n",
       "      <td>-0.9518</td>\n",
       "    </tr>\n",
       "    <tr>\n",
       "      <th>997</th>\n",
       "      <td>997</td>\n",
       "      <td>IU - 에잇 eight ft. SUGA English Translation</td>\n",
       "      <td>pop</td>\n",
       "      <td>Genius English Translations</td>\n",
       "      <td>2020</td>\n",
       "      <td>[Verse 1: IU]\\nSo are you happy now?\\nFinally ...</td>\n",
       "      <td>464424</td>\n",
       "      <td>998</td>\n",
       "      <td>[so, are, you, happy, now, ?, finally, happy, ...</td>\n",
       "      <td>0.9861</td>\n",
       "    </tr>\n",
       "    <tr>\n",
       "      <th>998</th>\n",
       "      <td>998</td>\n",
       "      <td>Ive Been Waiting</td>\n",
       "      <td>pop</td>\n",
       "      <td>Lil Peep &amp; iLoveMakonnen</td>\n",
       "      <td>2019</td>\n",
       "      <td>[Intro: Lil Peep]\\nWhoa, yeah\\n\\n[Verse 1: iLo...</td>\n",
       "      <td>464078</td>\n",
       "      <td>999</td>\n",
       "      <td>[whoa, ,, yeah, i've, been, waiting, (, i've, ...</td>\n",
       "      <td>-0.9969</td>\n",
       "    </tr>\n",
       "    <tr>\n",
       "      <th>999</th>\n",
       "      <td>999</td>\n",
       "      <td>Treasure</td>\n",
       "      <td>pop</td>\n",
       "      <td>Bruno Mars</td>\n",
       "      <td>2013</td>\n",
       "      <td>[Intro]\\nBaby squirrel, you's a sexy motherfuc...</td>\n",
       "      <td>463907</td>\n",
       "      <td>1000</td>\n",
       "      <td>[baby, squirrel, ,, you's, a, sexy, motherfuck...</td>\n",
       "      <td>0.9987</td>\n",
       "    </tr>\n",
       "  </tbody>\n",
       "</table>\n",
       "<p>1000 rows × 10 columns</p>\n",
       "</div>"
      ],
      "text/plain": [
       "     index                                       title  tag  \\\n",
       "0        0                                Shape of You  pop   \n",
       "1        1                               ​thank u next  pop   \n",
       "2        2                                        Work  pop   \n",
       "3        3                        Too Good at Goodbyes  pop   \n",
       "4        4                                     7 rings  pop   \n",
       "..     ...                                         ...  ...   \n",
       "995    995                                   The Other  pop   \n",
       "996    996                         Remind Me to Forget  pop   \n",
       "997    997  IU - 에잇 eight ft. SUGA English Translation  pop   \n",
       "998    998                            Ive Been Waiting  pop   \n",
       "999    999                                    Treasure  pop   \n",
       "\n",
       "                          artist  year  \\\n",
       "0                     Ed Sheeran  2017   \n",
       "1                  Ariana Grande  2018   \n",
       "2                        Rihanna  2016   \n",
       "3                      Sam Smith  2017   \n",
       "4                  Ariana Grande  2019   \n",
       "..                           ...   ...   \n",
       "995                         Lauv  2015   \n",
       "996                         Kygo  2018   \n",
       "997  Genius English Translations  2020   \n",
       "998     Lil Peep & iLoveMakonnen  2019   \n",
       "999                   Bruno Mars  2013   \n",
       "\n",
       "                                                lyrics     views  rank  \\\n",
       "0    [Verse 1]\\nThe club isn't the best place to fi...  14569727     1   \n",
       "1    [Verse 1]\\nThought I'd end up with Sean\\nBut h...   9072131     2   \n",
       "2    [Chorus: Rihanna]\\nWork, work, work, work, wor...   7871555     3   \n",
       "3    [Verse 1]\\nYou must think that I'm stupid\\nYou...   7784454     4   \n",
       "4    [Verse 1]\\nYeah, breakfast at Tiffany's and bo...   7387794     5   \n",
       "..                                                 ...       ...   ...   \n",
       "995  [Verse 1]\\nLike a spotlight the water hits me\\...    464603   996   \n",
       "996  [Verse 1]\\nIt never fades away, it's staying\\n...    464450   997   \n",
       "997  [Verse 1: IU]\\nSo are you happy now?\\nFinally ...    464424   998   \n",
       "998  [Intro: Lil Peep]\\nWhoa, yeah\\n\\n[Verse 1: iLo...    464078   999   \n",
       "999  [Intro]\\nBaby squirrel, you's a sexy motherfuc...    463907  1000   \n",
       "\n",
       "                                                tokens  valence  \n",
       "0    [the, club, isn't, the, best, place, to, find,...   0.9993  \n",
       "1    [thought, i'd, end, up, with, sean, but, he, w...   0.9996  \n",
       "2    [work, ,, work, ,, work, ,, work, ,, work, ,, ...  -0.9978  \n",
       "3    [you, must, think, that, i'm, stupid, you, mus...  -0.9770  \n",
       "4    [yeah, ,, breakfast, at, tiffany's, and, bottl...   0.9972  \n",
       "..                                                 ...      ...  \n",
       "995  [like, a, spotlight, the, water, hits, me, ran...  -0.9000  \n",
       "996  [it, never, fades, away, ,, it's, staying, you...  -0.9518  \n",
       "997  [so, are, you, happy, now, ?, finally, happy, ...   0.9861  \n",
       "998  [whoa, ,, yeah, i've, been, waiting, (, i've, ...  -0.9969  \n",
       "999  [baby, squirrel, ,, you's, a, sexy, motherfuck...   0.9987  \n",
       "\n",
       "[1000 rows x 10 columns]"
      ]
     },
     "execution_count": 68,
     "metadata": {},
     "output_type": "execute_result"
    }
   ],
   "source": [
    "def tokenize(lyrics: str) -> list[str]:\n",
    "    \"\"\"Tokenizes lyrics by removing section headers, separating symbols, and converting to lowercase.\n",
    "\n",
    "    Args:\n",
    "        lyrics (str): The input song lyrics.\n",
    "\n",
    "    Returns:\n",
    "        list[str]: A list of tokens (words and separated symbols).\n",
    "    \"\"\"\n",
    "    # Remove section headers like [Verse 1], [Chorus], etc. using regular expressions\n",
    "    lyrics = re.sub(r'\\[.*?\\]', '', lyrics)\n",
    "\n",
    "    # Define a list of symbols to be separated\n",
    "    symbols = [\n",
    "    \".\", \",\", \"!\", \"?\", \";\", \":\",'\"', \"(\", \")\", \"[\", \"]\", \"{\", \"}\",\n",
    "    \"-\", \"–\", \"—\", \"_\", \"/\", \"\\\\\",\n",
    "    \"&\", \"*\", \"@\", \"#\", \"%\", \"^\", \"°\",\n",
    "    \"+\", \"=\", \"<\", \">\", \"|\", \"~\", \"`\",\n",
    "    ]\n",
    "\n",
    "    # Separate symbols by adding spaces around them. This ensures that 2 tokens\n",
    "    # (\"really\" and \"?\") will be generated from \"really?\".\n",
    "    for sym in symbols:\n",
    "        lyrics = lyrics.replace(sym, f\" {sym} \")\n",
    "\n",
    "    # Convert lyrics to lowercase and split into tokens by whitespace\n",
    "    return lyrics.lower().split()\n",
    "\n",
    "# Apply the 'tokenize' function to the 'lyrics' column of the 'songs_df' DataFrame\n",
    "# and store the resulting tokens in a new column named 'tokens'\n",
    "songs_df['tokens'] = songs_df['lyrics'].apply(tokenize)\n",
    "songs_df # Display the DataFrame with the new 'tokens' column"
   ]
  },
  {
   "cell_type": "code",
   "execution_count": 69,
   "metadata": {
    "_cell_guid": "a6a957b3-8bec-4d26-6cc4-6a19d3d24f7d",
    "id": "8twt6CUNYz6K"
   },
   "outputs": [],
   "source": [
    "# Initialize the Word2Vec model with specified parameters.\n",
    "text_corpus = songs_df[songs_df['rank'] <= 120000]['tokens'].tolist()\n",
    "\n",
    "min_word_count = 1\n",
    "num_workers = multiprocessing.cpu_count()\n",
    "context_size = 7\n",
    "downsampling = 1e-1\n",
    "seed = 1\n",
    "num_features = 50\n",
    "\n",
    "songs2vec = w2v.Word2Vec(\n",
    "    sg=1,\n",
    "    seed=seed,\n",
    "    workers=num_workers,\n",
    "    min_count=min_word_count,\n",
    "    window=context_size,\n",
    "    vector_size=num_features,\n",
    "    sample=downsampling\n",
    ")\n",
    "\n",
    "songs2vec.build_vocab(text_corpus)\n"
   ]
  },
  {
   "cell_type": "code",
   "execution_count": 70,
   "metadata": {
    "_cell_guid": "18363422-5ac9-77aa-1f58-cd745000ac6c",
    "id": "Ih3Ty4lSYz6M",
    "outputId": "987a0648-c3f4-4006-a854-e0e8bea410fe"
   },
   "outputs": [
    {
     "name": "stdout",
     "output_type": "stream",
     "text": [
      "--- 0.721052885055542 seconds ---\n"
     ]
    }
   ],
   "source": [
    "# Train the model on our dataset\n",
    "start_time = time.time()\n",
    "\n",
    "songs2vec.train(text_corpus, total_examples=songs2vec.corpus_count, epochs=1)\n",
    "\n",
    "if not os.path.exists(\"trained\"):\n",
    "    os.makedirs(\"trained\")\n",
    "\n",
    "songs2vec.save(os.path.join(\"trained\", \"songs2vectors.w2v\"))\n",
    "\n",
    "print(\"--- %s seconds ---\" % (time.time() - start_time))"
   ]
  },
  {
   "cell_type": "code",
   "execution_count": 71,
   "metadata": {
    "_cell_guid": "e0690a4a-10f5-d2ce-9dee-480a8b77d114",
    "id": "QE1pEZ59Yz6N"
   },
   "outputs": [],
   "source": [
    "songs2vec = w2v.Word2Vec.load(os.path.join(\"trained\", \"songs2vectors.w2v\"))"
   ]
  },
  {
   "cell_type": "markdown",
   "metadata": {
    "id": "1iDqSaTIbvRF"
   },
   "source": [
    "We have now trained our model, built a vocabulary and setting a vector embedding for each token in the vocaburay. Let's take a look a these embeddings to make sure they make sense."
   ]
  },
  {
   "cell_type": "code",
   "execution_count": 72,
   "metadata": {
    "id": "FpE3DJLPYz6Q",
    "outputId": "94d2e583-8b32-4f78-d98b-e9a52212fa71"
   },
   "outputs": [
    {
     "data": {
      "text/plain": [
       "[('touch', 0.8919926285743713),\n",
       " ('tired', 0.8919310569763184),\n",
       " ('knows', 0.8898550868034363),\n",
       " ('songs', 0.8883442878723145),\n",
       " ('worth', 0.8877366185188293),\n",
       " ('lie', 0.8858993053436279),\n",
       " ('after', 0.8832060694694519),\n",
       " ('lies', 0.8821540474891663),\n",
       " ('trust', 0.8810770511627197),\n",
       " ('learn', 0.8806354403495789)]"
      ]
     },
     "execution_count": 72,
     "metadata": {},
     "output_type": "execute_result"
    }
   ],
   "source": [
    "songs2vec.wv.most_similar(\"love\")"
   ]
  },
  {
   "cell_type": "code",
   "execution_count": 73,
   "metadata": {
    "id": "uwd6vxuCYz6S",
    "outputId": "00cf155c-39dc-48c5-c3b3-71ad0d318728"
   },
   "outputs": [
    {
     "data": {
      "text/plain": [
       "[('dog', 0.9857643246650696),\n",
       " ('closet', 0.9834131002426147),\n",
       " ('flying', 0.9823722243309021),\n",
       " ('nicki', 0.982118546962738),\n",
       " ('thirsty', 0.9819675087928772),\n",
       " ('slightly', 0.9817320704460144),\n",
       " ('bond', 0.9814490675926208),\n",
       " ('handsome', 0.9811965823173523),\n",
       " ('plastic', 0.9809665083885193),\n",
       " ('crowded', 0.9809281826019287)]"
      ]
     },
     "execution_count": 73,
     "metadata": {},
     "output_type": "execute_result"
    }
   ],
   "source": [
    "songs2vec.wv.most_similar(\"bird\")"
   ]
  },
  {
   "cell_type": "markdown",
   "metadata": {},
   "source": [
    "As we can see, the embeddings seem rather reliable, according to the previous test. Our dataset is so large that even with trained with only 1 epoch, the models achieves satisfying performances."
   ]
  },
  {
   "cell_type": "markdown",
   "metadata": {
    "id": "gJo_yzb5bdA6"
   },
   "source": [
    "### II.2 - COMPUTING SONGS EMBEDDINGS"
   ]
  },
  {
   "cell_type": "markdown",
   "metadata": {
    "id": "NHaqmOFYcScE"
   },
   "source": [
    "Now that we have embeddings for words and know they work well, let's compute the song embeddings."
   ]
  },
  {
   "cell_type": "code",
   "execution_count": 74,
   "metadata": {
    "_cell_guid": "3d11b30f-e526-dd24-9084-d5f7dfd00058",
    "id": "6Mw66ksWYz6V"
   },
   "outputs": [
    {
     "name": "stderr",
     "output_type": "stream",
     "text": [
      "C:\\Users\\GuillaumeGuers\\AppData\\Local\\Temp\\ipykernel_42496\\2283949350.py:39: SettingWithCopyWarning:\n",
      "\n",
      "\n",
      "A value is trying to be set on a copy of a slice from a DataFrame.\n",
      "Try using .loc[row_indexer,col_indexer] = value instead\n",
      "\n",
      "See the caveats in the documentation: https://pandas.pydata.org/pandas-docs/stable/user_guide/indexing.html#returning-a-view-versus-a-copy\n",
      "\n"
     ]
    }
   ],
   "source": [
    "def songVector(song):\n",
    "    \"\"\"\n",
    "    Computes a song embedding by averaging the word embeddings of its lyrics.\n",
    "\n",
    "    Args:\n",
    "        song (pd.Series): A row from the songs DataFrame representing a song.\n",
    "\n",
    "    Returns:\n",
    "        np.ndarray: The normalized song embedding vector.\n",
    "    \"\"\"\n",
    "    \n",
    "    # Get the tokenized lyrics of the song\n",
    "    words = song['tokens']\n",
    "    # Initialize an empty vector to store the song embedding\n",
    "    vector_sum = np.zeros(songs2vec.vector_size)\n",
    "\n",
    "    # Iterate through each word in the lyrics\n",
    "    for word in words:\n",
    "        vector_sum = vector_sum + songs2vec.wv[word]\n",
    "\n",
    "    if len(words) > 0 :\n",
    "      vector_sum = vector_sum / len(words)  # Normalize the vector sum\n",
    "\n",
    "    # Reshape the vector sum to a 2D array\n",
    "    vector_sum = vector_sum.reshape(1, -1)\n",
    "    # Normalize the vector sum to unit length\n",
    "    normalised_vector_sum = sklearn.preprocessing.normalize(vector_sum)\n",
    "    # Return the normalized song embedding\n",
    "    return normalised_vector_sum\n",
    "\n",
    "# Apply the songVector function to each song in the DataFrame to create song embeddings\n",
    "songs_df['song_vector'] = songs_df.apply(songVector, axis=1)\n",
    "# Stack the song embeddings into a matrix\n",
    "song_embeddings_matrix = np.stack(songs_df['song_vector'].apply(np.ravel).values)\n",
    "\n",
    "# Create a temporary DataFrame with title, artist, and song vector\n",
    "temp_df = songs_df[['title', 'artist', 'song_vector']]\n",
    "# Flatten the song vectors in the temporary DataFrame\n",
    "temp_df['song_vector'] = temp_df['song_vector'].apply(np.ravel)\n",
    "\n",
    "# Group by artist and compute average embedding for each artist\n",
    "artist_embeddings = (\n",
    "    temp_df.groupby('artist')['song_vector']\n",
    "    .apply(lambda vectors: np.mean(np.vstack(vectors), axis=0))\n",
    "    .reset_index(name='artist_vector')\n",
    ")\n",
    "\n",
    "# Merge the artist embeddings with the artist DataFrame\n",
    "artist_df = pd.merge(artist_df, artist_embeddings, on='artist', how='inner')\n",
    "# Stack all artist vectors into a matrix\n",
    "artist_embeddings_matrix = np.vstack(artist_df['artist_vector'].values)"
   ]
  },
  {
   "cell_type": "code",
   "execution_count": 75,
   "metadata": {
    "id": "ttJZyVJkURTS"
   },
   "outputs": [],
   "source": [
    "def most_similar_songs(song_title, top_n=5):\n",
    "    \"\"\"\n",
    "    Given a song title, print the top N most similar songs based on embedding vectors.\n",
    "\n",
    "    Parameters:\n",
    "    - song_title: Title of the song to compare against.\n",
    "    - top_n: Number of similar songs to return.\n",
    "\n",
    "    Returns:\n",
    "    - Nothing.\n",
    "    \"\"\"\n",
    "\n",
    "    # Get the target song's embedding\n",
    "    if song_title not in songs_df['title'].values:\n",
    "        raise ValueError(f\"Song '{song_title}' not found in the DataFrame.\")\n",
    "\n",
    "    target_embedding = songs_df[songs_df['title'] == song_title]['song_vector'].values[0].reshape(1, -1)\n",
    "\n",
    "    # Compute cosine similarities\n",
    "    similarities = cosine_similarity(target_embedding, song_embeddings_matrix)[0]\n",
    "    final_df = songs_df.drop(columns=['tokens','song_vector'])\n",
    "    # Add similarity scores to the DataFrame\n",
    "    final_df['similarity'] = similarities\n",
    "\n",
    "    # Exclude the target song itself and get the top N similar songs\n",
    "    similar_songs = final_df[final_df['title'] != song_title].sort_values(by='similarity', ascending=False).head(top_n)\n",
    "    print(f\"Top {top_n} most similar songs to '{song_title}':\")\n",
    "    print(\"=\" * 60)\n",
    "    for i, row in similar_songs.iterrows():\n",
    "        title = row['title']\n",
    "        similarity = row['similarity']\n",
    "        year = row['year']\n",
    "        artist = row['artist']\n",
    "        rank = row['rank']\n",
    "        valence = row['valence']\n",
    "        lyrics_snippet = row['lyrics'][:100] + '...'  # Show first 100 characters\n",
    "        print(f\"🎵 {title}\")\n",
    "        print(f\"   Artist: {artist}\")\n",
    "        print(f\"   Year: {year}\")\n",
    "        print(f\"   Similarity: {similarity:.4f}\")\n",
    "        print(f\"   Valence: {valence}\")\n",
    "        print(f\"   Lyrics: {lyrics_snippet}\")\n",
    "        print(\"-\" * 60)\n",
    "    return\n",
    "\n",
    "def most_similar_artists(artist_name, top_n=5):\n",
    "    \"\"\"\n",
    "    Given an artist name, print the top N most similar artists based on averaged song embeddings.\n",
    "\n",
    "    Parameters:\n",
    "    - artist_name: Name of the artist to compare\n",
    "    - top_n: Number of similar artists to return\n",
    "\n",
    "    Returns:\n",
    "    - Nothing\n",
    "    \"\"\"\n",
    "\n",
    "    # Check if the artist exists\n",
    "    if artist_name not in artist_df['artist'].values:\n",
    "        raise ValueError(f\"Artist '{artist_name}' not found.\")\n",
    "\n",
    "    # Get target vector\n",
    "    target_vector = artist_df.loc[artist_df['artist'] == artist_name, 'artist_vector'].values[0]\n",
    "    target_vector = target_vector.reshape(1, -1)\n",
    "\n",
    "    # Compute cosine similarities\n",
    "    similarities = cosine_similarity(target_vector, artist_embeddings_matrix)[0]\n",
    "    df=artist_df.copy()\n",
    "    # Attach similarities\n",
    "    df['similarity'] = similarities\n",
    "\n",
    "    # Remove the target artist and sort\n",
    "    df = df[df['artist'] != artist_name] \\\n",
    "                .sort_values(by='similarity', ascending=False) \\\n",
    "                .head(top_n)\n",
    "                \n",
    "    print(f\"Top {top_n} most similar artists to '{artist_name}':\")\n",
    "    print(\"=\" * 60)\n",
    "    for i, row in df.iterrows():\n",
    "        print(f\"   Artist: {row['artist']}\")\n",
    "        print(f\"   Similarity: {row['similarity']:.4f}\")\n",
    "        print(f\"   Valence: {row['valence']}\")\n",
    "        print(f\"   Total views: {row['total_views']}\")\n",
    "        print(\"-\" * 60)\n",
    "\n",
    "    return\n"
   ]
  },
  {
   "cell_type": "markdown",
   "metadata": {
    "id": "qTaZ-_0odo40"
   },
   "source": [
    "Let's play and find what are the closest songs/artists to other songs/artists according to their lyrics !\n"
   ]
  },
  {
   "cell_type": "code",
   "execution_count": null,
   "metadata": {
    "id": "ao3A8dUDURTT",
    "outputId": "24722284-e80a-4186-df52-20c6d5eaeddd"
   },
   "outputs": [
    {
     "name": "stdout",
     "output_type": "stream",
     "text": [
      "Top 5 most similar songs to 'Shape of You':\n",
      "============================================================\n",
      "🎵 ​​breathin\n",
      "   Artist: Ariana Grande\n",
      "   Year: 2018\n",
      "   Similarity: 0.9966\n",
      "   Valence: 0.9224\n",
      "   Lyrics: [Intro]\n",
      "​​lacigam gnihtemos od oT\n",
      "​​thgin laiceps ruoy s'thginot tuB\n",
      "\n",
      "[Verse 1]\n",
      "Some days, things ju...\n",
      "------------------------------------------------------------\n",
      "🎵 Luis Fonsi  Daddy Yankee - Despacito Remix ft. Justin Bieber English Translation\n",
      "   Artist: Genius English Translations\n",
      "   Year: 2017\n",
      "   Similarity: 0.9966\n",
      "   Valence: 0.9902\n",
      "   Lyrics: [Intro: Justin Bieber]\n",
      "Come on over in my direction\n",
      "So thankful for that, it's such a blessin', yeah...\n",
      "------------------------------------------------------------\n",
      "🎵 Moonlight\n",
      "   Artist: Ariana Grande\n",
      "   Year: 2016\n",
      "   Similarity: 0.9965\n",
      "   Valence: 0.9488\n",
      "   Lyrics: [Verse 1]\n",
      "The sun is setting and you're right here by my side\n",
      "And the movie is playing, but we won't...\n",
      "------------------------------------------------------------\n",
      "🎵 West Coast\n",
      "   Artist: Lana Del Rey\n",
      "   Year: 2014\n",
      "   Similarity: 0.9965\n",
      "   Valence: 0.9989\n",
      "   Lyrics: [Produced by Dan Auerbach]\n",
      "[Written by Lana Del Rey and Rick Nowels]\n",
      "\n",
      "[Verse 1]\n",
      "Down on the West coa...\n",
      "------------------------------------------------------------\n",
      "🎵 National Anthem\n",
      "   Artist: Lana Del Rey\n",
      "   Year: 2012\n",
      "   Similarity: 0.9963\n",
      "   Valence: 0.9989\n",
      "   Lyrics: [Video Prelude]\n",
      "\n",
      "[Intro]\n",
      "Money is the anthem of success\n",
      "So before we go out, what's your address?\n",
      "\n",
      "[...\n",
      "------------------------------------------------------------\n"
     ]
    }
   ],
   "source": [
    "most_similar_songs(\"Love Again\", top_n=5)"
   ]
  },
  {
   "cell_type": "code",
   "execution_count": null,
   "metadata": {
    "id": "I-MtlZuUrDgK"
   },
   "outputs": [
    {
     "name": "stdout",
     "output_type": "stream",
     "text": [
      "Top 5 most similar artists to 'Ed Sheeran':\n",
      "============================================================\n",
      "   Artist: Taylor Swift\n",
      "   Similarity: 0.9993\n",
      "   Valence: 0.4766114457831326\n",
      "   Total views: 77642721\n",
      "------------------------------------------------------------\n",
      "   Artist: One Direction\n",
      "   Similarity: 0.9993\n",
      "   Valence: 0.4559825\n",
      "   Total views: 15999395\n",
      "------------------------------------------------------------\n",
      "   Artist: Halsey\n",
      "   Similarity: 0.9991\n",
      "   Valence: 0.1561876288659793\n",
      "   Total views: 21476837\n",
      "------------------------------------------------------------\n",
      "   Artist: Ed Sheeran & Beyonc\n",
      "   Similarity: 0.9990\n",
      "   Valence: 0.9991\n",
      "   Total views: 1949672\n",
      "------------------------------------------------------------\n",
      "   Artist: Kanye West\n",
      "   Similarity: 0.9989\n",
      "   Valence: 0.1738341463414634\n",
      "   Total views: 159846342\n",
      "------------------------------------------------------------\n"
     ]
    }
   ],
   "source": [
    "most_similar_artists(\"The Doors\", top_n=5)"
   ]
  },
  {
   "cell_type": "markdown",
   "metadata": {
    "id": "DxLcHbCKe2IC"
   },
   "source": [
    "### II.3 REDUCING DIMENSIONALITY\n",
    "Reducing dimensionality is crucial for making sense of complex data like song embeddings. t-SNE works really well for this because it keeps similar songs close together when mapping everything into a simpler, low-dimensional space. This makes it easier to visualize data, spot patterns, find outliers, and group songs based on lyrics, which is great for things like music recommendations or building playlists. Let's dive into it!"
   ]
  },
  {
   "cell_type": "code",
   "execution_count": 79,
   "metadata": {
    "_cell_guid": "031560ae-0460-2fed-6ef3-6fc5840db6ad",
    "id": "zM0GX5C0Yz6X",
    "outputId": "61756205-7750-440d-f9b4-4df0cee64c60"
   },
   "outputs": [
    {
     "name": "stdout",
     "output_type": "stream",
     "text": [
      "[t-SNE] Computing 91 nearest neighbors...\n",
      "[t-SNE] Indexed 1000 samples in 0.005s...\n",
      "[t-SNE] Computed neighbors for 1000 samples in 0.101s...\n",
      "[t-SNE] Computed conditional probabilities for sample 1000 / 1000\n",
      "[t-SNE] Mean sigma: 0.034771\n",
      "[t-SNE] Computed conditional probabilities in 0.056s\n"
     ]
    },
    {
     "name": "stderr",
     "output_type": "stream",
     "text": [
      "c:\\Users\\GuillaumeGuers\\Entornos\\test\\Lib\\site-packages\\sklearn\\manifold\\_t_sne.py:1164: FutureWarning:\n",
      "\n",
      "'n_iter' was renamed to 'max_iter' in version 1.5 and will be removed in 1.7.\n",
      "\n"
     ]
    },
    {
     "name": "stdout",
     "output_type": "stream",
     "text": [
      "[t-SNE] Iteration 50: error = 66.3671417, gradient norm = 0.0114263 (50 iterations in 0.215s)\n",
      "[t-SNE] Iteration 100: error = 66.1180115, gradient norm = 0.0012524 (50 iterations in 0.190s)\n",
      "[t-SNE] Iteration 150: error = 66.1148834, gradient norm = 0.0014106 (50 iterations in 0.182s)\n",
      "[t-SNE] Iteration 200: error = 66.1146164, gradient norm = 0.0015127 (50 iterations in 0.194s)\n",
      "[t-SNE] Iteration 250: error = 66.1159439, gradient norm = 0.0070701 (50 iterations in 0.191s)\n",
      "[t-SNE] KL divergence after 250 iterations with early exaggeration: 66.115944\n",
      "[t-SNE] KL divergence after 251 iterations: 179769313486231570814527423731704356798070567525844996598917476803157260780028538760589558632766878171540458953514382464234321326889464182768467546703537516986049910576551282076245490090389328944075868508455133942304583236903222948165808559332123348274797826204144723168738177180919299881250404026184124858368.000000\n",
      "--- 1.2213099002838135 seconds ---\n"
     ]
    },
    {
     "data": {
      "text/html": [
       "<div>\n",
       "<style scoped>\n",
       "    .dataframe tbody tr th:only-of-type {\n",
       "        vertical-align: middle;\n",
       "    }\n",
       "\n",
       "    .dataframe tbody tr th {\n",
       "        vertical-align: top;\n",
       "    }\n",
       "\n",
       "    .dataframe thead th {\n",
       "        text-align: right;\n",
       "    }\n",
       "</style>\n",
       "<table border=\"1\" class=\"dataframe\">\n",
       "  <thead>\n",
       "    <tr style=\"text-align: right;\">\n",
       "      <th></th>\n",
       "      <th>level_0</th>\n",
       "      <th>index</th>\n",
       "      <th>title</th>\n",
       "      <th>tag</th>\n",
       "      <th>artist</th>\n",
       "      <th>year</th>\n",
       "      <th>lyrics</th>\n",
       "      <th>views</th>\n",
       "      <th>rank</th>\n",
       "      <th>tokens</th>\n",
       "      <th>valence</th>\n",
       "      <th>song_vector</th>\n",
       "      <th>X</th>\n",
       "      <th>Y</th>\n",
       "    </tr>\n",
       "  </thead>\n",
       "  <tbody>\n",
       "    <tr>\n",
       "      <th>0</th>\n",
       "      <td>0</td>\n",
       "      <td>0</td>\n",
       "      <td>Shape of You</td>\n",
       "      <td>pop</td>\n",
       "      <td>Ed Sheeran</td>\n",
       "      <td>2017</td>\n",
       "      <td>[Verse 1]\\nThe club isn't the best place to fi...</td>\n",
       "      <td>14569727</td>\n",
       "      <td>1</td>\n",
       "      <td>[the, club, isn't, the, best, place, to, find,...</td>\n",
       "      <td>0.9993</td>\n",
       "      <td>[[-0.09835523530811562, -0.017306410342092945,...</td>\n",
       "      <td>0.038348</td>\n",
       "      <td>0.000199</td>\n",
       "    </tr>\n",
       "    <tr>\n",
       "      <th>1</th>\n",
       "      <td>1</td>\n",
       "      <td>1</td>\n",
       "      <td>​thank u next</td>\n",
       "      <td>pop</td>\n",
       "      <td>Ariana Grande</td>\n",
       "      <td>2018</td>\n",
       "      <td>[Verse 1]\\nThought I'd end up with Sean\\nBut h...</td>\n",
       "      <td>9072131</td>\n",
       "      <td>2</td>\n",
       "      <td>[thought, i'd, end, up, with, sean, but, he, w...</td>\n",
       "      <td>0.9996</td>\n",
       "      <td>[[-0.10671016169451913, 0.010760123867523366, ...</td>\n",
       "      <td>-0.147135</td>\n",
       "      <td>-0.000143</td>\n",
       "    </tr>\n",
       "    <tr>\n",
       "      <th>2</th>\n",
       "      <td>2</td>\n",
       "      <td>2</td>\n",
       "      <td>Work</td>\n",
       "      <td>pop</td>\n",
       "      <td>Rihanna</td>\n",
       "      <td>2016</td>\n",
       "      <td>[Chorus: Rihanna]\\nWork, work, work, work, wor...</td>\n",
       "      <td>7871555</td>\n",
       "      <td>3</td>\n",
       "      <td>[work, ,, work, ,, work, ,, work, ,, work, ,, ...</td>\n",
       "      <td>-0.9978</td>\n",
       "      <td>[[-0.10575750227304223, 0.02552068677646066, 0...</td>\n",
       "      <td>-0.197395</td>\n",
       "      <td>-0.000298</td>\n",
       "    </tr>\n",
       "    <tr>\n",
       "      <th>3</th>\n",
       "      <td>3</td>\n",
       "      <td>3</td>\n",
       "      <td>Too Good at Goodbyes</td>\n",
       "      <td>pop</td>\n",
       "      <td>Sam Smith</td>\n",
       "      <td>2017</td>\n",
       "      <td>[Verse 1]\\nYou must think that I'm stupid\\nYou...</td>\n",
       "      <td>7784454</td>\n",
       "      <td>4</td>\n",
       "      <td>[you, must, think, that, i'm, stupid, you, mus...</td>\n",
       "      <td>-0.9770</td>\n",
       "      <td>[[-0.10453970273780919, 0.012245111703351899, ...</td>\n",
       "      <td>0.195204</td>\n",
       "      <td>0.000384</td>\n",
       "    </tr>\n",
       "    <tr>\n",
       "      <th>4</th>\n",
       "      <td>4</td>\n",
       "      <td>4</td>\n",
       "      <td>7 rings</td>\n",
       "      <td>pop</td>\n",
       "      <td>Ariana Grande</td>\n",
       "      <td>2019</td>\n",
       "      <td>[Verse 1]\\nYeah, breakfast at Tiffany's and bo...</td>\n",
       "      <td>7387794</td>\n",
       "      <td>5</td>\n",
       "      <td>[yeah, ,, breakfast, at, tiffany's, and, bottl...</td>\n",
       "      <td>0.9972</td>\n",
       "      <td>[[-0.10839095524756127, 0.01623228222604399, 0...</td>\n",
       "      <td>-0.037486</td>\n",
       "      <td>-0.000702</td>\n",
       "    </tr>\n",
       "    <tr>\n",
       "      <th>...</th>\n",
       "      <td>...</td>\n",
       "      <td>...</td>\n",
       "      <td>...</td>\n",
       "      <td>...</td>\n",
       "      <td>...</td>\n",
       "      <td>...</td>\n",
       "      <td>...</td>\n",
       "      <td>...</td>\n",
       "      <td>...</td>\n",
       "      <td>...</td>\n",
       "      <td>...</td>\n",
       "      <td>...</td>\n",
       "      <td>...</td>\n",
       "      <td>...</td>\n",
       "    </tr>\n",
       "    <tr>\n",
       "      <th>995</th>\n",
       "      <td>995</td>\n",
       "      <td>995</td>\n",
       "      <td>The Other</td>\n",
       "      <td>pop</td>\n",
       "      <td>Lauv</td>\n",
       "      <td>2015</td>\n",
       "      <td>[Verse 1]\\nLike a spotlight the water hits me\\...</td>\n",
       "      <td>464603</td>\n",
       "      <td>996</td>\n",
       "      <td>[like, a, spotlight, the, water, hits, me, ran...</td>\n",
       "      <td>-0.9000</td>\n",
       "      <td>[[-0.08581113506816736, 0.0043553994740125725,...</td>\n",
       "      <td>0.289683</td>\n",
       "      <td>0.000577</td>\n",
       "    </tr>\n",
       "    <tr>\n",
       "      <th>996</th>\n",
       "      <td>996</td>\n",
       "      <td>996</td>\n",
       "      <td>Remind Me to Forget</td>\n",
       "      <td>pop</td>\n",
       "      <td>Kygo</td>\n",
       "      <td>2018</td>\n",
       "      <td>[Verse 1]\\nIt never fades away, it's staying\\n...</td>\n",
       "      <td>464450</td>\n",
       "      <td>997</td>\n",
       "      <td>[it, never, fades, away, ,, it's, staying, you...</td>\n",
       "      <td>-0.9518</td>\n",
       "      <td>[[-0.09686662686743817, 0.0037551854024499326,...</td>\n",
       "      <td>0.143470</td>\n",
       "      <td>0.000372</td>\n",
       "    </tr>\n",
       "    <tr>\n",
       "      <th>997</th>\n",
       "      <td>997</td>\n",
       "      <td>997</td>\n",
       "      <td>IU - 에잇 eight ft. SUGA English Translation</td>\n",
       "      <td>pop</td>\n",
       "      <td>Genius English Translations</td>\n",
       "      <td>2020</td>\n",
       "      <td>[Verse 1: IU]\\nSo are you happy now?\\nFinally ...</td>\n",
       "      <td>464424</td>\n",
       "      <td>998</td>\n",
       "      <td>[so, are, you, happy, now, ?, finally, happy, ...</td>\n",
       "      <td>0.9861</td>\n",
       "      <td>[[-0.07639461211044563, -0.004941656075038006,...</td>\n",
       "      <td>-0.077258</td>\n",
       "      <td>-0.000065</td>\n",
       "    </tr>\n",
       "    <tr>\n",
       "      <th>998</th>\n",
       "      <td>998</td>\n",
       "      <td>998</td>\n",
       "      <td>Ive Been Waiting</td>\n",
       "      <td>pop</td>\n",
       "      <td>Lil Peep &amp; iLoveMakonnen</td>\n",
       "      <td>2019</td>\n",
       "      <td>[Intro: Lil Peep]\\nWhoa, yeah\\n\\n[Verse 1: iLo...</td>\n",
       "      <td>464078</td>\n",
       "      <td>999</td>\n",
       "      <td>[whoa, ,, yeah, i've, been, waiting, (, i've, ...</td>\n",
       "      <td>-0.9969</td>\n",
       "      <td>[[-0.11244546656724476, 0.00023399112343966015...</td>\n",
       "      <td>0.233445</td>\n",
       "      <td>0.000447</td>\n",
       "    </tr>\n",
       "    <tr>\n",
       "      <th>999</th>\n",
       "      <td>999</td>\n",
       "      <td>999</td>\n",
       "      <td>Treasure</td>\n",
       "      <td>pop</td>\n",
       "      <td>Bruno Mars</td>\n",
       "      <td>2013</td>\n",
       "      <td>[Intro]\\nBaby squirrel, you's a sexy motherfuc...</td>\n",
       "      <td>463907</td>\n",
       "      <td>1000</td>\n",
       "      <td>[baby, squirrel, ,, you's, a, sexy, motherfuck...</td>\n",
       "      <td>0.9987</td>\n",
       "      <td>[[-0.1179598086496419, -0.03246200054614423, 0...</td>\n",
       "      <td>-0.591417</td>\n",
       "      <td>-0.000997</td>\n",
       "    </tr>\n",
       "  </tbody>\n",
       "</table>\n",
       "<p>1000 rows × 14 columns</p>\n",
       "</div>"
      ],
      "text/plain": [
       "     level_0  index                                       title  tag  \\\n",
       "0          0      0                                Shape of You  pop   \n",
       "1          1      1                               ​thank u next  pop   \n",
       "2          2      2                                        Work  pop   \n",
       "3          3      3                        Too Good at Goodbyes  pop   \n",
       "4          4      4                                     7 rings  pop   \n",
       "..       ...    ...                                         ...  ...   \n",
       "995      995    995                                   The Other  pop   \n",
       "996      996    996                         Remind Me to Forget  pop   \n",
       "997      997    997  IU - 에잇 eight ft. SUGA English Translation  pop   \n",
       "998      998    998                            Ive Been Waiting  pop   \n",
       "999      999    999                                    Treasure  pop   \n",
       "\n",
       "                          artist  year  \\\n",
       "0                     Ed Sheeran  2017   \n",
       "1                  Ariana Grande  2018   \n",
       "2                        Rihanna  2016   \n",
       "3                      Sam Smith  2017   \n",
       "4                  Ariana Grande  2019   \n",
       "..                           ...   ...   \n",
       "995                         Lauv  2015   \n",
       "996                         Kygo  2018   \n",
       "997  Genius English Translations  2020   \n",
       "998     Lil Peep & iLoveMakonnen  2019   \n",
       "999                   Bruno Mars  2013   \n",
       "\n",
       "                                                lyrics     views  rank  \\\n",
       "0    [Verse 1]\\nThe club isn't the best place to fi...  14569727     1   \n",
       "1    [Verse 1]\\nThought I'd end up with Sean\\nBut h...   9072131     2   \n",
       "2    [Chorus: Rihanna]\\nWork, work, work, work, wor...   7871555     3   \n",
       "3    [Verse 1]\\nYou must think that I'm stupid\\nYou...   7784454     4   \n",
       "4    [Verse 1]\\nYeah, breakfast at Tiffany's and bo...   7387794     5   \n",
       "..                                                 ...       ...   ...   \n",
       "995  [Verse 1]\\nLike a spotlight the water hits me\\...    464603   996   \n",
       "996  [Verse 1]\\nIt never fades away, it's staying\\n...    464450   997   \n",
       "997  [Verse 1: IU]\\nSo are you happy now?\\nFinally ...    464424   998   \n",
       "998  [Intro: Lil Peep]\\nWhoa, yeah\\n\\n[Verse 1: iLo...    464078   999   \n",
       "999  [Intro]\\nBaby squirrel, you's a sexy motherfuc...    463907  1000   \n",
       "\n",
       "                                                tokens  valence  \\\n",
       "0    [the, club, isn't, the, best, place, to, find,...   0.9993   \n",
       "1    [thought, i'd, end, up, with, sean, but, he, w...   0.9996   \n",
       "2    [work, ,, work, ,, work, ,, work, ,, work, ,, ...  -0.9978   \n",
       "3    [you, must, think, that, i'm, stupid, you, mus...  -0.9770   \n",
       "4    [yeah, ,, breakfast, at, tiffany's, and, bottl...   0.9972   \n",
       "..                                                 ...      ...   \n",
       "995  [like, a, spotlight, the, water, hits, me, ran...  -0.9000   \n",
       "996  [it, never, fades, away, ,, it's, staying, you...  -0.9518   \n",
       "997  [so, are, you, happy, now, ?, finally, happy, ...   0.9861   \n",
       "998  [whoa, ,, yeah, i've, been, waiting, (, i've, ...  -0.9969   \n",
       "999  [baby, squirrel, ,, you's, a, sexy, motherfuck...   0.9987   \n",
       "\n",
       "                                           song_vector         X         Y  \n",
       "0    [[-0.09835523530811562, -0.017306410342092945,...  0.038348  0.000199  \n",
       "1    [[-0.10671016169451913, 0.010760123867523366, ... -0.147135 -0.000143  \n",
       "2    [[-0.10575750227304223, 0.02552068677646066, 0... -0.197395 -0.000298  \n",
       "3    [[-0.10453970273780919, 0.012245111703351899, ...  0.195204  0.000384  \n",
       "4    [[-0.10839095524756127, 0.01623228222604399, 0... -0.037486 -0.000702  \n",
       "..                                                 ...       ...       ...  \n",
       "995  [[-0.08581113506816736, 0.0043553994740125725,...  0.289683  0.000577  \n",
       "996  [[-0.09686662686743817, 0.0037551854024499326,...  0.143470  0.000372  \n",
       "997  [[-0.07639461211044563, -0.004941656075038006,... -0.077258 -0.000065  \n",
       "998  [[-0.11244546656724476, 0.00023399112343966015...  0.233445  0.000447  \n",
       "999  [[-0.1179598086496419, -0.03246200054614423, 0... -0.591417 -0.000997  \n",
       "\n",
       "[1000 rows x 14 columns]"
      ]
     },
     "execution_count": 79,
     "metadata": {},
     "output_type": "execute_result"
    }
   ],
   "source": [
    "# Stack all song vectors (song embeddings) vertically into a matrix 'X'\n",
    "X = np.vstack(songs_df['song_vector'].values)\n",
    "# X = song_embeddings_matrix  # Alternative: Use the previously created song embeddings matrix\n",
    "\n",
    "# Record the start time to measure the execution time of t-SNE\n",
    "start_time = time.time()\n",
    "\n",
    "# Initialize t-SNE with specified parameters:\n",
    "# - n_components: Reduce dimensionality to 2 components (for visualization)\n",
    "# - n_iter: Maximum number of iterations for optimization\n",
    "# - random_state: Seed for reproducibility\n",
    "# - verbose: Control the verbosity of the output\n",
    "tsne = sklearn.manifold.TSNE(n_components=2, n_iter=250, random_state=0, verbose=2)\n",
    "\n",
    "# Apply t-SNE to reduce the dimensionality of the song embeddings to 2D\n",
    "# and store the results in 'all_word_vectors_matrix_2d'\n",
    "all_word_vectors_matrix_2d = tsne.fit_transform(X)\n",
    "\n",
    "# Print the time taken for t-SNE to complete\n",
    "print(\"--- %s seconds ---\" % (time.time() - start_time))\n",
    "\n",
    "# Create a DataFrame 'wv_df' from the 2D song embeddings, with columns 'X' and 'Y'\n",
    "wv_df = pd.DataFrame(all_word_vectors_matrix_2d, columns=['X', 'Y'])\n",
    "# Reset the index of 'wv_df' and drop the old index\n",
    "wv_df.reset_index(drop=True, inplace=True)\n",
    "\n",
    "# Concatenate the original 'songs_df' with the 2D embeddings ('wv_df')\n",
    "# along the columns (axis=1) to create a new DataFrame 'two_dimensional_songs'\n",
    "two_dimensional_songs = pd.concat([songs_df.reset_index(), wv_df], axis=1)\n",
    "# Group by artist and calculate the average X and Y coordinates\n",
    "artist_coordinates = two_dimensional_songs.groupby('artist')[['X', 'Y']].mean().reset_index()\n",
    "artist_df=pd.merge(artist_df, artist_coordinates, on='artist', how='inner')\n",
    "\n",
    "\n",
    "# Display the 'two_dimensional_songs' DataFrame\n",
    "two_dimensional_songs"
   ]
  },
  {
   "cell_type": "code",
   "execution_count": 80,
   "metadata": {},
   "outputs": [
    {
     "data": {
      "application/vnd.plotly.v1+json": {
       "config": {
        "plotlyServerURL": "https://plot.ly"
       },
       "data": [
        {
         "marker": {
          "color": {
           "bdata": "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",
           "dtype": "f8"
          },
          "colorscale": [
           [
            0,
            "#440154"
           ],
           [
            0.1111111111111111,
            "#482878"
           ],
           [
            0.2222222222222222,
            "#3e4989"
           ],
           [
            0.3333333333333333,
            "#31688e"
           ],
           [
            0.4444444444444444,
            "#26828e"
           ],
           [
            0.5555555555555556,
            "#1f9e89"
           ],
           [
            0.6666666666666666,
            "#35b779"
           ],
           [
            0.7777777777777778,
            "#6ece58"
           ],
           [
            0.8888888888888888,
            "#b5de2b"
           ],
           [
            1,
            "#fde725"
           ]
          ],
          "showscale": true,
          "size": {
           "bdata": "AAAAAAAAPkBT2da2qkE0QNL0kgvzIDJAsJ1cNW75MUAvD2vldUUxQERlkBgPXjBAvyVY2hwXMEAEIzKtAlYuQJ47CqDhKy5AheanGc/iLUDCdkR5LZotQNp3j+k54ytAxBJeyOHVKkA0zGacWZooQJF6uXKrTyhAaqCDOV5FJ0CkDBY/GQcnQMe2oizJ9CZAghL7F0TtJkCXCwZzA8MmQKVUMP1isyZAFdEsEOdZJkBoJNZnUhsmQA1Wino0ESZApBxYQDsIJkC+HVshdf8lQFQ/fzzQ9CVAq5sRI8iyJUA2Z2M0HEUlQObg4b3GPiVAYjdFjhUvJUAi+beOvEwkQODC+5krTCRAuZum0Sk5JECkTKeBbSMkQJIfHTwwFSRAnk6i7wIVJEBZQxxC9Q0kQK/egBoSBCRA6oaNFUcAJEAcF/CnhP0jQCz1rmAj7yNAgkLvdzW8I0D4xEs8jrUjQOiC7YqghiNAuuNjAIeDI0DMKOj1PDkjQEi1jVy5GyNAr42/UgvsIkBauHXUmKkiQFoUuq19oiJAKrCmvV2EIkAeilTWlWgiQFc0y0nlZyJAL6beoFdcIkATeMz1+lYiQDSk5rdDSyJAGN7OhYsLIkD+u7atafkhQEyiCTbc9yFAMwG8hczcIUCOyo87o80hQIUMwDN2xCFAfFUAODajIUAi3sQfMZ8hQGJkhGJvniFAJcXx60GNIUBC5zSbbYohQPJ9969MeSFAD+YDARlbIUDCtRZrUlIhQGnWx303TSFAIESfXTlJIUDzHCJDryshQApAKyTjGCFATOsp/VEPIUAbsCmUl+4gQO13N+oJ5CBAy58fPq3fIEDuBIpVUNwgQHtO8tn00CBAtOzgCRDPIEDrJr6x1Z0gQIwDEyC2lyBA4tz+1nppIEAI9S8sIlcgQKgjZPDQRCBASAC5XrE+IEDmR8BWTz4gQFDkuAUhGiBAHHHMtvqIH0CKs1kPh4AfQBgERC8fTx9AImL+8bM5H0AWXXpJ1zEfQBMUXDANMB9ArK/zrpAtH0AX4Q79mhgfQLuJb2x1Bx9AKre2yUrsHkA6OXhhAeweQCJ3511+6h5AxAc4RvDWHkBkO1lWbrAeQBKID87yoh5ABJ7zqCmbHkBMNGJJY5ceQPt7nQQfkB5AnFe9NnKIHkAN7nd89FoeQM4Z2KsmWR5AujtjMAZPHkBaTkHtEEIeQB38EhDpKh5AfO0zGx0pHkAC/HLHxwAeQJSjse/z+x1AWU4rFiHnHUAI8w1D2qUdQKy0bL2tkR1Ago/IJcOIHUA8rGd7ioQdQH6Xm942gB1AsuOCZvt/HUBszt7t03odQP4Y0lwZRx1ANmLTdzk7HUBNczKN3DkdQKs0M4o/Mx1AQIvybzQnHUBvxq6lcyEdQE1Hyo5NHx1AhHbfGuQbHUB5ByXd0xYdQJjdYwaRBh1A4CQElaoFHUBCRNs1lQUdQBO/hPIBAR1AgoAAa3/6HEDcnFpCuNIcQNrWcMkayxxASB/Z8QapHEB0ks+mh6YcQO6nndkBpRxA+Rwz53GQHECGFt/VZY0cQCgmZZbFghxAzGQd4WWCHEBiN7qinYEcQDLl22mGfxxAzjM6Jg5uHEADMy+k02UcQMj27Y32VBxAdHYcEPdJHEDHlEP5OUgcQLZ/goJoNRxALIM338wzHECvPn7aDjIcQGPLSnZcLRxAkCCBqx4tHED+FapqpSocQClXXVE3JxxA4qnMrSUjHECkQ40R1PobQPSEYcak4htAeNnJKF7hG0C4R3nkM94bQHLs8m36uBtAt4buRmy0G0DrPH7zaqMbQG5gkQvGmxtAIO/HHy6aG0ByjzUlDZgbQAx3/AAJjhtAhHYkJTWNG0D2F71d1owbQOsrN8DygRtARCm4vNJ2G0CKfr8bw0wbQLTy6gzRSxtAS0pRvlkzG0AaLzEQ+isbQDa6dRjMJBtA+BfSXfAcG0DwQfLOWhEbQLbMFialEBtADUoCNwAQG0Bea4Ec7gsbQOWh4kbsBRtAslTGgpoEG0Ds/Qe6XAIbQObxEGyj7xpA4BSTYCfuGkAR6DvBUOcaQHllok3G5hpAW8aTPsfjGkDA/P5xkN0aQN9PULMd2hpAkOTvB9/MGkC7b/ZDyMwaQFD4P7CoyBpAXcwnVirDGkD6yoLEBLMaQAInqDd1rxpA5IiHrAanGkCTAztyPqIaQDV3jod4oBpAcTerCRafGkC08UJqZ40aQPy59NiPihpAaAAPalSBGkCQRU+JHn0aQJm5Pcv6dBpAT9zT0RRzGkBGnTmi1XIaQGLd9RjDZhpAHl3mztpiGkA8mRUNkFcaQDKQBCx7UBpAEpCAxExCGkAgr/D7skEaQAoEO0MLQRpA9Iu23OI7GkAuHtYQzTEaQOUoFdiBJhpA4+HSxtgZGkBm6sQTHRkaQJIoIP4DGBpAUj2l4loVGkAn56sAEgYaQO9YRNxp+hlAMZHc2BvwGUC8wY0KxO4ZQC4AR3Ib4BlAqkhG9xTaGUA0exrp2tQZQAIXlWm0xBlANOXCDRXEGUDea48M/K4ZQIERJvAkrhlAKLHFIvuqGUDiNEMRS6YZQOSxx7ghpRlANjfNOu2iGUAalWYvQ6IZQPhHxeYLoRlAZ1vZ/FqHGUD8ss0e3XwZQEolhY4FeRlA6R13vIZ0GUCGAMPbuXAZQKp9PXrFbxlA5j1a/GJuGUAQ5Mi7X24ZQLhpNaevbBlApCHRTlhsGUA/n6hNHWwZQKPwewT6ZRlAUPDN4nheGUDov8vvCFkZQPSU6NEXVRlA6r+ENwxSGUC09waMAU4ZQCze6ew3SRlAm7mYrDtBGUAiI3LhtT0ZQHoGB08MOxlABrVxZBg6GUBIhnKAPjcZQEoD9ycVNhlABCGEAW0sGUDWZ8cvzSoZQMNqpLBdKBlA8HdjmOkZGUDi9CUMqREZQAe/BES6ChlACD/h5zsHGUBc3K84cwAZQMciEYI0/hhAv+Mvmvj2GECSXkvma+QYQJHjoka22hhA8G8IeX/VGEByrZWQXdMYQBZr9ULyzRhABVNqQG/LGECD4mQeFcsYQFPfVPcdxhhAz4wPVYLDGEC+RvmTUqoYQNSkA/v3qRhACkEZqHOTGEDE3KYdLJEYQNpvTE9rjxhAEpwJ31aOGEBueaebWokYQAA59krvhhhA8VBEnkCCGECEKKPUPYIYQLXewPE1fxhAeh+S8yh7GECGdIt5uXMYQIwekXq5chhAnezIJ+VxGEBsadxcbHAYQLQXW4QObxhAHftqbX9sGEB23JViu2YYQEzpe1G8ZRhAW4albIZlGEDpsZQpaWMYQBQLWJdjYhhAjFgZkSJdGEBCxyWtsVoYQKd9tDz5VxhAPVBR/jBXGEC+Qp08J1cYQPRYbQXITxhAlrSwk5lLGEDo7T8A8EkYQL9dd09BSRhA5yGmjvxGGECM+EoEh0UYQLsXsTIiRRhAMU/MHZNAGEBVswH5qDsYQGl8dzEPOhhA5PfuwIQ2GEB+Q4PxWjUYQAXIxKnoMRhA+MFSfXsvGECUPvU/sy0YQGIK14ZaKRhAfMr9EcMnGEBcgCZVPRYYQBRShNEcFBhAuyScDm8TGEDAhE66Fw8YQLy+q/l2DhhAfwCyN/cLGEAazVdI3AgYQH+b9l6MCBhA7qf6aO4GGEDTaz26PwQYQHqKywwHAxhAq/RyFIoAGEDNDpxSRf8XQF6CdOxk/RdArFz4eKbzF0AIurmRKPIXQKss2GrV7hdAbiJok+DsF0DFbRDWTOsXQGgt2gD86BdAHrYZZBHlF0BWe/hadOQXQEDRMCZd3hdA4nkfBjHbF0CzqAv1K9AXQBXjShkq0BdAwhTgxZfJF0CD85Sjx8YXQBSb08vzwRdA0Rihwe3BF0B/YCM1psEXQIXY5We3vxdAWYFFutq8F0CmWxD/GLoXQExJkL9+uRdA+SyMllm3F0AmUH/9LLYXQOFq+5LWtRdAQ4z1896xF0BmQC4doqsXQPyr7EVRqxdA1n519fKqF0DMwdopU6MXQPxgHfxvnxdAxU1ed32dF0C5k2JghZoXQJpcZyacmBdAtpkSWduVF0A5ogSmH5UXQCBiur44kxdAMOR7Vu+SF0Aa0ucEv5IXQNvjFO1qkhdAA9ypujKNF0DWHmCwWowXQPxnLQhdhxdAWKypXemBF0BVS3u9tn0XQE9VuO5EeBdAPHP98uh1F0Cvej+IhXMXQOnW1W1FcBdANcwINpdtF0Axn4fcbW0XQMwdTV/DZxdAqW5IOsxgF0CncaA2d14XQGwXLRHVXRdAIx9blNtbF0BkjNUTJFcXQAmYh+NORhdAIieg3FVFF0BO5ddqvkAXQGpV+6d5QBdAvj1SipU+F0AjJ1kkWT4XQO1EqDHIOxdAZF842Qc7F0A3WJt52DYXQGFl6NFdNhdABgkVPWwyF0AVpj5YNjIXQGYtZ5ofLBdAYgDmQPYrF0DgXZ1QrSoXQLqwAqTQJhdAoHHt+HYmF0BlF3rT1CUXQGTlNgXmJBdANitF97ghF0AiSr836iAXQE47b9DOHhdAn8PMTkUaF0AwN6XoZBgXQAyHsj/dFhdA+qGfR9YWF0BIk0XX7xQXQEYw9HafFBdAAZkJ4tsPF0D9oNyaTwcXQFv6EHuZBhdAqwKSVY4FF0CMZttCOgAXQLg9WJSY/xZAzre4AuL5FkBPXVnv1fgWQGJzenk++BZAFeh9RiD4FkAgPb6ErfcWQP8jg8qC8xZA+ayuGwLwFkBbASGHhu4WQNZIMojv7RZAMQ/1+RfoFkBOfa6+uOQWQN1zArEB5BZAj+gFfuPjFkCEFcWj9dwWQOEig27K3BZAhXo5xGPZFkCupBFgGtUWQKMCJtCK1BZAmEXSvOfTFkC0HNSSK9MWQHKaWtAozBZABr363w3KFkAYiv1QrMcWQNSkMi5ZwBZA0Hex1C/AFkAgTbqkqLwWQE6i8NlqvBZA5iNVEWi7FkDDPsedRrsWQF2lw1EwuhZABanpIOS4FkC8/+W1CrQWQFj8ZBzErhZABJUfGreuFkCrgDViAqsWQCopLkuhpxZAVrQ0h4qnFkA+8qODB6YWQDlhnI0ApBZAFuTaNvidFkA7k5ij8p0WQMFKUmb8nBZACEZ836CcFkCw/SuZ35sWQGxJtsDqmhZAAp1kYjGYFkC61tWzJpcWQBKFz1bjlRZApN50qXyVFkDJjP3Z6ZMWQAte/vUPkRZAfmVAi6yOFkDnSFB0HYwWQOFRnyEbjBZAxWKNxG6KFkB4vCgOPYoWQEKOAQY3iBZA57AckTaGFkClE4IDHYYWQBLxmjs7gRZA2sYAbG1+FkCMb2rHW3sWQHin4hKGdxZAdhEZqLl0FkAVV7YnPXEWQA4XoAN0aBZAY0tt+wRmFkA4QENjnWIWQG878mAnYhZATlT6dOteFkCgpofsOloWQCGYnu6jWBZAn8Ld895UFkBHeo2tHVQWQEjH8UYjThZAOt0c2lZNFkDffiaFR00WQHQFTTEKTRZAE35iuwlMFkBsEfTaskoWQL5Kg0cJSRZAEWmqMExHFkAeO28WsEUWQLOPUvSDRBZAu4WHUvw7FkBtZHr8FDIWQLPh6pFVMRZAd7wSN00vFkCuNXsYOy8WQLmlI9rbLhZAbTLwdSkqFkAvKbXawSkWQLtyZBdjJRZAxDHb6iMiFkDOb0De1SAWQPysZowvHhZAQMZQhZIbFkC69oY7IBoWQFL5/FIsFxZAhOKSeqAWFkCDFy5FOhUWQMaYKxOzExZAP+TJTFQSFkAZOVJglQoWQOD0hElBCRZAcIPFZnQHFkBU4V5bygYWQPxmhI4d/hVArHg2+679FUCibjeWCfwVQGjHGB9l+hVA4GBQLpn0FUCn0AwC0PMVQEZiIJfI7xVAGqXWjPDuFUBJ+deFJe0VQKcflFvz6RVA9d72HB7nFUBpMXqLouIVQCbk4ks24RVANTRhFf7fFUBkIYR1qt4VQHXUU5/C3RVACJRbllrUFUBQjlDTcdIVQEt8N/1b0hVAeAYJ/bfQFUDm4f50uM8VQHTAQuCYzBVA3SJB6frLFUBCplduxsYVQLl0cQCRxhVA4dHBpsPEFUAyc2ToL8QVQOMC0DglxBVA3yHF9HDDFUCC+8Fmpr8VQNVLLB7YvhVAvzmYzKe+FUCOHYqat7wVQKd5KolCuRVAqnRoFH24FUAlI1iubrcVQAqAvGY3tRVAO2lSjqu0FUAM/UAODrQVQCLcXFXCsRVAQ951DBWuFUCyNyVoea0VQE+alOMqrRVAqt0itSatFUDfDqK516wVQEhxoMI5rBVAnnDS7zCrFUDB8KSK56cVQJEFpepYpRVA7hSGdUuhFUDwKiyEmaAVQJqsCzexnxVAJ0AOyameFUDM+0q7IJ0VQGyLO5D7nBVAbPIZKYScFUCDUCSQKZwVQGkrQixWmhVAi3euOACaFUAIie8yQpkVQICIF1dumBVA+LulCaeUFUCVHeBIy5IVQALIxy5qkhVAbMKyYraQFUC9fFOvG40VQO6ahKEpixVANRfA+tyIFUDvTKQTmogVQHyT+1OQhhVAXF01VjSGFUC3iLOgx4MVQBSWcWucgxVAtPMecoiCFUAynUyXtIAVQJvnOhmufRVAxo2p2Kp9FUDo2RXlVH0VQJwzsS4jfRVALUCrL7p7FUDndY9Id3sVQBLphf33eBVAErdCLwl4FUB11eSTZnYVQN7qN0vGdBVAd7lH1MV0FUBXnbQd8HIVQHMm1mWkbxVA5H0bSe5rFUBgqsTGQ2sVQGH2Oty4ahVAP/ZE5YNqFUBrgUshbWoVQAmu6pX3aRVAdNsGHMNjFUDiaoZ+TmMVQFxmIWpCYxVADtskNyRjFUDrw1P1E2IVQGvqBcIWXxVAvby2leRdFUAveIIVDFwVQOLsheLtWxVAR9VXQCRaFUDSN0xAu1kVQD/7MTFTVhVASmva8vNVFUCMb1MZllUVQJVhQvfSVBVAIanOc1ZUFUCsvhci61IVQHj0drbCUhVAgX+H+3ZSFUAGuYfaHFEVQCW9CgqKUBVAJb8tyqdMFUBQZGdNF0sVQFaq5rE5SBVAUnwwHINGFUA3JkAmTkUVQGbGtzT4QhVAUkvb0SRAFUDiv+in0T8VQIDshxxcPxVAoIkss0A/FUDcFtEqYjsVQKFVf2w3OxVAE0bmtvg3FUD12Bp26DUVQLyvteKnNBVAsabruY80FUDkjRdp6TAVQD+fYmz2LxVAaROOXQQvFUAPAQ4eai4VQFspufA3LhVAHG9MZ/AqFUA7c8+WXSoVQOw2oXVfJxVAzv5w/+gjFUDrUyy5kCMVQB66RojbIRVADp9jia0hFUAVld+fIiAVQFdm4LtIHRVAPKkRLYscFUCxkpNCaRwVQI3IbVJbHBVAimh07rUZFUDOtNbxlBkVQF/cOHY/GBVAyKUVGCoXFUBn0EoUmhMVQEh/HJMqExVAXhLCxGkRFUAlzvStFRAVQJHfuiw9DxVAJAOQeK8OFUCvgOz7WQ4VQAwPvKY9DBVAofzA64gLFUDOuNW50woVQLmL2eSPChVAoa8VmoYKFUBcypEvMAoVQP6KkJZsCRVAiQe43YkHFUD9coAPBAcVQDG/Z5fIBhVA58fKVlwGFUAwQHl31wQVQLJ+O8tCBBVAtEc2iI4CFUAA17/z5AEVQNA4a6VYABVAIyL3wwEAFUDKjTBoy/8UQIIUTQvD/xRAO2WZp5P/FEC1lJohlPwUQIReWagd/BRAFza43hr8FEB0EP6ec/kUQNmsWec0+BRAnIi2yLn3FEAOKk8BW/cUQEeIT1819xRAPTGlqI30FEAjwEwvRfMUQGvup/po7hRAisDnW+fsFEAyxA0rm+sUQLE4oIUt6xRALJsZCqrqFEDkbazCFuoUQKqR8oDY6RRAbQZxydTpFEAR3RU/X+gUQCii/j6N5xRAMK9VoN3mFEDVtz3kVuYUQDqG3PoG5hRACVCbgZDlFEALGst6aeUUQHXIP5lA5BRARl0cnTPeFEBHQrQZIN4UQPm2t+YB3hRABI4+QSvdFEAeM/1IgNsUQNO9piSw2hRAsIttX4zZFEDQ9Znr9NYUQBCx9PjM1BRAoohTL8rUFECckaLcx9QUQAoGurs/1BRAF0CSdrnTFEDUvV9ss9MUQIQ28HHN0hRAXYu/PQvSFEByhUMI088UQBYQcmjozhRARq2ReufOFEAKouxmZcsUQGaYz+ZeyhRA6VRLHi7KFEClVF8wxMkUQFjILcEYyBRA2uuHkXDHFEAizEmHAccUQDR/GbEZxhRAOatlzrXEFEDCQyrVc8QUQKRwtTdoxBRAYx+Rv8PDFEBI++OXfcMUQLnrSuI+wBRAvn51mGO+FEA8DnB2Cb4UQKehfBHNvBRAr5bD67S5FECQEh1gybYUQLiJoE2CsxRAb5HO0IixFEC/AC5EBrAUQD9aWBuFrxRA/4bthkSvFEAGyhTvu64UQBmUv2OvrhRAXsW543quFEBek3YVjK0UQALR+SOfqxRA8+Ykt9KqFED92BOVD6oUQKkJu73sqBRAbkhp/8GoFEADz4+rhKgUQItQeWdnpxRAaNLJjM6mFED+PYi1faYUQPGEwdoSpRRA9DOJUNikFEC9uesyXaMUQPr3wZheohRAmAxRhoCfFEBlJhNbt50UQJRFeYlSnRRAlfjNN1CcFEA3Uu4FBJwUQLdEOkT6mxRADatKCnqaFEAFUUhXJ5oUQL+GLHDkmRRAqkDr16qVFEBtz5xnLZQUQBXuKrr0khRAq1np4qOSFED3ZiwyXpIUQFZZgnkfkhRAi2+Z+ryRFEC/btUwf5AUQBGOMVZPkBRAHq2hjbWPFEDskciXUo8UQAyWS8e/jhRAkhqNf02LFECSgWsY1ooUQKuOPfVAihRALIGJMzeKFEDdKijLsogUQPiaSwhuiBRApy5EkZuHFEBjLlijMYcUQEzso0MwghRAnPQkHiWBFEC+Dk5c4H8UQCnUncWSfxRAzyj8HoF+FECAuGdvdn4UQFtwiJsEfhRAR0JXijN8FEAhLxOBW3oUQBe+NYMteRRA83Qhcy53FEDkPtbw7HYUQDw6e+WrdhRAUYGqAXZ1FECRB2pEtHQUQHaxeU5/cxRA8ZGstl9zFEDydkQzTHMUQCGxEuX6chRAkKPjp9ZyFEA2KoXPs3IUQJmwOgknchRASN1U+ctxFEBuJP+QsHAUQGJQ0DIybxRAx4VN4mpuFEDwFOFWjG0UQKWfijK8bBRA8C4UnhJsFEBnfQrUXmgUQHLtspX/ZxRA6aBkpLZnFECaMND0q2cUQDOyNCypZhRAYCLT5H5mFEAh51R7KGUUQA8CQoMhZRRAQ7UHpG5kFEAmxyqDT2QUQMyzdQcoYhRAuGsRr9BhFEAOuO4tymEUQNa/lyzrXxRABPpl3plfFECqz9UXl1wUQOdZIpMNWxRAR+RkBblZFEART19kKlgUQE2onU0/VxRAAufQE/pWFEBEUfOWl1QUQFoW3JbFUxRAbsUeiKVTFEB8ySY8+FIUQHzJJjz4UhRAo/VoUMlRFEBbfIXzwFEUQH0v0JjzUBRAiumE9+5MFEAknSz92kwUQMiNBLrrSRRAPsP85D5JFEDvUmg1NEkUQJPdlpVJSBRAes+PfFFHFEBg91hqgEYUQBgxyrt1RRRAwxX7zt1EFEAr+j/020MUQGFczYruQhRAq7pIZONCFEDfbNlIo0AUQHbYl3FSQBRAZfJPPb4+FEBKszqSZD4UQM3WlGK8PRRAl9qwKKU8FEDuJCQvhDkUQEposgCAORRA2BKQ3VM5FEBTwX93RTgUQGCUeZk2OBRAFlAxB8g2FEAonCKYVzYUQK5T3FphNRRAHRRqT040FEDmf5nqTDQUQPsTdFgZNBRAizvW3MMyFECNBQbWnDIUQIhay5gPMhRAWCNV4wswFEA0WS/z/S8UQJpzRB8jLxRAZCvqz5YuFEBQSS/UOiwUQF02XD2yKhRAv7wRdyUqFEBYiyEAJSoUQDaK9sxiKBRA5+ceT2knFEDc3lQmUScUQKTMyt3rJhRA8PR1sLkmFECPn84IqCYUQI5tizq5JRRAWaPqzpAlFEAeSXep7iQUQAzLQkpwJBRAgM8s42EkFEDKlIZV3yMUQJb783sYIxRAO2u6WBoiFEDOQhmPFyIUQDYM9jACIRRA+2UM9uogFEAjd+aGqB8UQAONlp7BHhRATFLwED8eFED1osEx9R0UQN+QLeDEHRRA4Fpd2Z0dFECRUafCGx0UQK7AlcNJGxRAawwg61QaFECQopiUWRYUQOHB9LkpFhRArdzryu0VFECyVeM5jBUUQOoawjDvFBRAKzqj2qQUFEBMvN/tdRQUQIWAiahLEhRAM8gLHAQSFEBV4jRavxAUQCwG9pObEBRArygbKGYOFEDOk3zwWw0UQHUaHhg5DRRAg7dHMwMNFEBJQmyKTQwUQP5lN830CxRA9EEFIckLFEBWyLpaPAsUQCHM1iAlChRAReJyJqgJFEAqjIIwcwgUQPYMI54yBhRA7ZtFoAQFFEDi3vGMYQQUQGKf+vxoAxRAS6jOLkwDFEC5tQd1OwMUQLFbBcLoAhRADjeAvs4BFEBIehiZlQEUQKdRBl1DARRAvcp4R/wAFEA3xhMz8AAUQDMAcXJPABRAAAAAAAAAFEA=",
           "dtype": "f8"
          }
         },
         "mode": "markers",
         "text": [
          "Ed Sheeran - Shape of You<br>Views: 14569727",
          "Ariana Grande - ​thank u next<br>Views: 9072131",
          "Rihanna - Work<br>Views: 7871555",
          "Sam Smith - Too Good at Goodbyes<br>Views: 7784454",
          "Ariana Grande - 7 rings<br>Views: 7387794",
          "Drake - Hotline Bling<br>Views: 6877777",
          "The Chainsmokers - Closer<br>Views: 6721409",
          "Ed Sheeran - Perfect<br>Views: 6201020",
          "Garrett Nash - ​i​ hate u i love u<br>Views: 6154593",
          "Beyonc - Formation<br>Views: 6074066",
          "Drake - One Dance<br>Views: 5994025",
          "Marshmello & Anne-Marie - FRIENDS<br>Views: 5510293",
          "Adele - Hello<br>Views: 5213471",
          "Robin Thicke - Blurred Lines<br>Views: 4583633",
          "Dua Lipa - New Rules<br>Views: 4501334",
          "Wiz Khalifa - See You Again<br>Views: 4207865",
          "The Weeknd - Cant Feel My Face<br>Views: 4139243",
          "Justin Bieber - Love Yourself<br>Views: 4119062",
          "Billie Eilish & Khalid - ​lovely<br>Views: 4110775",
          "Ryan Gosling & Emma Stone - City of Stars/May Finally Come True<br>Views: 4064212",
          "Daft Punk - Get Lucky<br>Views: 4046991",
          "Christmas Songs - The Twelve Days of Christmas<br>Views: 3948378",
          "Lukas Graham - 7 Years<br>Views: 3879413",
          "Charlie Puth - Attention<br>Views: 3868264",
          "Camila Cabello - Havana<br>Views: 3858375",
          "BTS - Dynamite<br>Views: 3848706",
          "Hozier - Take Me to Church<br>Views: 3836976",
          "Ziv Zaifman - A Million Dreams<br>Views: 3764208",
          "Olivia Rodrigo - ​drivers license<br>Views: 3643348",
          "Frank Sinatra - Fly Me to the Moon<br>Views: 3636368",
          "Billie Eilish - ​when the partys over<br>Views: 3619075",
          "DJ Snake - Let Me Love You<br>Views: 3369636",
          "Maroon 5 - Girls Like You Remix<br>Views: 3369012",
          "CaptainSparklez - Revenge<br>Views: 3348066",
          "Billie Eilish - ​bad guy<br>Views: 3324113",
          "Zac Efron - Rewrite the Stars<br>Views: 3308421",
          "Julia Michaels - Issues<br>Views: 3308226",
          "Ariana Grande - ​God is a woman<br>Views: 3300453",
          "Lewis Capaldi - Someone You Loved<br>Views: 3289557",
          "The Chainsmokers & Coldplay - Something Just Like This<br>Views: 3285377",
          "BTS - Butter<br>Views: 3282336",
          "Post Malone - Psycho<br>Views: 3266489",
          "Billie Eilish - ​everything i wanted<br>Views: 3210364",
          "Billie Eilish - Happier Than Ever<br>Views: 3203032",
          "Beyonc - Partition<br>Views: 3151316",
          "Marshmello & Bastille - Happier<br>Views: 3147900",
          "James Arthur - Say You Wont Let Go<br>Views: 3066032",
          "ZAYN - Dusk Till Dawn<br>Views: 3033507",
          "Drake - Passionfruit<br>Views: 2980963",
          "Ariana Grande - Side To Side<br>Views: 2907737",
          "twenty one pilots - Heathens<br>Views: 2899906",
          "XXXTENTACION - ​changes<br>Views: 2866708",
          "Selena Gomez - Lose You To Love Me<br>Views: 2836093",
          "Ariana Grande - ​​no tears left to cry<br>Views: 2835333",
          "Shawn Mendes & Camila Cabello - Señorita<br>Views: 2822601",
          "Cardi B - Up<br>Views: 2816692",
          "Billie Eilish - ​idontwannabeyouanymore<br>Views: 2803781",
          "Calvin Harris - Slide<br>Views: 2733561",
          "Taylor Swift - All Too Well 10 Minute Version Taylors Version From the Vault<br>Views: 2713579",
          "Drake - Too Good<br>Views: 2711868",
          "Kygo & Selena Gomez - It Aint Me<br>Views: 2682046",
          "Joji - SLOW DANCING IN THE DARK<br>Views: 2665338",
          "Christmas Songs - Jingle Bells<br>Views: 2655226",
          "Bruno Mars - Finesse Remix<br>Views: 2618584",
          "Elvis Presley - Cant Help Falling in Love<br>Views: 2614154",
          "blackbear - ​hot girl bummer<br>Views: 2613320",
          "Frank Ocean - Self Control<br>Views: 2594390",
          "Keala Settle - This Is Me<br>Views: 2591272",
          "Adele - Easy On Me<br>Views: 2572396",
          "Olivia Rodrigo - ​deja vu<br>Views: 2539113",
          "Frank Ocean - Pink Matter<br>Views: 2529442",
          "Billie Eilish - ​bury a friend<br>Views: 2523816",
          "Taylor Swift - ​cardigan<br>Views: 2519416",
          "Olivia Rodrigo - ​good 4 u<br>Views: 2486863",
          "Lady Gaga - Poker Face<br>Views: 2466148",
          "Frank Ocean - Ivy<br>Views: 2455605",
          "Shawn Mendes - Theres Nothing Holdin Me Back<br>Views: 2419538",
          "You'll Be Back Lyrics - Jonathan Groff & Original Broadway Cast of \"Hamilton\" - Youll Be Back<br>Views: 2407908",
          "Hugh Jackman, Keala Settle, Zac Efron, Zendaya & The Greatest Showman Ensemble - The Greatest Show<br>Views: 2403101",
          "The Weeknd - Blinding Lights<br>Views: 2399395",
          "Calvin Harris - Feels<br>Views: 2386879",
          "Machine Gun Kelly & Camila Cabello - Bad Things<br>Views: 2384792",
          "Justin Bieber - Sorry<br>Views: 2330542",
          "Taylor Swift - ​exile<br>Views: 2323794",
          "Foster the People - Pumped Up Kicks<br>Views: 2272846",
          "Tones and I - Dance Monkey<br>Views: 2252628",
          "Justin Bieber - Baby<br>Views: 2232442",
          "Halsey - Without Me<br>Views: 2225694",
          "Demi Lovato - Sorry Not Sorry<br>Views: 2225272",
          "Ariana Grande - ​break up with your girlfriend im bored<br>Views: 2185400",
          "Lorde - Royals<br>Views: 2091024",
          "The Weeknd - I Feel It Coming<br>Views: 2086367",
          "Lizzo - Truth Hurts<br>Views: 2059144",
          "Pharrell Williams - Happy<br>Views: 2047342",
          "Zedd & Alessia Cara - Stay<br>Views: 2043010",
          "Bruno Mars - Versace on the Floor<br>Views: 2042024",
          "Ed Sheeran - Castle on the Hill<br>Views: 2040654",
          "Post Malone - Circles<br>Views: 2029105",
          "Rick Astley - Never Gonna Give You Up<br>Views: 2019657",
          "Calum Scott - You Are the Reason<br>Views: 2004688",
          "Loren Allred - Never Enough<br>Views: 2004530",
          "Taylor Swift - ​the 1<br>Views: 2003697",
          "Ariana Grande - ​​breathin<br>Views: 1992922",
          "Ed Sheeran - Happier<br>Views: 1971704",
          "Camila Cabello - Never Be the Same<br>Views: 1964275",
          "Sia - Chandelier<br>Views: 1959985",
          "Drake - Controlla<br>Views: 1957905",
          "Daft Punk - Instant Crush<br>Views: 1953901",
          "Ed Sheeran & Beyonc - Perfect Duet<br>Views: 1949672",
          "Harry Styles - Watermelon Sugar<br>Views: 1924606",
          "Beyonc - Mine<br>Views: 1923612",
          "ROS - Gone<br>Views: 1918032",
          "Ariana Grande & Justin Bieber - Stuck with U<br>Views: 1910892",
          "Ed Sheeran - Supermarket Flowers<br>Views: 1898133",
          "Lil Dicky - Earth<br>Views: 1897143",
          "Billie Eilish - ​i love you<br>Views: 1874919",
          "Billie Eilish - Your Power<br>Views: 1872259",
          "Auli'i Cravalho - How Far Ill Go<br>Views: 1860785",
          "Drake - Teenage Fever<br>Views: 1824817",
          "Ed Sheeran - Thinking Out Loud<br>Views: 1813701",
          "Taylor Swift - All Too Well 10 Minute Version Taylors Version Live Acoustic<br>Views: 1808788",
          "Imagine Dragons - Thunder<br>Views: 1806462",
          "Adele - Someone Like You<br>Views: 1804078",
          "benny blanco, Halsey & Khalid - Eastside<br>Views: 1803950",
          "OutKast - Hey Ya<br>Views: 1801110",
          "Harry Styles - Falling<br>Views: 1772607",
          "Harry Styles - As It Was<br>Views: 1766064",
          "Beyonc - Flawless Remix<br>Views: 1765313",
          "Taylor Swift - Look What You Made Me Do<br>Views: 1761669",
          "The Weeknd - Party Monster<br>Views: 1755033",
          "Lana Del Rey - Young and Beautiful<br>Views: 1751863",
          "Martin Garrix & Dua Lipa - Scared to Be Lonely<br>Views: 1750679",
          "Mike Posner - I Took a Pill in Ibiza<br>Views: 1748799",
          "Taylor Swift - ​august<br>Views: 1746009",
          "Gotye - Somebody That I Used to Know<br>Views: 1737049",
          "Mariah Carey - All I Want for Christmas Is You<br>Views: 1736553",
          "Beyonc - If I Were a Boy<br>Views: 1736507",
          "Rihanna - Stay<br>Views: 1733986",
          "Billie Eilish - ​wish you were gay<br>Views: 1730399",
          "Marshmello - Silence<br>Views: 1708481",
          "Alessia Cara - Here<br>Views: 1704285",
          "Beyonc - Sorry<br>Views: 1685508",
          "Billy Straus - Little Einsteins Theme Song<br>Views: 1684132",
          "Jason Derulo - Swalla<br>Views: 1683293",
          "Ed Sheeran - Galway Girl<br>Views: 1671963",
          "Katy Perry - Swish Swish<br>Views: 1670284",
          "Maroon 5 - Memories<br>Views: 1664429",
          "Billie Eilish - No Time To Die<br>Views: 1664223",
          "Ava Max - Sweet but Psycho<br>Views: 1663792",
          "Panic! at the Disco - High Hopes<br>Views: 1662640",
          "Christmas Songs - Silent Night<br>Views: 1653014",
          "Clean Bandit - Rockabye<br>Views: 1648480",
          "Zedd, Maren Morris & Grey - The Middle<br>Views: 1639188",
          "Louis Tomlinson - Back to You<br>Views: 1633128",
          "Drake - Feel No Ways<br>Views: 1632170",
          "Liam Payne - Strip That Down<br>Views: 1621801",
          "Maroon 5 - What Lovers Do<br>Views: 1620915",
          "The 1975 - Somebody Else<br>Views: 1619955",
          "Genius English Translations - BTS - 봄날 Spring Day English Translation<br>Views: 1617367",
          "SHAUN () - Way Back Home Sam Feldt Edit<br>Views: 1617234",
          "Buddy Castle - The Cuppycake Song<br>Views: 1615871",
          "Justin Bieber - As Long As You Love Me<br>Views: 1613981",
          "Billie Eilish - Therefore I Am<br>Views: 1611739",
          "Dwayne Johnson - Youre Welcome<br>Views: 1589523",
          "Billie Eilish - ​​ocean eyes<br>Views: 1576197",
          "Hugh Jackman & Zac Efron - The Other Side<br>Views: 1575494",
          "Bruno Mars - 24K Magic<br>Views: 1573750",
          "Shawn Mendes - In My Blood<br>Views: 1553239",
          "Beyonc - Halo<br>Views: 1550729",
          "Genius English Translations - Luis Fonsi  Daddy Yankee - Despacito Remix ft. Justin Bieber English Translation<br>Views: 1541359",
          "Charlie Puth - We Dont Talk Anymore<br>Views: 1537147",
          "The Weeknd - Save Your Tears<br>Views: 1536269",
          "Ed Sheeran & Justin Bieber - I Dont Care<br>Views: 1535096",
          "Michael Jackson - Billie Jean<br>Views: 1529577",
          "Dua Lipa - Dont Start Now<br>Views: 1529121",
          "Taylor Swift - End Game<br>Views: 1528917",
          "Meghan Trainor - No<br>Views: 1522917",
          "Rex Orange County - Best Friend<br>Views: 1516787",
          "fun. - We Are Young<br>Views: 1493611",
          "Harry Styles - Adore You<br>Views: 1493090",
          "Taylor Swift - ​champagne problems<br>Views: 1479609",
          "Ariana Grande - ​imagine<br>Views: 1475546",
          "Major Lazer - Cold Water<br>Views: 1471590",
          "Rex Orange County - Sunflower<br>Views: 1467260",
          "Lil Peep & XXXTENTACION - Falling Down<br>Views: 1460877",
          "Passenger - Let Her Go<br>Views: 1460486",
          "Genius English Translations - BTS - Magic Shop English Translation<br>Views: 1460131",
          "Ed Sheeran - Dive<br>Views: 1457888",
          "Christina Perri - A Thousand Years<br>Views: 1454578",
          "Taylor Swift - Blank Space<br>Views: 1453851",
          "Doja Cat - Say So<br>Views: 1452616",
          "Naomi Scott - Speechless Full<br>Views: 1442299",
          "Calvin Harris & Disciples - How Deep Is Your Love<br>Views: 1441481",
          "Internet Money - Lemonade<br>Views: 1437713",
          "XXXTENTACION & Lil Pump - Arms Around You<br>Views: 1437415",
          "Ariel Winter - Sofia the First Main Title Theme From Sofia the First<br>Views: 1435764",
          "Taylor Swift - You Need To Calm Down<br>Views: 1432340",
          "Dream - Mask<br>Views: 1430440",
          "N.E.R.D & Rihanna - Lemon<br>Views: 1423142",
          "Michael Jackson - Smooth Criminal<br>Views: 1423093",
          "Genius English Translations - BTS - 전하지 못한 진심 The Truth Untold English Translation<br>Views: 1420821",
          "Taylor Swift - ME<br>Views: 1417794",
          "Rihanna, Kanye West & Paul McCartney - FourFiveSeconds<br>Views: 1408897",
          "Genius English Translations - BTS - FAKE LOVE English Translation<br>Views: 1406935",
          "A Great Big World - Say Something<br>Views: 1402289",
          "Ariana Grande - ​needy<br>Views: 1399654",
          "Selena Gomez & Marshmello - Wolves<br>Views: 1398677",
          "Doja Cat - Kiss Me More<br>Views: 1397914",
          "Ed Sheeran - Photograph<br>Views: 1388171",
          "Selena Gomez - Back to You<br>Views: 1386605",
          "ElyOtto - SugarCrash<br>Views: 1381518",
          "Taylor Swift - ​my tears ricochet<br>Views: 1379198",
          "Lea Salonga & Brad Kane - A Whole New World<br>Views: 1374713",
          "Frank Ocean - Forrest Gump<br>Views: 1373667",
          "Billie Eilish - ​my future<br>Views: 1373531",
          "Lewis Capaldi - Before You Go<br>Views: 1366879",
          "Taylor Swift - ...Ready for It?<br>Views: 1364726",
          "Genius English Translations - BTS - 소우주 Mikrokosmos English Translation<br>Views: 1358504",
          "Sia - The Greatest<br>Views: 1354602",
          "Ariana Grande - ​ghostin<br>Views: 1346788",
          "Cheap Thrills Lyrics - Sia - Cheap Thrills<br>Views: 1346457",
          "Taylor Swift - ​willow<br>Views: 1346096",
          "Frank Ocean - Solo<br>Views: 1343254",
          "Selena Gomez - Fetish<br>Views: 1337697",
          "twenty one pilots - Ride<br>Views: 1331474",
          "Jessie J, Ariana Grande & Nicki Minaj - Bang Bang<br>Views: 1324498",
          "Halsey - Colors<br>Views: 1324094",
          "a-ha - Take On Me<br>Views: 1323489",
          "Christmas Songs - O Holy Night<br>Views: 1322023",
          "OneRepublic - Counting Stars<br>Views: 1313601",
          "5 Seconds of Summer - Youngblood<br>Views: 1307178",
          "Drake - Blem<br>Views: 1301500",
          "Alan Walker - Faded<br>Views: 1300760",
          "twenty one pilots - Chlorine<br>Views: 1292683",
          "SpongeBob SquarePants - SpongeBob SquarePants Theme Song<br>Views: 1289363",
          "Clean Bandit - Rather Be<br>Views: 1286483",
          "Lana Del Rey - Summertime Sadness<br>Views: 1277584",
          "Jonas Blue - Perfect Strangers<br>Views: 1277241",
          "Billie Eilish - ​bellyache<br>Views: 1265616",
          "Anne-Marie - 2002<br>Views: 1265153",
          "Shawn Mendes - Treat You Better<br>Views: 1263410",
          "Mac Miller - Good News<br>Views: 1260827",
          "Genius English Translations - BTS 방탄소년단 - Life Goes On English Translation<br>Views: 1260187",
          "Ariana Grande - ​pete davidson<br>Views: 1258972",
          "Lorde - Team<br>Views: 1258606",
          "Dua Lipa - IDGAF<br>Views: 1257936",
          "Frankie Valli - Cant Take My Eyes Off You<br>Views: 1243780",
          "Ariana Grande - ​in my head<br>Views: 1237999",
          "Olivia Rodrigo - All I Want<br>Views: 1235882",
          "Judy Garland - Over the Rainbow<br>Views: 1233405",
          "NCT 127 - Regular English Ver.<br>Views: 1231311",
          "Billie Eilish - ​you should see me in a crown<br>Views: 1230785",
          "Billie Eilish - ​all the good girls go to hell<br>Views: 1230022",
          "Olivia Rodrigo - ​happier<br>Views: 1230015",
          "Doja Cat - Need to Know<br>Views: 1229085",
          "Lady Gaga - Bad Romance<br>Views: 1228897",
          "BLACKPINK & Selena Gomez - Ice Cream<br>Views: 1228770",
          "Billie Eilish - ​xanny<br>Views: 1225388",
          "Kiiara - Gold<br>Views: 1221253",
          "Justin Bieber - What Do You Mean?<br>Views: 1218257",
          "Shawn Mendes - Lost in Japan<br>Views: 1216085",
          "Taylor Swift - ​invisible string<br>Views: 1214407",
          "Genius Romanizations - JENNIE - SOLO Romanized<br>Views: 1212180",
          "LP - Lost on You<br>Views: 1209542",
          "Taylor Swift - Cruel Summer<br>Views: 1205142",
          "Frank Ocean - Seigfried<br>Views: 1203201",
          "Ed Sheeran - Dont<br>Views: 1201734",
          "Alessia Cara - Scars to Your Beautiful<br>Views: 1201209",
          "Alessia Cara - How Far Ill Go<br>Views: 1199638",
          "Liam Payne & Rita Ora - For You<br>Views: 1198998",
          "Linkin Park - One More Light<br>Views: 1193677",
          "The Weeknd - In the Night<br>Views: 1192782",
          "Sabrina Carpenter - Skin<br>Views: 1191440",
          "The Chainsmokers - Paris<br>Views: 1183476",
          "Taylor Lautner - Dream Song<br>Views: 1178929",
          "Kanye West - Heartless<br>Views: 1175109",
          "Linkin Park - Heavy<br>Views: 1173184",
          "Taylor Swift - ​the last great american dynasty<br>Views: 1169446",
          "Martin Garrix & Bebe Rexha - In the Name of Love<br>Views: 1168209",
          "Lana Del Rey - Love<br>Views: 1164223",
          "Frank Sinatra - My Way<br>Views: 1154002",
          "Sam Smith - Im Not the Only One<br>Views: 1148652",
          "Bella Poarch - Build a Bitch<br>Views: 1145779",
          "When We Were Young Lyrics - Adele - When We Were Young<br>Views: 1144604",
          "Halsey - Bad at Love<br>Views: 1141618",
          "Billie Eilish - ​ilomilo<br>Views: 1140234",
          "Beyonc - Flawless<br>Views: 1140040",
          "Tove Lo - Habits Stay High<br>Views: 1137304",
          "Taylor Swift - ​seven<br>Views: 1135867",
          "Billie Eilish - COPYCAT<br>Views: 1121989",
          "Genius English Translations - BTS - Euphoria English Translation<br>Views: 1121794",
          "Conan Gray - Heather<br>Views: 1109387",
          "Olivia Rodrigo - ​traitor<br>Views: 1108131",
          "Taylor Swift - Delicate<br>Views: 1107165",
          "Taylor Swift - Call It What You Want<br>Views: 1106570",
          "Billie Eilish - ​my strange addiction<br>Views: 1103823",
          "Dr. Seuss - Youre a Mean One Mr. Grinch<br>Views: 1102490",
          "DJ Khaled - GREECE<br>Views: 1099910",
          "Lady Gaga & Ariana Grande - Rain On Me<br>Views: 1099904",
          "The Kid LAROI & Justin Bieber - STAY<br>Views: 1098234",
          "Lana Del Rey - Lust for Life<br>Views: 1096002",
          "CNCO & Little Mix - Reggaetón Lento Remix<br>Views: 1091905",
          "Bruno Mars - When I Was Your Man<br>Views: 1091354",
          "Genius English Translations - BTS - Answer: Love Myself English Translation<br>Views: 1090897",
          "Ariana Grande - Let Me Love You<br>Views: 1090086",
          "Mr. Probz - Waves<br>Views: 1089333",
          "twenty one pilots - Nico And The Niners<br>Views: 1087923",
          "Maroon 5 - Girls Like You<br>Views: 1084746",
          "Lorde - Liability<br>Views: 1084197",
          "Taylor Swift - Style<br>Views: 1084081",
          "Genius English Translations - BTS - Pied Piper English Translation<br>Views: 1082916",
          "Billie Eilish - ​listen before i go<br>Views: 1082353",
          "Justin Timberlake - Suit  Tie<br>Views: 1079458",
          "Kanye West - Flashing Lights<br>Views: 1078113",
          "Kesha - Praying<br>Views: 1076614",
          "Taylor Swift - ​this is me trying<br>Views: 1076183",
          "Dean Lewis - Be Alright<br>Views: 1076162",
          "LSD - Thunderclouds<br>Views: 1072100",
          "Axwell  Ingrosso - More Than You Know<br>Views: 1069796",
          "BTS - Permission to Dance<br>Views: 1068880",
          "Maroon 5 - One More Night<br>Views: 1068504",
          "Taylor Swift - ​illicit affairs<br>Views: 1067254",
          "Maroon 5 - Dont Wanna Know<br>Views: 1066450",
          "Backstreet Boys - I Want It That Way<br>Views: 1066233",
          "The 1975 - Love It If We Made It<br>Views: 1063721",
          "Harry Styles - Medicine<br>Views: 1061013",
          "Clean Bandit - Symphony<br>Views: 1060131",
          "High School Musical Cast - Gotta Go My Own Way<br>Views: 1058180",
          "Lewis Capaldi - Bruises<br>Views: 1057539",
          "Jonas Brothers - Sucker<br>Views: 1055640",
          "Kina - Get You the Moon<br>Views: 1054303",
          "Genius English Translations - BTS - Epiphany English Translation<br>Views: 1053321",
          "Harry Styles - Fine Line<br>Views: 1050926",
          "Carmen Twillie & Lebo M - Circle of Life<br>Views: 1050049",
          "Frank Ocean - Swim Good<br>Views: 1040394",
          "All I Ask Lyrics - Adele - All I Ask<br>Views: 1039222",
          "Ed Sheeran - Bad Habits<br>Views: 1038848",
          "Genius English Translations - BTS - 작은 것들을 위한 시 Boy With Luv ft. Halsey English Translation<br>Views: 1036456",
          "Angel Lyrics - The Weeknd - Angel<br>Views: 1036110",
          "Miley Cyrus - Malibu<br>Views: 1034733",
          "Major Lazer - Lean On<br>Views: 1033022",
          "Ariana Grande - NASA<br>Views: 1032850",
          "King Princess - 1950<br>Views: 1031959",
          "Dua Lipa - Levitating<br>Views: 1030481",
          "Taylor Swift - Bad Blood Remix<br>Views: 1029808",
          "Niall Horan - Slow Hands<br>Views: 1028437",
          "Mariah Carey - We Belong Together<br>Views: 1027738",
          "Heathers the Musical Ensemble - Beautiful<br>Views: 1026704",
          "Selena Gomez - Bad Liar<br>Views: 1021335",
          "Dear Theodosia Lyrics - Lin-Manuel Miranda & Leslie Odom, Jr. - Dear Theodosia<br>Views: 1020513",
          "Katy Perry - Dark Horse<br>Views: 1018681",
          "Doja Cat - Mooo<br>Views: 1017603",
          "Lorde - Green Light<br>Views: 1016734",
          "Idina Menzel & Evan Rachel Wood - Show Yourself<br>Views: 1015458",
          "The Weeknd - Shameless<br>Views: 1013300",
          "Harry Styles - Cherry<br>Views: 1012962",
          "Ariana Grande & Social House - Boyfriend<br>Views: 1009606",
          "Katy Perry - Chained to the Rhythm<br>Views: 1007858",
          "Charlie Puth - How Long<br>Views: 1001786",
          "Genius English Translations - BTS 방탄소년단 - Blue  Grey English Translation<br>Views: 1001782",
          "Miley Cyrus - Wrecking Ball<br>Views: 998161",
          "ZAYN & Taylor Swift - I Dont Wanna Live Forever<br>Views: 996611",
          "Maroon 5 - Payphone<br>Views: 993951",
          "Michael Jackson - They Dont Care About Us<br>Views: 993938",
          "Family Guy - Main Title From Family Guy<br>Views: 993784",
          "Harry Styles - Lights Up<br>Views: 992719",
          "Rihanna - Diamonds<br>Views: 991142",
          "Doja Cat - Say So Remix<br>Views: 989623",
          "Lana Del Rey - Born to Die<br>Views: 989291",
          "Labrinth - Jealous<br>Views: 988109",
          "Lana Del Rey - Video Games<br>Views: 987462",
          "The Weeknd - In Your Eyes<br>Views: 987276",
          "Rusty Cage - The Knife Game Song<br>Views: 985090",
          "Justin Bieber - Holy<br>Views: 981653",
          "Loud Luxury - Body<br>Views: 981479",
          "twenty one pilots - Car Radio<br>Views: 981276",
          "JP Saxe - If the World Was Ending<br>Views: 977075",
          "Doja Cat - 4 Morant Better Luck Next Time<br>Views: 974933",
          "Ed Sheeran - The A Team<br>Views: 973860",
          "David Guetta - 2U<br>Views: 972224",
          "Kodaline - All I Want<br>Views: 971171",
          "Bruno Mars - Locked Out of Heaven<br>Views: 969654",
          "Billie Eilish - ​watch<br>Views: 969250",
          "Khalid - Talk<br>Views: 968202",
          "Rebecca Sugar - Love Like You End Credits<br>Views: 968044",
          "Britney Spears - ...Baby One More Time<br>Views: 967940",
          "Clean Bandit - Solo<br>Views: 967759",
          "Taylor Swift - ​happiness<br>Views: 964883",
          "Ariana Grande - ​bloodline<br>Views: 964418",
          "V () - Winter Bear<br>Views: 961668",
          "WILLOW - Wait a Minute<br>Views: 958664",
          "Billie Eilish - ​hostage<br>Views: 956351",
          "Taylor Swift - ​evermore<br>Views: 953351",
          "Taylor Swift - ​tolerate it<br>Views: 952051",
          "Glass Animals - Heat Waves<br>Views: 950735",
          "Tears for Fears - Everybody Wants to Rule the World<br>Views: 948944",
          "Adele - Set Fire to the Rain<br>Views: 947467",
          "Christmas Songs - Joy to the World<br>Views: 947378",
          "Eurythmics - Sweet Dreams Are Made of This<br>Views: 944256",
          "One Direction - Perfect<br>Views: 940418",
          "Shawn Mendes - If I Cant Have You<br>Views: 939133",
          "Ariana Grande - Into You<br>Views: 938784",
          "LANY - Super Far<br>Views: 937696",
          "Lady Gaga - Always Remember Us This Way<br>Views: 935097",
          "Amy Winehouse - Back to Black<br>Views: 925822",
          "Seal - Kiss From a Rose<br>Views: 925286",
          "Flume - Never Be Like You<br>Views: 922756",
          "XXXTENTACION - I dont even speak spanish lol<br>Views: 922608",
          "Sam Smith - Pray<br>Views: 921566",
          "Beyonc - Blow<br>Views: 921436",
          "Justin Bieber & BloodPop - Friends<br>Views: 920022",
          "Jon Bellion - All Time Low<br>Views: 919608",
          "ROS - On The Ground<br>Views: 917302",
          "Michael Jackson - Wanna Be Startin Somethin<br>Views: 917038",
          "Taylor Swift - ​peace<br>Views: 914865",
          "Original Broadway Cast of Beetlejuice - Say My Name<br>Views: 914749",
          "Calvin Harris & Dua Lipa - One Kiss<br>Views: 911394",
          "Lana Del Rey - West Coast<br>Views: 911305",
          "La La Land Cast - Another Day of Sun<br>Views: 910597",
          "Avatar: The Last Airbender - Leaves From The Vine Little Soldier Boy<br>Views: 908469",
          "Taylor Swift - ​mirrorball<br>Views: 908276",
          "Hugh Jackman, Keala Settle, Daniel Everidge, Zendaya & The Greatest Showman Ensemble - Come Alive<br>Views: 907927",
          "Lady Gaga - Do What U Want<br>Views: 907413",
          "Halsey - Sorry<br>Views: 905663",
          "Beyonc - Rocket<br>Views: 905218",
          "Ariana Grande - One Last Time<br>Views: 904057",
          "Taylor Swift - ​ivy<br>Views: 901557",
          "twenty one pilots - Tear in My Heart<br>Views: 900523",
          "Taylor Swift - Gorgeous<br>Views: 899680",
          "Rita Ora - Girls<br>Views: 899665",
          "Ariana Grande - ​fake smile<br>Views: 898618",
          "BROCKHAMPTON - SUGAR<br>Views: 898445",
          "The Weeknd & Gesaffelstein - Lost in the Fire<br>Views: 895820",
          "Blue Ivy, SAINt JHN, Beyonc & Wizkid - BROWN SKIN GIRL<br>Views: 891110",
          "Ben Platt & Original Broadway Cast of Dear Evan Hansen - Waving Through a Window<br>Views: 890718",
          "Olivia Rodrigo - ​favorite crime<br>Views: 890143",
          "DJ Khaled - No Brainer<br>Views: 887207",
          "Lana Del Rey - Norman fucking Rockwell<br>Views: 886859",
          "AURORA - Runaway<br>Views: 883711",
          "Rihanna - Umbrella<br>Views: 883134",
          "That Would Be Enough Lyrics - Lin-Manuel Miranda & Phillipa Soo - That Would Be Enough<br>Views: 882808",
          "Spice Girls - Wannabe<br>Views: 882743",
          "Selena Gomez - Look At Her Now<br>Views: 882496",
          "Cline Dion - My Heart Will Go On<br>Views: 880200",
          "Taylor Swift - ​mad woman<br>Views: 878270",
          "Frank Ocean - Biking<br>Views: 877453",
          "Ariana Grande - ​goodnight n go<br>Views: 877128",
          "Dan Salvato - Your Reality<br>Views: 873909",
          "Genius English Translations - BTS - Intro: Serendipity 세렌디피티 English Translation<br>Views: 872051",
          "Lady Gaga & BLACKPINK - Sour Candy<br>Views: 871657",
          "Louis Armstrong - What a Wonderful World<br>Views: 871592",
          "Lana Del Rey - ​hope is a dangerous thing for a woman like me to have - but i have it<br>Views: 867774",
          "Prince and the Revolution - Purple Rain<br>Views: 867681",
          "One Direction - Story of My Life<br>Views: 865807",
          "Shawn Mendes - Stitches<br>Views: 863445",
          "One Direction - Drag Me Down<br>Views: 863136",
          "Jason Derulo - Talk Dirty<br>Views: 862785",
          "Harry Styles - Golden<br>Views: 862380",
          "CUCO - Lo Que Siento<br>Views: 858517",
          "Calvin Harris & Sam Smith - Promises<br>Views: 857357",
          "Jonas Blue - Mama<br>Views: 856045",
          "Sia - Snowman<br>Views: 852009",
          "24kGoldn - Mood<br>Views: 851920",
          "Shawn Mendes - Mercy<br>Views: 849976",
          "Ed Sheeran - South of the Border<br>Views: 849843",
          "Juice WRLD & Marshmello - Come  Go<br>Views: 849286",
          "Ariana Grande - ​the light is coming<br>Views: 849214",
          "Ruth B. - Lost Boy<br>Views: 848615",
          "Avicii - Wake Me Up<br>Views: 847900",
          "Hugh Jackman - From Now On<br>Views: 845228",
          "Billie Eilish - ​my boy<br>Views: 842321",
          "Martin Garrix & David Guetta - So Far Away<br>Views: 842293",
          "Emma Watson - Belle<br>Views: 840251",
          "Beyonc - Sandcastles<br>Views: 838389",
          "Lana Del Rey - High By The Beach<br>Views: 838340",
          "Sufjan Stevens - Mystery of Love<br>Views: 837507",
          "Penelope Scott - Rät<br>Views: 836390",
          "Lauv - I Like Me Better<br>Views: 833066",
          "Frank Ocean - Sweet Life<br>Views: 833054",
          "twenty one pilots - My Blood<br>Views: 832524",
          "Nickelodeon - The Fairly Oddparents Theme Song<br>Views: 832327",
          "DNCE - Cake by the Ocean<br>Views: 831911",
          "Taylor Swift - The Man<br>Views: 831384",
          "Justin Bieber - Intentions<br>Views: 829883",
          "Tate McRae - One Day<br>Views: 829309",
          "Taylor Swift - ​gold rush<br>Views: 828613",
          "The Weeknd - False Alarm<br>Views: 828392",
          "Alec Benjamin - Let Me Down Slowly<br>Views: 827525",
          "Cardi B & Bruno Mars - Please Me<br>Views: 825954",
          "Taylor Swift - Dont Blame Me<br>Views: 824638",
          "Marshmello - Alone<br>Views: 823228",
          "Taylor Swift - Dress<br>Views: 823223",
          "The Weeknd - Dark Times<br>Views: 822301",
          "Taylor Swift - Getaway Car<br>Views: 822194",
          "Genius English Translations - BTS - 친구 Friends English Translation<br>Views: 821079",
          "Taylor Swift - ​no body no crime<br>Views: 819976",
          "Taylor Swift - I Did Something Bad<br>Views: 819921",
          "Genius English Translations - BTS - 피 땀 눈물 Blood Sweat  Tears English Translation<br>Views: 817231",
          "Justin Bieber & benny blanco - Lonely<br>Views: 815686",
          "Cigarettes After Sex - Apocalypse<br>Views: 813995",
          "Taylor Swift - ​hoax<br>Views: 811882",
          "Beyonc - 7/11<br>Views: 810340",
          "Machine Gun Kelly, X Ambassadors & Bebe Rexha - Home<br>Views: 808419",
          "Brandon Beal - Twerk It Like Miley<br>Views: 803578",
          "Genius English Translations - BTS - 00:00 Zero OClock English Translation<br>Views: 802237",
          "Lana Del Rey - Cherry<br>Views: 800361",
          "Camila Cabello - Crying in the Club<br>Views: 800107",
          "Shawn Mendes & Justin Bieber - Monster<br>Views: 798325",
          "Sam Smith - Lay Me Down<br>Views: 795741",
          "Beyonc - 6 Inch<br>Views: 794865",
          "Halsey - Gasoline<br>Views: 792788",
          "Dua Lipa - Blow Your Mind Mwah<br>Views: 792372",
          "Andrew Lloyd Webber - The Phantom of the Opera<br>Views: 789078",
          "Gorillaz - Saturnz Barz<br>Views: 788638",
          "Rex Orange County - Corduroy Dreams<br>Views: 788605",
          "Meghan Trainor - All About That Bass<br>Views: 788473",
          "Larray - Canceled<br>Views: 787921",
          "Gucci Mane, Bruno Mars & Kodak Black - Wake Up in the Sky<br>Views: 787183",
          "Niall Horan - This Town<br>Views: 786267",
          "Barney - I Love You<br>Views: 785309",
          "The 1975 - Sincerity Is Scary<br>Views: 784422",
          "Bo Burnham - Welcome to the Internet<br>Views: 783776",
          "Taylor Swift - Wildest Dreams<br>Views: 779076",
          "Taylor Swift - ​epiphany<br>Views: 773619",
          "Francis Scott Key - Defence of Fort MHenry Star Spangled Banner<br>Views: 773207",
          "Little Mix - Secret Love Song<br>Views: 772087",
          "MineCraft Awesome Parodys - Mine Diamonds<br>Views: 772048",
          "James Arthur - Naked<br>Views: 771843",
          "Little Mix - Shout Out to My Ex<br>Views: 769255",
          "Olivia Rodrigo - 1 step forward 3 steps back<br>Views: 769032",
          "EDEN - XO<br>Views: 766624",
          "Genius English Translations - BTS - Trivia 轉: Seesaw English Translation<br>Views: 764835",
          "Beyonc - Love Drought<br>Views: 764116",
          "Beyonc - Listen<br>Views: 762656",
          "Ariana Grande - ​bad idea<br>Views: 761216",
          "Calum Scott - Dancing on My Own<br>Views: 760419",
          "Nicki Minaj - Starships<br>Views: 758792",
          "Harry Styles - Sweet Creature<br>Views: 758491",
          "Camila Cabello - Real Friends<br>Views: 757720",
          "Taylor Swift - The Archer<br>Views: 756878",
          "Harry Styles - Two Ghosts<br>Views: 756123",
          "Z (USA) - Nobodys Better<br>Views: 751855",
          "Beyonc - Pretty Hurts<br>Views: 751123",
          "Lady Gaga - Sexxx Dreams<br>Views: 750131",
          "MGMT - Little Dark Age<br>Views: 749765",
          "Rihanna - Whats My Name?<br>Views: 744985",
          "Ebony Day - Somebody Else Girl Version<br>Views: 744747",
          "Bazzi - Beautiful<br>Views: 743840",
          "Bo Burnham - Kill Yourself<br>Views: 742935",
          "Miley Cyrus - We Cant Stop<br>Views: 739741",
          "Genius English Translations - BTS - Butterfly English Translation<br>Views: 739308",
          "Cline Dion - How Does a Moment Last Forever<br>Views: 737088",
          "Owl City - Fireflies<br>Views: 736623",
          "Heathers the Musical Ensemble - Candy Store<br>Views: 735635",
          "Fergie - Fergalicious<br>Views: 733874",
          "LANY - 13<br>Views: 732313",
          "Kehlani - Honey<br>Views: 729843",
          "Genius English Translations - BLACKPINK - Kill This Love English Translation<br>Views: 729059",
          "Lana Del Rey - Ultraviolence<br>Views: 728387",
          "Ben&Ben - Maybe The Night<br>Views: 727656",
          "Harry Styles - She<br>Views: 727157",
          "Lukas Graham - Love Someone<br>Views: 721974",
          "Ylvis - The Fox What Does the Fox Say?<br>Views: 720922",
          "Lorde - Ribs<br>Views: 720875",
          "Skrillex, Justin Bieber & Diplo - Where Are Ü Now<br>Views: 719971",
          "Bastille - Pompeii<br>Views: 719421",
          "Imagine Dragons - Bad Liar<br>Views: 717700",
          "Anne-Marie - Alarm<br>Views: 717360",
          "Taylor Swift - London Boy<br>Views: 714492",
          "Genius English Translations - BTS - We Are Bulletproof: The Eternal English Translation<br>Views: 714377",
          "Harry Styles - Sunflower Vol. 6<br>Views: 713384",
          "David Guetta - Titanium<br>Views: 713066",
          "Death of a Bachelor Lyrics - Panic! at the Disco - Death of a Bachelor<br>Views: 713043",
          "Kero Kero Bonito - Flamingo<br>Views: 712655",
          "Taylor Swift - ​tis the damn season<br>Views: 710566",
          "The 1975 - Girls<br>Views: 710122",
          "Taylor Swift - Cornelia Street<br>Views: 710018",
          "ZAYN - Let Me<br>Views: 708950",
          "Ed Sheeran - I See Fire<br>Views: 707045",
          "Ariana Grande - ​make up<br>Views: 706620",
          "Taylor Swift - Miss Americana  The Heartbreak Prince<br>Views: 706038",
          "The Weeknd - Secrets<br>Views: 704817",
          "Rihanna - Loveeeeeee Song<br>Views: 704516",
          "Netta -  - Toy<br>Views: 704177",
          "Santana - Maria Maria<br>Views: 702912",
          "Genius English Translations - BTS - ON English Translation<br>Views: 700886",
          "Dua Lipa - Break My Heart<br>Views: 700551",
          "Selena Gomez - Good for You<br>Views: 700382",
          "Taylor Swift - Bad Blood<br>Views: 700373",
          "Genius English Translations - BTS - Intro: Singularity English Translation<br>Views: 700203",
          "Clean Bandit - Tears<br>Views: 699863",
          "Idina Menzel - Let It Go<br>Views: 699293",
          "Olivia Rodrigo - ​hope ur ok<br>Views: 697482",
          "Taylor Swift - Daylight<br>Views: 696073",
          "The Chainsmokers - All We Know<br>Views: 693840",
          "Sam Smith - How Do You Sleep?<br>Views: 693457",
          "Lana Del Rey - Carmen<br>Views: 692957",
          "Genius English Translations - BLACKPINK - 뚜두뚜두 DDU-DU DDU-DU English Translation<br>Views: 692390",
          "The Beatles - A Day in the Life<br>Views: 691544",
          "PewDiePie, Roomie & Boyinaband - Congratulations<br>Views: 691464",
          "Taylor Swift - ​the lakes<br>Views: 691207",
          "SIX Cast - Dont Lose Ur Head<br>Views: 691012",
          "Michael Jackson - Thriller<br>Views: 690006",
          "Lana Del Rey - Off to the Races<br>Views: 689821",
          "Lana Del Rey - National Anthem<br>Views: 689412",
          "Bruno Mars - Grenade<br>Views: 688956",
          "Jonas Blue - Rise<br>Views: 686874",
          "Lana Del Rey - Doin Time<br>Views: 685850",
          "Alan Walker - Darkside<br>Views: 685641",
          "Adele - Send My Love To Your New Lover<br>Views: 684703",
          "Tom Hulce & Tony Jay - Heaven’s Light / Hellfire<br>Views: 682717",
          "Camila Cabello - My Oh My<br>Views: 681645",
          "Bazzi - Beautiful Remix<br>Views: 680378",
          "twenty one pilots - Holding On To You<br>Views: 680234",
          "Halsey - Alone<br>Views: 679111",
          "Lana Del Rey - Blue Jeans<br>Views: 678913",
          "Genius English Translations - BTS - Filter English Translation<br>Views: 677577",
          "Daniela Andrade - La Vie En Rose<br>Views: 677484",
          "The Beatles - Eleanor Rigby<br>Views: 676890",
          "twenty one pilots - Neon Gravestones<br>Views: 675883",
          "Billie Eilish - Bored<br>Views: 674216",
          "Miley Cyrus - Slide Away<br>Views: 674209",
          "Sia - Helium<br>Views: 674024",
          "Taylor Swift - King of My Heart<br>Views: 673917",
          "Adele - To Be Loved<br>Views: 673140",
          "Davido - If<br>Views: 672996",
          "Dua Lipa & BLACKPINK - Kiss and Make Up<br>Views: 671620",
          "Michael Jackson - Man in the Mirror<br>Views: 671106",
          "Steve Aoki - Waste It On Me<br>Views: 670205",
          "Ben Platt, Kristolyn Lloyd, Will Rolland, Laura Dreyfuss & Original Broadway Cast of Dear Evan Hansen - You Will Be Found<br>Views: 669309",
          "Taylor Swift - Death by a Thousand Cuts<br>Views: 669308",
          "The Chainsmokers - Roses<br>Views: 668297",
          "Ellie Goulding - Love Me Like You Do<br>Views: 666481",
          "Ariana Grande, Miley Cyrus & Lana Del Rey - Dont Call Me Angel Charlies Angels<br>Views: 664436",
          "Michael Bubl - L.O.V.E.<br>Views: 664069",
          "LANY - Malibu Nights<br>Views: 663770",
          "PUBLIC - Make You Mine<br>Views: 663656",
          "Jacob Sartorius - Hit or Miss<br>Views: 663607",
          "Ariana Grande - Problem<br>Views: 663354",
          "Be the One Lyrics - Dua Lipa - Be the One<br>Views: 659935",
          "Wilbur Soot - Your New Boyfriend<br>Views: 659684",
          "The Longest Johns - Wellerman<br>Views: 659658",
          "Justin Bieber - Beauty and a Beat<br>Views: 659593",
          "Ed Sheeran - Beautiful People<br>Views: 659007",
          "Men at Work - Down Under<br>Views: 657360",
          "Lana Del Rey - Fuck it I love you<br>Views: 656701",
          "Ricky Montgomery - Line Without a Hook<br>Views: 655684",
          "The xx - Angels<br>Views: 655619",
          "Genius English Translations - BTS - Make It Right English Translation<br>Views: 654634",
          "John Mayer - New Light<br>Views: 654408",
          "twenty one pilots - Kitchen Sink<br>Views: 652531",
          "Ariana Grande & The Weeknd - Save Your Tears Remix<br>Views: 652326",
          "Tyler, The Creator - IGORS THEME<br>Views: 652124",
          "We The Sus Music - Dream - Mask Official Sus Remix<br>Views: 651704",
          "Billie Eilish & Justin Bieber - ​bad guy<br>Views: 651436",
          "Bruno Mars - Just the Way You Are<br>Views: 650654",
          "BLACKPINK - Love To Hate Me<br>Views: 650567",
          "Genius English Translations - Bad Bunny  Jhay Cortez - DÁKITI English Translation<br>Views: 650404",
          "Lady Gaga - Ill Never Love Again Extended Version<br>Views: 649659",
          "MAGIC! - Rude<br>Views: 649343",
          "Lady Gaga - Million Reasons<br>Views: 647203",
          "Demi Lovato - Sober<br>Views: 646341",
          "Bebe Rexha - Meant to Be<br>Views: 644762",
          "Billie Eilish - NDA<br>Views: 643818",
          "Billie Eilish - 8<br>Views: 643153",
          "Lana Del Rey - Cinnamon Girl<br>Views: 641866",
          "Ariana Grande - ​everytime<br>Views: 640309",
          "Taylor Swift - New Years Day<br>Views: 640130",
          "LazyTown - We Are Number One<br>Views: 639877",
          "Genius English Translations - BTS - HOME English Translation<br>Views: 639818",
          "Lana Del Rey - Brooklyn Baby<br>Views: 637686",
          "Jessie Reyez - FIGURES<br>Views: 637594",
          "Frank Ocean - Skyline To<br>Views: 635806",
          "Britney Spears - Toxic<br>Views: 634669",
          "Lauv & Troye Sivan - ​im so tired...<br>Views: 633979",
          "Miley Cyrus - Midnight Sky<br>Views: 633927",
          "Melanie Martinez - Dollhouse<br>Views: 631916",
          "Hailee Steinfeld & Grey - Starving<br>Views: 631393",
          "Genius English Translations - Jimin - 약속 Promise English Translation<br>Views: 630872",
          "Genius English Translations - BTS - IDOL English Translation<br>Views: 630540",
          "The Chainsmokers - Dont Let Me Down<br>Views: 630432",
          "Mike Faist, Ben Platt & Will Roland - Sincerely Me<br>Views: 628625",
          "Ariana Grande & Doja Cat - ​motive<br>Views: 628309",
          "twenty one pilots - Migraine<br>Views: 626660",
          "Ed Sheeran - Eraser<br>Views: 624752",
          "Dixie - Be Happy<br>Views: 624562",
          "One Direction - What Makes You Beautiful<br>Views: 623621",
          "Billie Eilish - ​bitches broken hearts<br>Views: 623522",
          "The Chainsmokers - This Feeling<br>Views: 622672",
          "Rihanna - Love the Way You Lie Pt. II<br>Views: 621101",
          "Lana Del Rey - Summer Bummer<br>Views: 620693",
          "Little Mix - Woman Like Me<br>Views: 620620",
          "Bebe Rexha - Im a Mess<br>Views: 620590",
          "Nico & Vinz - Am I Wrong<br>Views: 619132",
          "MAX - Lights Down Low<br>Views: 619061",
          "Niall Horan - Too Much to Ask<br>Views: 618326",
          "Lana Del Rey - Love song<br>Views: 617729",
          "Duncan Laurence - Arcade<br>Views: 615766",
          "Katy Perry - Bon Appétit<br>Views: 615526",
          "Bo Burnham - That Funny Feeling<br>Views: 614560",
          "Amy Winehouse - You Know Im No Good<br>Views: 613828",
          "twenty one pilots - Message Man<br>Views: 613362",
          "Sam Smith - Writings on the Wall<br>Views: 613057",
          "Maroon 5 - Cold<br>Views: 612873",
          "ZAYN - Entertainer<br>Views: 611710",
          "Dean Martin - Baby Its Cold Outside<br>Views: 611321",
          "P!nk - Just Give Me a Reason<br>Views: 610931",
          "Pokmon - Pokémon Theme Gotta Catch ’Em All<br>Views: 610785",
          "R. City - Locked Away<br>Views: 610765",
          "Shawn Mendes - Youth<br>Views: 610579",
          "Ashnikko - STUPID<br>Views: 610158",
          "Beyonc - XO<br>Views: 609119",
          "Olivia Rodrigo - ​enough for you<br>Views: 608831",
          "Josh Gad - Gaston<br>Views: 608703",
          "salem ilese - Mad at Disney<br>Views: 608470",
          "Taylor Swift - ​coney island<br>Views: 607633",
          "Billie Eilish - ​​come out and play<br>Views: 607313",
          "Harry Styles - To Be So Lonely<br>Views: 606374",
          "SpongeBob SquarePants - F.U.N. Song<br>Views: 606009",
          "Melanie Martinez - Sippy Cup<br>Views: 605156",
          "Jax Jones - You Dont Know Me<br>Views: 604969",
          "will.i.am - Scream  Shout<br>Views: 604852",
          "What Comes Next? Lyrics - Jonathan Groff - What Comes Next?<br>Views: 604834",
          "Genius English Translations - DJ Snake - Taki Taki ft. Ozuna Cardi B  Selena Gomez English Translation<br>Views: 604732",
          "P!nk - What About Us<br>Views: 603080",
          "One Direction - Night Changes<br>Views: 602825",
          "Lorde - The Louvre<br>Views: 602819",
          "Rudimental - These Days<br>Views: 601357",
          "Taylor Swift - I Forgot That You Existed<br>Views: 600671",
          "girl in red - ​girls<br>Views: 600406",
          "FRENSHIP & Emily Warren - Capsize<br>Views: 600202",
          "Shawn Mendes - Wonder<br>Views: 600121",
          "Nicki Minaj - Bed<br>Views: 598658",
          "Idina Menzel & AURORA - Into the Unknown<br>Views: 597951",
          "Estelle & AJ Michalka - Here Comes a Thought<br>Views: 595273",
          "Vampire Weekend - Step<br>Views: 594443",
          "Genius English Translations - BTS - 시차 My Time English Translation<br>Views: 593728",
          "Halsey - New Americana<br>Views: 593492",
          "Rachel Platten - Fight Song<br>Views: 593209",
          "Gnarls Barkley - Crazy<br>Views: 592892",
          "Zedd - Clarity<br>Views: 592758",
          "Jess Glynne - Hold My Hand<br>Views: 592750",
          "Clairo - Sofia<br>Views: 591946",
          "Taylor Swift - ​cowboy like me<br>Views: 591494",
          "Anne-Marie - Ciao Adiós<br>Views: 591116",
          "Kanye West - No Child Left Behind<br>Views: 590826",
          "flora cash - Youre Somebody Else<br>Views: 590654",
          "Harry Belafonte - Day-O Banana Boat Song<br>Views: 590399",
          "Selena Gomez - The Heart Wants What It Wants<br>Views: 590315",
          "Taylor Swift - Paper Rings<br>Views: 589676",
          "Lauren Daigle - You Say<br>Views: 586342",
          "Lana Del Rey - Ride<br>Views: 586300",
          "Genius English Translations - BTS - Dionysus English Translation<br>Views: 586235",
          "Davido - Fall<br>Views: 585773",
          "Audrey Hepburn - Moon River<br>Views: 584854",
          "Fifth Harmony - Work from Home<br>Views: 584406",
          "Meghan Trainor - Like Im Gonna Lose You<br>Views: 583778",
          "The 1975 - Guys<br>Views: 582350",
          "SYML - Wheres My Love<br>Views: 581162",
          "Stone Cold Lyrics - Demi Lovato - Stone Cold<br>Views: 581156",
          "Rex Orange County - A Song About Being Sad<br>Views: 581151",
          "Randy Newman - Youve Got a Friend in Me<br>Views: 580858",
          "Lorde - Tennis Court<br>Views: 580569",
          "Katy Perry - Firework<br>Views: 580556",
          "twenty one pilots - Level of Concern<br>Views: 580061",
          "Bruno Mars - Finesse<br>Views: 579643",
          "High School Musical Cast - Breaking Free<br>Views: 578420",
          "Take Me Home Lyrics - Jess Glynne - Take Me Home<br>Views: 577915",
          "Aqua - Barbie Girl<br>Views: 577913",
          "Ed Sheeran - Afterglow<br>Views: 575980",
          "Beyonc - Haunted<br>Views: 575415",
          "Katy Perry - Roar<br>Views: 575310",
          "Lana Del Rey - Happiness is a butterfly<br>Views: 575082",
          "Imagine Dragons - Not Today<br>Views: 574162",
          "Tyler, The Creator - RUNNING OUT OF TIME<br>Views: 573800",
          "Jack Stauber - Buttercup<br>Views: 573561",
          "Focus Lyrics - Ariana Grande - Focus<br>Views: 573062",
          "Ellie Goulding & Juice WRLD - Hate Me<br>Views: 572296",
          "Rihanna - Higher<br>Views: 572154",
          "Beyonc - Countdown<br>Views: 572129",
          "Lorde - Hard Feelings/Loveless<br>Views: 571775",
          "Charlie Puth - Marvin Gaye<br>Views: 571624",
          "5 Seconds of Summer - Teeth<br>Views: 569836",
          "The Chainsmokers - Sick Boy<br>Views: 568813",
          "K - The Crush Song<br>Views: 568619",
          "Sia - Cheap Thrills Remix<br>Views: 567938",
          "Nicki Minaj - Ganja Burn<br>Views: 566233",
          "Demi Lovato - Tell Me You Love Me<br>Views: 564624",
          "The Smiths - There Is a Light That Never Goes Out<br>Views: 562818",
          "Dave Rodgers - Deja Vu<br>Views: 561730",
          "Tisto & Dzeko - Jackie Chan<br>Views: 560898",
          "Heathers the Musical Ensemble - Seventeen<br>Views: 560620",
          "Lana Del Rey - Chemtrails Over the Country Club<br>Views: 560481",
          "Cher - Believe<br>Views: 560187",
          "Britney Spears - Work Bitch<br>Views: 560160",
          "Billie Eilish - ​​party favor<br>Views: 560047",
          "Genius English Translations - BTS - Louder than bombs English Translation<br>Views: 559533",
          "NEIKED - Sexual<br>Views: 558472",
          "Heathers the Musical Ensemble - Big Fun<br>Views: 558032",
          "High School Musical Cast - We’re All In This Together<br>Views: 557612",
          "YOUTH Lyrics - Troye Sivan - YOUTH<br>Views: 556986",
          "Billie Eilish - 6.18.18<br>Views: 556894",
          "Taylor Swift - False God<br>Views: 556762",
          "Taylor Swift - ​dorothea<br>Views: 556148",
          "Katelyn Tarver - You Dont Know<br>Views: 555819",
          "Taylor Swift - So It Goes...<br>Views: 555645",
          "Kristen Bell & Idina Menzel - For the First Time in Forever<br>Views: 554864",
          "Lady Gaga - G.U.Y.<br>Views: 554738",
          "Mark Ronson - Nothing Breaks Like a Heart<br>Views: 553922",
          "Tom Walker - Leave a Light On<br>Views: 553374",
          "Taylor Swift - This Is Why We Can’t Have Nice Things<br>Views: 551794",
          "Ariana Grande - Moonlight<br>Views: 550810",
          "Adventure Time - Everything Stays<br>Views: 550593",
          "Billie Eilish - ​goodbye<br>Views: 550037",
          "The Weeknd - Losers<br>Views: 549873",
          "Adventure Time - Adventure Time Main Title<br>Views: 549852",
          "DJ Snake - Middle<br>Views: 549025",
          "Beyonc - Heaven<br>Views: 548847",
          "Walt Disney Records - Can You Feel the Love Tonight<br>Views: 548703",
          "The 1975 - It’s Not Living If It’s Not with You<br>Views: 546375",
          "Taylor Swift - Afterglow<br>Views: 545554",
          "Be More Chill Ensemble - Michael in the Bathroom<br>Views: 544881",
          "Rihanna - Man Down<br>Views: 544707",
          "LANY - ​pink skies<br>Views: 544557",
          "Ed Sheeran - New Man<br>Views: 544422",
          "Carly Rae Jepsen - Call Me Maybe<br>Views: 544210",
          "Parokya Ni Edgar - Your Song<br>Views: 543526",
          "Beyonc - Jealous<br>Views: 543423",
          "\"In the Heights\" Original Broadway Company & Mandy Gonzalez - Breathe<br>Views: 543092",
          "Alan Walker - Diamond Heart<br>Views: 542879",
          "Michael Jackson - Beat It<br>Views: 542563",
          "XXXTENTACION - Ayala Outro<br>Views: 540664",
          "The 1975 - Loving Someone<br>Views: 540407",
          "Beyonc - Irreplaceable<br>Views: 540086",
          "XXXTENTACION - Ex Bitch<br>Views: 540065",
          "Chord Overstreet - Hold On<br>Views: 539229",
          "Ashe - Moral of the Story<br>Views: 539081",
          "Carolina Gaitn, Mauro Castillo, Adassa, Rhenzy Feliz, Diane Guerrero & Stephanie Beatriz - We Dont Talk About Bruno<br>Views: 538628",
          "Justin Bieber - Mistletoe<br>Views: 538400",
          "Camila Cabello - Shameless<br>Views: 535642",
          "Lorde - Solar Power<br>Views: 535067",
          "Taylor Swift - Dancing with Our Hands Tied<br>Views: 534368",
          "Genius English Translations - BTS - Trivia 承: Love English Translation<br>Views: 534201",
          "Lana Del Rey - Cola<br>Views: 533612",
          "The Killers - Human<br>Views: 533589",
          "Lady Gaga - Born This Way<br>Views: 533344",
          "Ariana Grande - Everyday<br>Views: 532343",
          "Louis Tomlinson - Always You<br>Views: 531327",
          "Justin Bieber - Ill Show You<br>Views: 530677",
          "NF - If You Want Love<br>Views: 529577",
          "Paramore - Hard Times<br>Views: 529436",
          "Kristin Chenoweth - Defying Gravity<br>Views: 529296",
          "Genius English Translations - BTS - 낙원 Paradise English Translation<br>Views: 528629",
          "Rihanna - Diamonds Remix<br>Views: 528212",
          "Disclosure - Latch<br>Views: 527547",
          "Lorde - Perfect Places<br>Views: 527479",
          "Alex & Sierra - Little Do You Know<br>Views: 527437",
          "Adele - Water Under the Bridge<br>Views: 527262",
          "Avicii - Hey Brother<br>Views: 527184",
          "Sufjan Stevens - Fourth of July<br>Views: 527109",
          "Genius English Translations - BTS - House of Cards Full Length Edition English Translation<br>Views: 526806",
          "Ed Sheeran - How Would You Feel Paean<br>Views: 526610",
          "Sam Smith - Fire on Fire<br>Views: 526000",
          "Maroon 5 - She Will Be Loved<br>Views: 525177",
          "Camila Cabello - Consequences<br>Views: 524748",
          "Taylor Swift - I Think He Knows<br>Views: 524269",
          "Katy Perry - Never Really Over<br>Views: 523821",
          "Fall Out Boy - Centuries<br>Views: 523456",
          "Maroon 5 - Maps<br>Views: 521416",
          "Genius English Translations - Bad Bunny - Yo Perreo Sola English Translation<br>Views: 521211",
          "Genius English Translations - BTS - DNA English Translation<br>Views: 521054",
          "LSD - Genius<br>Views: 521031",
          "Calvin Harris - Rollin<br>Views: 520474",
          "Why Don't We - 8 Letters<br>Views: 520383",
          "Taylor Swift - ​l​ong story short<br>Views: 519646",
          "Katy Perry - The One That Got Away<br>Views: 519631",
          "Beyonc - Bow Down / I Been On<br>Views: 519246",
          "Billie Eilish - Male Fantasy<br>Views: 519179",
          "Jemaine Clement - Shiny<br>Views: 517992",
          "Bruno Mars - Talking to the Moon<br>Views: 517804",
          "Justin Bieber - Anyone<br>Views: 517790",
          "One Call Away Lyrics - Charlie Puth - One Call Away<br>Views: 516759",
          "Naughty Boy - La La La<br>Views: 516584",
          "Milky Chance - Stolen Dance<br>Views: 514925",
          "Lorde - Sober<br>Views: 514078",
          "LANY - Hericane<br>Views: 513345",
          "Melanie Martinez - Tag You’re It<br>Views: 512487",
          "Drake - Madiba Riddim<br>Views: 511981",
          "twenty one pilots - The Judge<br>Views: 511832",
          "I Know Him Lyrics - Jonathan Groff - I Know Him<br>Views: 510518",
          "Hailee Steinfeld - Most Girls<br>Views: 510066",
          "Ed Sheeran - Nancy Mulligan<br>Views: 509997",
          "Traditional - We Wish You a Merry Christmas<br>Views: 509624",
          "Porter Robinson & Madeon - Shelter<br>Views: 509624",
          "Genius English Translations - BLACKPINK - How You Like That English Translation<br>Views: 508972",
          "Aaron Smith - Dancin KRONO Remix<br>Views: 508954",
          "LANY - ‎good guys<br>Views: 508512",
          "Tom Odell - Another Love<br>Views: 506298",
          "Lewis Capaldi - Hold Me While You Wait<br>Views: 506255",
          "Martin Garrix - Ocean<br>Views: 504638",
          "Genius English Translations - JENNIE - SOLO English Translation<br>Views: 504266",
          "SIX Cast - Ex-Wives<br>Views: 504243",
          "Jennifer Lopez - Dinero<br>Views: 503738",
          "Genius English Translations - BTS - Im Fine English Translation<br>Views: 503204",
          "Bethel Music - Reckless Love Spontaneous Live<br>Views: 502754",
          "Halsey - Graveyard<br>Views: 502180",
          "The 1975 - If Youre Too Shy Let Me Know<br>Views: 501853",
          "Justin Timberlake - SexyBack<br>Views: 501298",
          "Justin Bieber - Mark My Words<br>Views: 500787",
          "Harry Styles - From the Dining Table<br>Views: 500763",
          "Andrew Lloyd Webber - Memory<br>Views: 499523",
          "Bruno Mars - Count on Me<br>Views: 499349",
          "Dean Lewis - Waves<br>Views: 498479",
          "Dua Lipa - Levitating Remix<br>Views: 498286",
          "EDEN - Wake Up<br>Views: 497924",
          "Lorde - Homemade Dynamite<br>Views: 497323",
          "Diplo - Welcome to the Party<br>Views: 495599",
          "twenty one pilots - Polarize<br>Views: 495590",
          "Lorde - Writer In the Dark<br>Views: 495495",
          "Maggie Lindemann - Pretty Girl<br>Views: 494913",
          "Sam Smith & Normani - Dancing with a Stranger<br>Views: 494881",
          "Sam Smith - Midnight Train<br>Views: 494092",
          "Clinton Kane - I GUESS IM IN LOVE<br>Views: 493850",
          "Genius English Translations - BTS - 둘 셋 그래도 좋은 날이 더 많기를 2 3 Still Wishing For More Good Days English Translation<br>Views: 493320",
          "Band Aid - Do They Know Its Christmas?<br>Views: 492728",
          "Sam Smith - Palace<br>Views: 492725",
          "Kanye West - Come to Life<br>Views: 492614",
          "Lauv & LANY - Mean It<br>Views: 491879",
          "Genius English Translations - Bad Bunny Jowell  Randy  Ñengo Flow - Safaera English Translation<br>Views: 491795",
          "Frank Ocean - Be Yourself<br>Views: 491491",
          "SIX Cast - All You Wanna Do<br>Views: 490381",
          "Caillou - Im Caillou Caillou Theme Song<br>Views: 490351",
          "USA For Africa - We Are the World<br>Views: 489880",
          "Ariana Grande - Be Alright<br>Views: 489578",
          "Lana Del Rey - Get Free<br>Views: 488278",
          "Heathers the Musical Ensemble - Dead Girl Walking<br>Views: 487433",
          "Matthew Wilder - Break My Stride<br>Views: 487130",
          "Matisyahu - One Day<br>Views: 487129",
          "One Direction - History<br>Views: 486160",
          "Adam Levine - Lost Stars<br>Views: 485623",
          "Jodi Benson - Part of Your World<br>Views: 485571",
          "Bee Gees - Stayin Alive<br>Views: 485353",
          "Genius English Translations - BTS - Inner Child English Translation<br>Views: 485245",
          "Cavetown - Lemon Boy<br>Views: 485207",
          "The 1975 - TOOTIMETOOTIMETOOTIME<br>Views: 484693",
          "Will Ferrell & My Marianne - Husavik My Hometown<br>Views: 484606",
          "Christmas Songs - Rudolph the Red-Nosed Reindeer<br>Views: 484257",
          "Mitski - Washing Machine Heart<br>Views: 483985",
          "Frank Sinatra - Thats Life<br>Views: 483954",
          "Play Date Lyrics - Melanie Martinez - Play Date<br>Views: 483673",
          "Melanie Martinez - High School Sweethearts<br>Views: 483245",
          "Dominic Fike - 3 Nights<br>Views: 482698",
          "V () - Sweet Night<br>Views: 482692",
          "Marc E. Bassy - You  Me<br>Views: 482095",
          "NCT 127 - Highway to Heaven English Version<br>Views: 482045",
          "Genius English Translations - BTS 방탄소년단 - 잠시 Telepathy English Translation<br>Views: 481351",
          "Justin Bieber - Purpose<br>Views: 480854",
          "Grimes - Kill V. Maim<br>Views: 480573",
          "Ed Sheeran - Barcelona<br>Views: 480414",
          "Pia Mia - Do It Again<br>Views: 480310",
          "Jeremy Zucker - ​comethru<br>Views: 480226",
          "Brad Knauber - Dont Mine At Night<br>Views: 479946",
          "Imagine Dragons & JID - Enemy<br>Views: 478943",
          "XXXTENTACION - ​​whoa mind in awe<br>Views: 478416",
          "Kina - Can We Kiss Forever?<br>Views: 476222",
          "The 1975 - Be My Mistake<br>Views: 476119",
          "Gorillaz - On Melancholy Hill<br>Views: 475990",
          "Sia - Elastic Heart Hunger Games Version<br>Views: 475780",
          "Camila Cabello - I Have Questions<br>Views: 475442",
          "Taylor Swift - ​marjorie<br>Views: 475282",
          "Ariana Grande - ​raindrops an angel cried<br>Views: 475181",
          "Selena Gomez - Hands to Myself<br>Views: 473988",
          "Lady Gaga - 911<br>Views: 473834",
          "Cheat Codes - No Promises<br>Views: 473135",
          "The 1975 - The Sound<br>Views: 473058",
          "Hailee Steinfeld & Alesso - Let Me Go<br>Views: 471841",
          "Clairo - Pretty Girl<br>Views: 471268",
          "Miley Cyrus - Party in the U.S.A.<br>Views: 471193",
          "The 1975 - If I Believe You<br>Views: 471077",
          "Lorde - Buzzcut Season<br>Views: 470686",
          "One Direction - Little Things<br>Views: 470495",
          "FINNEAS - Break My Heart Again<br>Views: 470401",
          "BLACKPINK - Crazy Over You<br>Views: 470098",
          "Genius Romanizations - BTS - IDOL Remix ft. Nicki Minaj Romanized<br>Views: 469497",
          "Lana Del Rey - Gods  Monsters<br>Views: 469228",
          "Genius English Translations - Stromae - Tous les Mêmes English Translation<br>Views: 468563",
          "George Ezra - Shotgun<br>Views: 467322",
          "Anthony Gonzalez & Gael Garca Bernal - Un Poco Loco<br>Views: 466672",
          "Dua Lipa - Physical<br>Views: 466321",
          "Ariana Grande & Nathan Sykes - Almost Is Never Enough<br>Views: 465786",
          "Taylor Swift - Clean<br>Views: 465724",
          "Logan Paul - Help Me Help You<br>Views: 465688",
          "Genius English Translations - Stromae - Papaoutai English Translation<br>Views: 465510",
          "Ed Sheeran - You Need Me I Dont Need You Live at The Live Room<br>Views: 464903",
          "David Guetta - Hey Mama<br>Views: 464780",
          "Lauv - The Other<br>Views: 464603",
          "Kygo - Remind Me to Forget<br>Views: 464450",
          "Genius English Translations - IU - 에잇 eight ft. SUGA English Translation<br>Views: 464424",
          "Lil Peep & iLoveMakonnen - Ive Been Waiting<br>Views: 464078",
          "Bruno Mars - Treasure<br>Views: 463907"
         ],
         "type": "scatter",
         "x": {
          "bdata": "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",
          "dtype": "f4"
         },
         "y": {
          "bdata": "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",
          "dtype": "f4"
         }
        }
       ],
       "layout": {
        "template": {
         "data": {
          "bar": [
           {
            "error_x": {
             "color": "#2a3f5f"
            },
            "error_y": {
             "color": "#2a3f5f"
            },
            "marker": {
             "line": {
              "color": "white",
              "width": 0.5
             },
             "pattern": {
              "fillmode": "overlay",
              "size": 10,
              "solidity": 0.2
             }
            },
            "type": "bar"
           }
          ],
          "barpolar": [
           {
            "marker": {
             "line": {
              "color": "white",
              "width": 0.5
             },
             "pattern": {
              "fillmode": "overlay",
              "size": 10,
              "solidity": 0.2
             }
            },
            "type": "barpolar"
           }
          ],
          "carpet": [
           {
            "aaxis": {
             "endlinecolor": "#2a3f5f",
             "gridcolor": "#C8D4E3",
             "linecolor": "#C8D4E3",
             "minorgridcolor": "#C8D4E3",
             "startlinecolor": "#2a3f5f"
            },
            "baxis": {
             "endlinecolor": "#2a3f5f",
             "gridcolor": "#C8D4E3",
             "linecolor": "#C8D4E3",
             "minorgridcolor": "#C8D4E3",
             "startlinecolor": "#2a3f5f"
            },
            "type": "carpet"
           }
          ],
          "choropleth": [
           {
            "colorbar": {
             "outlinewidth": 0,
             "ticks": ""
            },
            "type": "choropleth"
           }
          ],
          "contour": [
           {
            "colorbar": {
             "outlinewidth": 0,
             "ticks": ""
            },
            "colorscale": [
             [
              0,
              "#0d0887"
             ],
             [
              0.1111111111111111,
              "#46039f"
             ],
             [
              0.2222222222222222,
              "#7201a8"
             ],
             [
              0.3333333333333333,
              "#9c179e"
             ],
             [
              0.4444444444444444,
              "#bd3786"
             ],
             [
              0.5555555555555556,
              "#d8576b"
             ],
             [
              0.6666666666666666,
              "#ed7953"
             ],
             [
              0.7777777777777778,
              "#fb9f3a"
             ],
             [
              0.8888888888888888,
              "#fdca26"
             ],
             [
              1,
              "#f0f921"
             ]
            ],
            "type": "contour"
           }
          ],
          "contourcarpet": [
           {
            "colorbar": {
             "outlinewidth": 0,
             "ticks": ""
            },
            "type": "contourcarpet"
           }
          ],
          "heatmap": [
           {
            "colorbar": {
             "outlinewidth": 0,
             "ticks": ""
            },
            "colorscale": [
             [
              0,
              "#0d0887"
             ],
             [
              0.1111111111111111,
              "#46039f"
             ],
             [
              0.2222222222222222,
              "#7201a8"
             ],
             [
              0.3333333333333333,
              "#9c179e"
             ],
             [
              0.4444444444444444,
              "#bd3786"
             ],
             [
              0.5555555555555556,
              "#d8576b"
             ],
             [
              0.6666666666666666,
              "#ed7953"
             ],
             [
              0.7777777777777778,
              "#fb9f3a"
             ],
             [
              0.8888888888888888,
              "#fdca26"
             ],
             [
              1,
              "#f0f921"
             ]
            ],
            "type": "heatmap"
           }
          ],
          "histogram": [
           {
            "marker": {
             "pattern": {
              "fillmode": "overlay",
              "size": 10,
              "solidity": 0.2
             }
            },
            "type": "histogram"
           }
          ],
          "histogram2d": [
           {
            "colorbar": {
             "outlinewidth": 0,
             "ticks": ""
            },
            "colorscale": [
             [
              0,
              "#0d0887"
             ],
             [
              0.1111111111111111,
              "#46039f"
             ],
             [
              0.2222222222222222,
              "#7201a8"
             ],
             [
              0.3333333333333333,
              "#9c179e"
             ],
             [
              0.4444444444444444,
              "#bd3786"
             ],
             [
              0.5555555555555556,
              "#d8576b"
             ],
             [
              0.6666666666666666,
              "#ed7953"
             ],
             [
              0.7777777777777778,
              "#fb9f3a"
             ],
             [
              0.8888888888888888,
              "#fdca26"
             ],
             [
              1,
              "#f0f921"
             ]
            ],
            "type": "histogram2d"
           }
          ],
          "histogram2dcontour": [
           {
            "colorbar": {
             "outlinewidth": 0,
             "ticks": ""
            },
            "colorscale": [
             [
              0,
              "#0d0887"
             ],
             [
              0.1111111111111111,
              "#46039f"
             ],
             [
              0.2222222222222222,
              "#7201a8"
             ],
             [
              0.3333333333333333,
              "#9c179e"
             ],
             [
              0.4444444444444444,
              "#bd3786"
             ],
             [
              0.5555555555555556,
              "#d8576b"
             ],
             [
              0.6666666666666666,
              "#ed7953"
             ],
             [
              0.7777777777777778,
              "#fb9f3a"
             ],
             [
              0.8888888888888888,
              "#fdca26"
             ],
             [
              1,
              "#f0f921"
             ]
            ],
            "type": "histogram2dcontour"
           }
          ],
          "mesh3d": [
           {
            "colorbar": {
             "outlinewidth": 0,
             "ticks": ""
            },
            "type": "mesh3d"
           }
          ],
          "parcoords": [
           {
            "line": {
             "colorbar": {
              "outlinewidth": 0,
              "ticks": ""
             }
            },
            "type": "parcoords"
           }
          ],
          "pie": [
           {
            "automargin": true,
            "type": "pie"
           }
          ],
          "scatter": [
           {
            "fillpattern": {
             "fillmode": "overlay",
             "size": 10,
             "solidity": 0.2
            },
            "type": "scatter"
           }
          ],
          "scatter3d": [
           {
            "line": {
             "colorbar": {
              "outlinewidth": 0,
              "ticks": ""
             }
            },
            "marker": {
             "colorbar": {
              "outlinewidth": 0,
              "ticks": ""
             }
            },
            "type": "scatter3d"
           }
          ],
          "scattercarpet": [
           {
            "marker": {
             "colorbar": {
              "outlinewidth": 0,
              "ticks": ""
             }
            },
            "type": "scattercarpet"
           }
          ],
          "scattergeo": [
           {
            "marker": {
             "colorbar": {
              "outlinewidth": 0,
              "ticks": ""
             }
            },
            "type": "scattergeo"
           }
          ],
          "scattergl": [
           {
            "marker": {
             "colorbar": {
              "outlinewidth": 0,
              "ticks": ""
             }
            },
            "type": "scattergl"
           }
          ],
          "scattermap": [
           {
            "marker": {
             "colorbar": {
              "outlinewidth": 0,
              "ticks": ""
             }
            },
            "type": "scattermap"
           }
          ],
          "scattermapbox": [
           {
            "marker": {
             "colorbar": {
              "outlinewidth": 0,
              "ticks": ""
             }
            },
            "type": "scattermapbox"
           }
          ],
          "scatterpolar": [
           {
            "marker": {
             "colorbar": {
              "outlinewidth": 0,
              "ticks": ""
             }
            },
            "type": "scatterpolar"
           }
          ],
          "scatterpolargl": [
           {
            "marker": {
             "colorbar": {
              "outlinewidth": 0,
              "ticks": ""
             }
            },
            "type": "scatterpolargl"
           }
          ],
          "scatterternary": [
           {
            "marker": {
             "colorbar": {
              "outlinewidth": 0,
              "ticks": ""
             }
            },
            "type": "scatterternary"
           }
          ],
          "surface": [
           {
            "colorbar": {
             "outlinewidth": 0,
             "ticks": ""
            },
            "colorscale": [
             [
              0,
              "#0d0887"
             ],
             [
              0.1111111111111111,
              "#46039f"
             ],
             [
              0.2222222222222222,
              "#7201a8"
             ],
             [
              0.3333333333333333,
              "#9c179e"
             ],
             [
              0.4444444444444444,
              "#bd3786"
             ],
             [
              0.5555555555555556,
              "#d8576b"
             ],
             [
              0.6666666666666666,
              "#ed7953"
             ],
             [
              0.7777777777777778,
              "#fb9f3a"
             ],
             [
              0.8888888888888888,
              "#fdca26"
             ],
             [
              1,
              "#f0f921"
             ]
            ],
            "type": "surface"
           }
          ],
          "table": [
           {
            "cells": {
             "fill": {
              "color": "#EBF0F8"
             },
             "line": {
              "color": "white"
             }
            },
            "header": {
             "fill": {
              "color": "#C8D4E3"
             },
             "line": {
              "color": "white"
             }
            },
            "type": "table"
           }
          ]
         },
         "layout": {
          "annotationdefaults": {
           "arrowcolor": "#2a3f5f",
           "arrowhead": 0,
           "arrowwidth": 1
          },
          "autotypenumbers": "strict",
          "coloraxis": {
           "colorbar": {
            "outlinewidth": 0,
            "ticks": ""
           }
          },
          "colorscale": {
           "diverging": [
            [
             0,
             "#8e0152"
            ],
            [
             0.1,
             "#c51b7d"
            ],
            [
             0.2,
             "#de77ae"
            ],
            [
             0.3,
             "#f1b6da"
            ],
            [
             0.4,
             "#fde0ef"
            ],
            [
             0.5,
             "#f7f7f7"
            ],
            [
             0.6,
             "#e6f5d0"
            ],
            [
             0.7,
             "#b8e186"
            ],
            [
             0.8,
             "#7fbc41"
            ],
            [
             0.9,
             "#4d9221"
            ],
            [
             1,
             "#276419"
            ]
           ],
           "sequential": [
            [
             0,
             "#0d0887"
            ],
            [
             0.1111111111111111,
             "#46039f"
            ],
            [
             0.2222222222222222,
             "#7201a8"
            ],
            [
             0.3333333333333333,
             "#9c179e"
            ],
            [
             0.4444444444444444,
             "#bd3786"
            ],
            [
             0.5555555555555556,
             "#d8576b"
            ],
            [
             0.6666666666666666,
             "#ed7953"
            ],
            [
             0.7777777777777778,
             "#fb9f3a"
            ],
            [
             0.8888888888888888,
             "#fdca26"
            ],
            [
             1,
             "#f0f921"
            ]
           ],
           "sequentialminus": [
            [
             0,
             "#0d0887"
            ],
            [
             0.1111111111111111,
             "#46039f"
            ],
            [
             0.2222222222222222,
             "#7201a8"
            ],
            [
             0.3333333333333333,
             "#9c179e"
            ],
            [
             0.4444444444444444,
             "#bd3786"
            ],
            [
             0.5555555555555556,
             "#d8576b"
            ],
            [
             0.6666666666666666,
             "#ed7953"
            ],
            [
             0.7777777777777778,
             "#fb9f3a"
            ],
            [
             0.8888888888888888,
             "#fdca26"
            ],
            [
             1,
             "#f0f921"
            ]
           ]
          },
          "colorway": [
           "#636efa",
           "#EF553B",
           "#00cc96",
           "#ab63fa",
           "#FFA15A",
           "#19d3f3",
           "#FF6692",
           "#B6E880",
           "#FF97FF",
           "#FECB52"
          ],
          "font": {
           "color": "#2a3f5f"
          },
          "geo": {
           "bgcolor": "white",
           "lakecolor": "white",
           "landcolor": "white",
           "showlakes": true,
           "showland": true,
           "subunitcolor": "#C8D4E3"
          },
          "hoverlabel": {
           "align": "left"
          },
          "hovermode": "closest",
          "mapbox": {
           "style": "light"
          },
          "paper_bgcolor": "white",
          "plot_bgcolor": "white",
          "polar": {
           "angularaxis": {
            "gridcolor": "#EBF0F8",
            "linecolor": "#EBF0F8",
            "ticks": ""
           },
           "bgcolor": "white",
           "radialaxis": {
            "gridcolor": "#EBF0F8",
            "linecolor": "#EBF0F8",
            "ticks": ""
           }
          },
          "scene": {
           "xaxis": {
            "backgroundcolor": "white",
            "gridcolor": "#DFE8F3",
            "gridwidth": 2,
            "linecolor": "#EBF0F8",
            "showbackground": true,
            "ticks": "",
            "zerolinecolor": "#EBF0F8"
           },
           "yaxis": {
            "backgroundcolor": "white",
            "gridcolor": "#DFE8F3",
            "gridwidth": 2,
            "linecolor": "#EBF0F8",
            "showbackground": true,
            "ticks": "",
            "zerolinecolor": "#EBF0F8"
           },
           "zaxis": {
            "backgroundcolor": "white",
            "gridcolor": "#DFE8F3",
            "gridwidth": 2,
            "linecolor": "#EBF0F8",
            "showbackground": true,
            "ticks": "",
            "zerolinecolor": "#EBF0F8"
           }
          },
          "shapedefaults": {
           "line": {
            "color": "#2a3f5f"
           }
          },
          "ternary": {
           "aaxis": {
            "gridcolor": "#DFE8F3",
            "linecolor": "#A2B1C6",
            "ticks": ""
           },
           "baxis": {
            "gridcolor": "#DFE8F3",
            "linecolor": "#A2B1C6",
            "ticks": ""
           },
           "bgcolor": "white",
           "caxis": {
            "gridcolor": "#DFE8F3",
            "linecolor": "#A2B1C6",
            "ticks": ""
           }
          },
          "title": {
           "x": 0.05
          },
          "xaxis": {
           "automargin": true,
           "gridcolor": "#EBF0F8",
           "linecolor": "#EBF0F8",
           "ticks": "",
           "title": {
            "standoff": 15
           },
           "zerolinecolor": "#EBF0F8",
           "zerolinewidth": 2
          },
          "yaxis": {
           "automargin": true,
           "gridcolor": "#EBF0F8",
           "linecolor": "#EBF0F8",
           "ticks": "",
           "title": {
            "standoff": 15
           },
           "zerolinecolor": "#EBF0F8",
           "zerolinewidth": 2
          }
         }
        },
        "title": {
         "text": "2D map of songs (Point size = Views)"
        },
        "xaxis": {
         "title": {
          "text": "X"
         }
        },
        "yaxis": {
         "title": {
          "text": "Y"
         }
        }
       }
      }
     },
     "metadata": {},
     "output_type": "display_data"
    }
   ],
   "source": [
    "# Optional: seed for consistent colors\n",
    "np.random.seed(42)\n",
    "\n",
    "# Normalize views to a reasonable range for marker sizes\n",
    "views = two_dimensional_songs['views']\n",
    "min_size = 5\n",
    "max_size = 30\n",
    "\n",
    "# Normalize view counts to marker sizes between min_size and max_size\n",
    "normalized_sizes = min_size + (views - views.min()) / (views.max() - views.min()) * (max_size - min_size)\n",
    "\n",
    "fig = go.Figure(data=go.Scatter(\n",
    "    x = two_dimensional_songs['X'],\n",
    "    y = two_dimensional_songs['Y'],\n",
    "    text = two_dimensional_songs['artist'] + \" - \" + two_dimensional_songs['title'] + \"<br>Views: \" + views.astype(str),\n",
    "    mode='markers',\n",
    "    marker=dict(\n",
    "        size=normalized_sizes,\n",
    "        color=np.random.randn(len(two_dimensional_songs)),  # random color for now\n",
    "        colorscale='Viridis',\n",
    "        showscale=True\n",
    "    )\n",
    "))\n",
    "\n",
    "fig.update_layout(\n",
    "    title='2D map of songs (Point size = Views)',\n",
    "    xaxis_title='X',\n",
    "    yaxis_title='Y',\n",
    "    template='plotly_white'\n",
    ")\n",
    "\n",
    "fig.show()"
   ]
  },
  {
   "cell_type": "code",
   "execution_count": 81,
   "metadata": {
    "id": "PM5vLiRKYz6Z",
    "outputId": "ac2a6107-52e9-44bc-ed89-02747d151c2d"
   },
   "outputs": [
    {
     "data": {
      "application/vnd.plotly.v1+json": {
       "config": {
        "plotlyServerURL": "https://plot.ly"
       },
       "data": [
        {
         "customdata": [
          [
           "Shape of You"
          ],
          [
           "​thank u next"
          ],
          [
           "Work"
          ],
          [
           "Too Good at Goodbyes"
          ],
          [
           "7 rings"
          ],
          [
           "Hotline Bling"
          ],
          [
           "Closer"
          ],
          [
           "Perfect"
          ],
          [
           "​i​ hate u i love u"
          ],
          [
           "Formation"
          ],
          [
           "One Dance"
          ],
          [
           "FRIENDS"
          ],
          [
           "Hello"
          ],
          [
           "Blurred Lines"
          ],
          [
           "New Rules"
          ],
          [
           "See You Again"
          ],
          [
           "Cant Feel My Face"
          ],
          [
           "Love Yourself"
          ],
          [
           "​lovely"
          ],
          [
           "City of Stars/May Finally Come True"
          ],
          [
           "Get Lucky"
          ],
          [
           "The Twelve Days of Christmas"
          ],
          [
           "7 Years"
          ],
          [
           "Attention"
          ],
          [
           "Havana"
          ],
          [
           "Dynamite"
          ],
          [
           "Take Me to Church"
          ],
          [
           "A Million Dreams"
          ],
          [
           "​drivers license"
          ],
          [
           "Fly Me to the Moon"
          ],
          [
           "​when the partys over"
          ],
          [
           "Let Me Love You"
          ],
          [
           "Girls Like You Remix"
          ],
          [
           "Revenge"
          ],
          [
           "​bad guy"
          ],
          [
           "Rewrite the Stars"
          ],
          [
           "Issues"
          ],
          [
           "​God is a woman"
          ],
          [
           "Someone You Loved"
          ],
          [
           "Something Just Like This"
          ],
          [
           "Butter"
          ],
          [
           "Psycho"
          ],
          [
           "​everything i wanted"
          ],
          [
           "Happier Than Ever"
          ],
          [
           "Partition"
          ],
          [
           "Happier"
          ],
          [
           "Say You Wont Let Go"
          ],
          [
           "Dusk Till Dawn"
          ],
          [
           "Passionfruit"
          ],
          [
           "Side To Side"
          ],
          [
           "Heathens"
          ],
          [
           "​changes"
          ],
          [
           "Lose You To Love Me"
          ],
          [
           "​​no tears left to cry"
          ],
          [
           "Señorita"
          ],
          [
           "Up"
          ],
          [
           "​idontwannabeyouanymore"
          ],
          [
           "Slide"
          ],
          [
           "All Too Well 10 Minute Version Taylors Version From the Vault"
          ],
          [
           "Too Good"
          ],
          [
           "It Aint Me"
          ],
          [
           "SLOW DANCING IN THE DARK"
          ],
          [
           "Jingle Bells"
          ],
          [
           "Finesse Remix"
          ],
          [
           "Cant Help Falling in Love"
          ],
          [
           "​hot girl bummer"
          ],
          [
           "Self Control"
          ],
          [
           "This Is Me"
          ],
          [
           "Easy On Me"
          ],
          [
           "​deja vu"
          ],
          [
           "Pink Matter"
          ],
          [
           "​bury a friend"
          ],
          [
           "​cardigan"
          ],
          [
           "​good 4 u"
          ],
          [
           "Poker Face"
          ],
          [
           "Ivy"
          ],
          [
           "Theres Nothing Holdin Me Back"
          ],
          [
           "Youll Be Back"
          ],
          [
           "The Greatest Show"
          ],
          [
           "Blinding Lights"
          ],
          [
           "Feels"
          ],
          [
           "Bad Things"
          ],
          [
           "Sorry"
          ],
          [
           "​exile"
          ],
          [
           "Pumped Up Kicks"
          ],
          [
           "Dance Monkey"
          ],
          [
           "Baby"
          ],
          [
           "Without Me"
          ],
          [
           "Sorry Not Sorry"
          ],
          [
           "​break up with your girlfriend im bored"
          ],
          [
           "Royals"
          ],
          [
           "I Feel It Coming"
          ],
          [
           "Truth Hurts"
          ],
          [
           "Happy"
          ],
          [
           "Stay"
          ],
          [
           "Versace on the Floor"
          ],
          [
           "Castle on the Hill"
          ],
          [
           "Circles"
          ],
          [
           "Never Gonna Give You Up"
          ],
          [
           "You Are the Reason"
          ],
          [
           "Never Enough"
          ],
          [
           "​the 1"
          ],
          [
           "​​breathin"
          ],
          [
           "Happier"
          ],
          [
           "Never Be the Same"
          ],
          [
           "Chandelier"
          ],
          [
           "Controlla"
          ],
          [
           "Instant Crush"
          ],
          [
           "Perfect Duet"
          ],
          [
           "Watermelon Sugar"
          ],
          [
           "Mine"
          ],
          [
           "Gone"
          ],
          [
           "Stuck with U"
          ],
          [
           "Supermarket Flowers"
          ],
          [
           "Earth"
          ],
          [
           "​i love you"
          ],
          [
           "Your Power"
          ],
          [
           "How Far Ill Go"
          ],
          [
           "Teenage Fever"
          ],
          [
           "Thinking Out Loud"
          ],
          [
           "All Too Well 10 Minute Version Taylors Version Live Acoustic"
          ],
          [
           "Thunder"
          ],
          [
           "Someone Like You"
          ],
          [
           "Eastside"
          ],
          [
           "Hey Ya"
          ],
          [
           "Falling"
          ],
          [
           "As It Was"
          ],
          [
           "Flawless Remix"
          ],
          [
           "Look What You Made Me Do"
          ],
          [
           "Party Monster"
          ],
          [
           "Young and Beautiful"
          ],
          [
           "Scared to Be Lonely"
          ],
          [
           "I Took a Pill in Ibiza"
          ],
          [
           "​august"
          ],
          [
           "Somebody That I Used to Know"
          ],
          [
           "All I Want for Christmas Is You"
          ],
          [
           "If I Were a Boy"
          ],
          [
           "Stay"
          ],
          [
           "​wish you were gay"
          ],
          [
           "Silence"
          ],
          [
           "Here"
          ],
          [
           "Sorry"
          ],
          [
           "Little Einsteins Theme Song"
          ],
          [
           "Swalla"
          ],
          [
           "Galway Girl"
          ],
          [
           "Swish Swish"
          ],
          [
           "Memories"
          ],
          [
           "No Time To Die"
          ],
          [
           "Sweet but Psycho"
          ],
          [
           "High Hopes"
          ],
          [
           "Silent Night"
          ],
          [
           "Rockabye"
          ],
          [
           "The Middle"
          ],
          [
           "Back to You"
          ],
          [
           "Feel No Ways"
          ],
          [
           "Strip That Down"
          ],
          [
           "What Lovers Do"
          ],
          [
           "Somebody Else"
          ],
          [
           "BTS - 봄날 Spring Day English Translation"
          ],
          [
           "Way Back Home Sam Feldt Edit"
          ],
          [
           "The Cuppycake Song"
          ],
          [
           "As Long As You Love Me"
          ],
          [
           "Therefore I Am"
          ],
          [
           "Youre Welcome"
          ],
          [
           "​​ocean eyes"
          ],
          [
           "The Other Side"
          ],
          [
           "24K Magic"
          ],
          [
           "In My Blood"
          ],
          [
           "Halo"
          ],
          [
           "Luis Fonsi  Daddy Yankee - Despacito Remix ft. Justin Bieber English Translation"
          ],
          [
           "We Dont Talk Anymore"
          ],
          [
           "Save Your Tears"
          ],
          [
           "I Dont Care"
          ],
          [
           "Billie Jean"
          ],
          [
           "Dont Start Now"
          ],
          [
           "End Game"
          ],
          [
           "No"
          ],
          [
           "Best Friend"
          ],
          [
           "We Are Young"
          ],
          [
           "Adore You"
          ],
          [
           "​champagne problems"
          ],
          [
           "​imagine"
          ],
          [
           "Cold Water"
          ],
          [
           "Sunflower"
          ],
          [
           "Falling Down"
          ],
          [
           "Let Her Go"
          ],
          [
           "BTS - Magic Shop English Translation"
          ],
          [
           "Dive"
          ],
          [
           "A Thousand Years"
          ],
          [
           "Blank Space"
          ],
          [
           "Say So"
          ],
          [
           "Speechless Full"
          ],
          [
           "How Deep Is Your Love"
          ],
          [
           "Lemonade"
          ],
          [
           "Arms Around You"
          ],
          [
           "Sofia the First Main Title Theme From Sofia the First"
          ],
          [
           "You Need To Calm Down"
          ],
          [
           "Mask"
          ],
          [
           "Lemon"
          ],
          [
           "Smooth Criminal"
          ],
          [
           "BTS - 전하지 못한 진심 The Truth Untold English Translation"
          ],
          [
           "ME"
          ],
          [
           "FourFiveSeconds"
          ],
          [
           "BTS - FAKE LOVE English Translation"
          ],
          [
           "Say Something"
          ],
          [
           "​needy"
          ],
          [
           "Wolves"
          ],
          [
           "Kiss Me More"
          ],
          [
           "Photograph"
          ],
          [
           "Back to You"
          ],
          [
           "SugarCrash"
          ],
          [
           "​my tears ricochet"
          ],
          [
           "A Whole New World"
          ],
          [
           "Forrest Gump"
          ],
          [
           "​my future"
          ],
          [
           "Before You Go"
          ],
          [
           "...Ready for It?"
          ],
          [
           "BTS - 소우주 Mikrokosmos English Translation"
          ],
          [
           "The Greatest"
          ],
          [
           "​ghostin"
          ],
          [
           "Cheap Thrills"
          ],
          [
           "​willow"
          ],
          [
           "Solo"
          ],
          [
           "Fetish"
          ],
          [
           "Ride"
          ],
          [
           "Bang Bang"
          ],
          [
           "Colors"
          ],
          [
           "Take On Me"
          ],
          [
           "O Holy Night"
          ],
          [
           "Counting Stars"
          ],
          [
           "Youngblood"
          ],
          [
           "Blem"
          ],
          [
           "Faded"
          ],
          [
           "Chlorine"
          ],
          [
           "SpongeBob SquarePants Theme Song"
          ],
          [
           "Rather Be"
          ],
          [
           "Summertime Sadness"
          ],
          [
           "Perfect Strangers"
          ],
          [
           "​bellyache"
          ],
          [
           "2002"
          ],
          [
           "Treat You Better"
          ],
          [
           "Good News"
          ],
          [
           "BTS 방탄소년단 - Life Goes On English Translation"
          ],
          [
           "​pete davidson"
          ],
          [
           "Team"
          ],
          [
           "IDGAF"
          ],
          [
           "Cant Take My Eyes Off You"
          ],
          [
           "​in my head"
          ],
          [
           "All I Want"
          ],
          [
           "Over the Rainbow"
          ],
          [
           "Regular English Ver."
          ],
          [
           "​you should see me in a crown"
          ],
          [
           "​all the good girls go to hell"
          ],
          [
           "​happier"
          ],
          [
           "Need to Know"
          ],
          [
           "Bad Romance"
          ],
          [
           "Ice Cream"
          ],
          [
           "​xanny"
          ],
          [
           "Gold"
          ],
          [
           "What Do You Mean?"
          ],
          [
           "Lost in Japan"
          ],
          [
           "​invisible string"
          ],
          [
           "JENNIE - SOLO Romanized"
          ],
          [
           "Lost on You"
          ],
          [
           "Cruel Summer"
          ],
          [
           "Seigfried"
          ],
          [
           "Dont"
          ],
          [
           "Scars to Your Beautiful"
          ],
          [
           "How Far Ill Go"
          ],
          [
           "For You"
          ],
          [
           "One More Light"
          ],
          [
           "In the Night"
          ],
          [
           "Skin"
          ],
          [
           "Paris"
          ],
          [
           "Dream Song"
          ],
          [
           "Heartless"
          ],
          [
           "Heavy"
          ],
          [
           "​the last great american dynasty"
          ],
          [
           "In the Name of Love"
          ],
          [
           "Love"
          ],
          [
           "My Way"
          ],
          [
           "Im Not the Only One"
          ],
          [
           "Build a Bitch"
          ],
          [
           "When We Were Young"
          ],
          [
           "Bad at Love"
          ],
          [
           "​ilomilo"
          ],
          [
           "Flawless"
          ],
          [
           "Habits Stay High"
          ],
          [
           "​seven"
          ],
          [
           "COPYCAT"
          ],
          [
           "BTS - Euphoria English Translation"
          ],
          [
           "Heather"
          ],
          [
           "​traitor"
          ],
          [
           "Delicate"
          ],
          [
           "Call It What You Want"
          ],
          [
           "​my strange addiction"
          ],
          [
           "Youre a Mean One Mr. Grinch"
          ],
          [
           "GREECE"
          ],
          [
           "Rain On Me"
          ],
          [
           "STAY"
          ],
          [
           "Lust for Life"
          ],
          [
           "Reggaetón Lento Remix"
          ],
          [
           "When I Was Your Man"
          ],
          [
           "BTS - Answer: Love Myself English Translation"
          ],
          [
           "Let Me Love You"
          ],
          [
           "Waves"
          ],
          [
           "Nico And The Niners"
          ],
          [
           "Girls Like You"
          ],
          [
           "Liability"
          ],
          [
           "Style"
          ],
          [
           "BTS - Pied Piper English Translation"
          ],
          [
           "​listen before i go"
          ],
          [
           "Suit  Tie"
          ],
          [
           "Flashing Lights"
          ],
          [
           "Praying"
          ],
          [
           "​this is me trying"
          ],
          [
           "Be Alright"
          ],
          [
           "Thunderclouds"
          ],
          [
           "More Than You Know"
          ],
          [
           "Permission to Dance"
          ],
          [
           "One More Night"
          ],
          [
           "​illicit affairs"
          ],
          [
           "Dont Wanna Know"
          ],
          [
           "I Want It That Way"
          ],
          [
           "Love It If We Made It"
          ],
          [
           "Medicine"
          ],
          [
           "Symphony"
          ],
          [
           "Gotta Go My Own Way"
          ],
          [
           "Bruises"
          ],
          [
           "Sucker"
          ],
          [
           "Get You the Moon"
          ],
          [
           "BTS - Epiphany English Translation"
          ],
          [
           "Fine Line"
          ],
          [
           "Circle of Life"
          ],
          [
           "Swim Good"
          ],
          [
           "All I Ask"
          ],
          [
           "Bad Habits"
          ],
          [
           "BTS - 작은 것들을 위한 시 Boy With Luv ft. Halsey English Translation"
          ],
          [
           "Angel"
          ],
          [
           "Malibu"
          ],
          [
           "Lean On"
          ],
          [
           "NASA"
          ],
          [
           "1950"
          ],
          [
           "Levitating"
          ],
          [
           "Bad Blood Remix"
          ],
          [
           "Slow Hands"
          ],
          [
           "We Belong Together"
          ],
          [
           "Beautiful"
          ],
          [
           "Bad Liar"
          ],
          [
           "Dear Theodosia"
          ],
          [
           "Dark Horse"
          ],
          [
           "Mooo"
          ],
          [
           "Green Light"
          ],
          [
           "Show Yourself"
          ],
          [
           "Shameless"
          ],
          [
           "Cherry"
          ],
          [
           "Boyfriend"
          ],
          [
           "Chained to the Rhythm"
          ],
          [
           "How Long"
          ],
          [
           "BTS 방탄소년단 - Blue  Grey English Translation"
          ],
          [
           "Wrecking Ball"
          ],
          [
           "I Dont Wanna Live Forever"
          ],
          [
           "Payphone"
          ],
          [
           "They Dont Care About Us"
          ],
          [
           "Main Title From Family Guy"
          ],
          [
           "Lights Up"
          ],
          [
           "Diamonds"
          ],
          [
           "Say So Remix"
          ],
          [
           "Born to Die"
          ],
          [
           "Jealous"
          ],
          [
           "Video Games"
          ],
          [
           "In Your Eyes"
          ],
          [
           "The Knife Game Song"
          ],
          [
           "Holy"
          ],
          [
           "Body"
          ],
          [
           "Car Radio"
          ],
          [
           "If the World Was Ending"
          ],
          [
           "4 Morant Better Luck Next Time"
          ],
          [
           "The A Team"
          ],
          [
           "2U"
          ],
          [
           "All I Want"
          ],
          [
           "Locked Out of Heaven"
          ],
          [
           "​watch"
          ],
          [
           "Talk"
          ],
          [
           "Love Like You End Credits"
          ],
          [
           "...Baby One More Time"
          ],
          [
           "Solo"
          ],
          [
           "​happiness"
          ],
          [
           "​bloodline"
          ],
          [
           "Winter Bear"
          ],
          [
           "Wait a Minute"
          ],
          [
           "​hostage"
          ],
          [
           "​evermore"
          ],
          [
           "​tolerate it"
          ],
          [
           "Heat Waves"
          ],
          [
           "Everybody Wants to Rule the World"
          ],
          [
           "Set Fire to the Rain"
          ],
          [
           "Joy to the World"
          ],
          [
           "Sweet Dreams Are Made of This"
          ],
          [
           "Perfect"
          ],
          [
           "If I Cant Have You"
          ],
          [
           "Into You"
          ],
          [
           "Super Far"
          ],
          [
           "Always Remember Us This Way"
          ],
          [
           "Back to Black"
          ],
          [
           "Kiss From a Rose"
          ],
          [
           "Never Be Like You"
          ],
          [
           "I dont even speak spanish lol"
          ],
          [
           "Pray"
          ],
          [
           "Blow"
          ],
          [
           "Friends"
          ],
          [
           "All Time Low"
          ],
          [
           "On The Ground"
          ],
          [
           "Wanna Be Startin Somethin"
          ],
          [
           "​peace"
          ],
          [
           "Say My Name"
          ],
          [
           "One Kiss"
          ],
          [
           "West Coast"
          ],
          [
           "Another Day of Sun"
          ],
          [
           "Leaves From The Vine Little Soldier Boy"
          ],
          [
           "​mirrorball"
          ],
          [
           "Come Alive"
          ],
          [
           "Do What U Want"
          ],
          [
           "Sorry"
          ],
          [
           "Rocket"
          ],
          [
           "One Last Time"
          ],
          [
           "​ivy"
          ],
          [
           "Tear in My Heart"
          ],
          [
           "Gorgeous"
          ],
          [
           "Girls"
          ],
          [
           "​fake smile"
          ],
          [
           "SUGAR"
          ],
          [
           "Lost in the Fire"
          ],
          [
           "BROWN SKIN GIRL"
          ],
          [
           "Waving Through a Window"
          ],
          [
           "​favorite crime"
          ],
          [
           "No Brainer"
          ],
          [
           "Norman fucking Rockwell"
          ],
          [
           "Runaway"
          ],
          [
           "Umbrella"
          ],
          [
           "That Would Be Enough"
          ],
          [
           "Wannabe"
          ],
          [
           "Look At Her Now"
          ],
          [
           "My Heart Will Go On"
          ],
          [
           "​mad woman"
          ],
          [
           "Biking"
          ],
          [
           "​goodnight n go"
          ],
          [
           "Your Reality"
          ],
          [
           "BTS - Intro: Serendipity 세렌디피티 English Translation"
          ],
          [
           "Sour Candy"
          ],
          [
           "What a Wonderful World"
          ],
          [
           "​hope is a dangerous thing for a woman like me to have - but i have it"
          ],
          [
           "Purple Rain"
          ],
          [
           "Story of My Life"
          ],
          [
           "Stitches"
          ],
          [
           "Drag Me Down"
          ],
          [
           "Talk Dirty"
          ],
          [
           "Golden"
          ],
          [
           "Lo Que Siento"
          ],
          [
           "Promises"
          ],
          [
           "Mama"
          ],
          [
           "Snowman"
          ],
          [
           "Mood"
          ],
          [
           "Mercy"
          ],
          [
           "South of the Border"
          ],
          [
           "Come  Go"
          ],
          [
           "​the light is coming"
          ],
          [
           "Lost Boy"
          ],
          [
           "Wake Me Up"
          ],
          [
           "From Now On"
          ],
          [
           "​my boy"
          ],
          [
           "So Far Away"
          ],
          [
           "Belle"
          ],
          [
           "Sandcastles"
          ],
          [
           "High By The Beach"
          ],
          [
           "Mystery of Love"
          ],
          [
           "Rät"
          ],
          [
           "I Like Me Better"
          ],
          [
           "Sweet Life"
          ],
          [
           "My Blood"
          ],
          [
           "The Fairly Oddparents Theme Song"
          ],
          [
           "Cake by the Ocean"
          ],
          [
           "The Man"
          ],
          [
           "Intentions"
          ],
          [
           "One Day"
          ],
          [
           "​gold rush"
          ],
          [
           "False Alarm"
          ],
          [
           "Let Me Down Slowly"
          ],
          [
           "Please Me"
          ],
          [
           "Dont Blame Me"
          ],
          [
           "Alone"
          ],
          [
           "Dress"
          ],
          [
           "Dark Times"
          ],
          [
           "Getaway Car"
          ],
          [
           "BTS - 친구 Friends English Translation"
          ],
          [
           "​no body no crime"
          ],
          [
           "I Did Something Bad"
          ],
          [
           "BTS - 피 땀 눈물 Blood Sweat  Tears English Translation"
          ],
          [
           "Lonely"
          ],
          [
           "Apocalypse"
          ],
          [
           "​hoax"
          ],
          [
           "7/11"
          ],
          [
           "Home"
          ],
          [
           "Twerk It Like Miley"
          ],
          [
           "BTS - 00:00 Zero OClock English Translation"
          ],
          [
           "Cherry"
          ],
          [
           "Crying in the Club"
          ],
          [
           "Monster"
          ],
          [
           "Lay Me Down"
          ],
          [
           "6 Inch"
          ],
          [
           "Gasoline"
          ],
          [
           "Blow Your Mind Mwah"
          ],
          [
           "The Phantom of the Opera"
          ],
          [
           "Saturnz Barz"
          ],
          [
           "Corduroy Dreams"
          ],
          [
           "All About That Bass"
          ],
          [
           "Canceled"
          ],
          [
           "Wake Up in the Sky"
          ],
          [
           "This Town"
          ],
          [
           "I Love You"
          ],
          [
           "Sincerity Is Scary"
          ],
          [
           "Welcome to the Internet"
          ],
          [
           "Wildest Dreams"
          ],
          [
           "​epiphany"
          ],
          [
           "Defence of Fort MHenry Star Spangled Banner"
          ],
          [
           "Secret Love Song"
          ],
          [
           "Mine Diamonds"
          ],
          [
           "Naked"
          ],
          [
           "Shout Out to My Ex"
          ],
          [
           "1 step forward 3 steps back"
          ],
          [
           "XO"
          ],
          [
           "BTS - Trivia 轉: Seesaw English Translation"
          ],
          [
           "Love Drought"
          ],
          [
           "Listen"
          ],
          [
           "​bad idea"
          ],
          [
           "Dancing on My Own"
          ],
          [
           "Starships"
          ],
          [
           "Sweet Creature"
          ],
          [
           "Real Friends"
          ],
          [
           "The Archer"
          ],
          [
           "Two Ghosts"
          ],
          [
           "Nobodys Better"
          ],
          [
           "Pretty Hurts"
          ],
          [
           "Sexxx Dreams"
          ],
          [
           "Little Dark Age"
          ],
          [
           "Whats My Name?"
          ],
          [
           "Somebody Else Girl Version"
          ],
          [
           "Beautiful"
          ],
          [
           "Kill Yourself"
          ],
          [
           "We Cant Stop"
          ],
          [
           "BTS - Butterfly English Translation"
          ],
          [
           "How Does a Moment Last Forever"
          ],
          [
           "Fireflies"
          ],
          [
           "Candy Store"
          ],
          [
           "Fergalicious"
          ],
          [
           "13"
          ],
          [
           "Honey"
          ],
          [
           "BLACKPINK - Kill This Love English Translation"
          ],
          [
           "Ultraviolence"
          ],
          [
           "Maybe The Night"
          ],
          [
           "She"
          ],
          [
           "Love Someone"
          ],
          [
           "The Fox What Does the Fox Say?"
          ],
          [
           "Ribs"
          ],
          [
           "Where Are Ü Now"
          ],
          [
           "Pompeii"
          ],
          [
           "Bad Liar"
          ],
          [
           "Alarm"
          ],
          [
           "London Boy"
          ],
          [
           "BTS - We Are Bulletproof: The Eternal English Translation"
          ],
          [
           "Sunflower Vol. 6"
          ],
          [
           "Titanium"
          ],
          [
           "Death of a Bachelor"
          ],
          [
           "Flamingo"
          ],
          [
           "​tis the damn season"
          ],
          [
           "Girls"
          ],
          [
           "Cornelia Street"
          ],
          [
           "Let Me"
          ],
          [
           "I See Fire"
          ],
          [
           "​make up"
          ],
          [
           "Miss Americana  The Heartbreak Prince"
          ],
          [
           "Secrets"
          ],
          [
           "Loveeeeeee Song"
          ],
          [
           "Toy"
          ],
          [
           "Maria Maria"
          ],
          [
           "BTS - ON English Translation"
          ],
          [
           "Break My Heart"
          ],
          [
           "Good for You"
          ],
          [
           "Bad Blood"
          ],
          [
           "BTS - Intro: Singularity English Translation"
          ],
          [
           "Tears"
          ],
          [
           "Let It Go"
          ],
          [
           "​hope ur ok"
          ],
          [
           "Daylight"
          ],
          [
           "All We Know"
          ],
          [
           "How Do You Sleep?"
          ],
          [
           "Carmen"
          ],
          [
           "BLACKPINK - 뚜두뚜두 DDU-DU DDU-DU English Translation"
          ],
          [
           "A Day in the Life"
          ],
          [
           "Congratulations"
          ],
          [
           "​the lakes"
          ],
          [
           "Dont Lose Ur Head"
          ],
          [
           "Thriller"
          ],
          [
           "Off to the Races"
          ],
          [
           "National Anthem"
          ],
          [
           "Grenade"
          ],
          [
           "Rise"
          ],
          [
           "Doin Time"
          ],
          [
           "Darkside"
          ],
          [
           "Send My Love To Your New Lover"
          ],
          [
           "Heaven’s Light / Hellfire"
          ],
          [
           "My Oh My"
          ],
          [
           "Beautiful Remix"
          ],
          [
           "Holding On To You"
          ],
          [
           "Alone"
          ],
          [
           "Blue Jeans"
          ],
          [
           "BTS - Filter English Translation"
          ],
          [
           "La Vie En Rose"
          ],
          [
           "Eleanor Rigby"
          ],
          [
           "Neon Gravestones"
          ],
          [
           "Bored"
          ],
          [
           "Slide Away"
          ],
          [
           "Helium"
          ],
          [
           "King of My Heart"
          ],
          [
           "To Be Loved"
          ],
          [
           "If"
          ],
          [
           "Kiss and Make Up"
          ],
          [
           "Man in the Mirror"
          ],
          [
           "Waste It On Me"
          ],
          [
           "You Will Be Found"
          ],
          [
           "Death by a Thousand Cuts"
          ],
          [
           "Roses"
          ],
          [
           "Love Me Like You Do"
          ],
          [
           "Dont Call Me Angel Charlies Angels"
          ],
          [
           "L.O.V.E."
          ],
          [
           "Malibu Nights"
          ],
          [
           "Make You Mine"
          ],
          [
           "Hit or Miss"
          ],
          [
           "Problem"
          ],
          [
           "Be the One"
          ],
          [
           "Your New Boyfriend"
          ],
          [
           "Wellerman"
          ],
          [
           "Beauty and a Beat"
          ],
          [
           "Beautiful People"
          ],
          [
           "Down Under"
          ],
          [
           "Fuck it I love you"
          ],
          [
           "Line Without a Hook"
          ],
          [
           "Angels"
          ],
          [
           "BTS - Make It Right English Translation"
          ],
          [
           "New Light"
          ],
          [
           "Kitchen Sink"
          ],
          [
           "Save Your Tears Remix"
          ],
          [
           "IGORS THEME"
          ],
          [
           "Dream - Mask Official Sus Remix"
          ],
          [
           "​bad guy"
          ],
          [
           "Just the Way You Are"
          ],
          [
           "Love To Hate Me"
          ],
          [
           "Bad Bunny  Jhay Cortez - DÁKITI English Translation"
          ],
          [
           "Ill Never Love Again Extended Version"
          ],
          [
           "Rude"
          ],
          [
           "Million Reasons"
          ],
          [
           "Sober"
          ],
          [
           "Meant to Be"
          ],
          [
           "NDA"
          ],
          [
           "8"
          ],
          [
           "Cinnamon Girl"
          ],
          [
           "​everytime"
          ],
          [
           "New Years Day"
          ],
          [
           "We Are Number One"
          ],
          [
           "BTS - HOME English Translation"
          ],
          [
           "Brooklyn Baby"
          ],
          [
           "FIGURES"
          ],
          [
           "Skyline To"
          ],
          [
           "Toxic"
          ],
          [
           "​im so tired..."
          ],
          [
           "Midnight Sky"
          ],
          [
           "Dollhouse"
          ],
          [
           "Starving"
          ],
          [
           "Jimin - 약속 Promise English Translation"
          ],
          [
           "BTS - IDOL English Translation"
          ],
          [
           "Dont Let Me Down"
          ],
          [
           "Sincerely Me"
          ],
          [
           "​motive"
          ],
          [
           "Migraine"
          ],
          [
           "Eraser"
          ],
          [
           "Be Happy"
          ],
          [
           "What Makes You Beautiful"
          ],
          [
           "​bitches broken hearts"
          ],
          [
           "This Feeling"
          ],
          [
           "Love the Way You Lie Pt. II"
          ],
          [
           "Summer Bummer"
          ],
          [
           "Woman Like Me"
          ],
          [
           "Im a Mess"
          ],
          [
           "Am I Wrong"
          ],
          [
           "Lights Down Low"
          ],
          [
           "Too Much to Ask"
          ],
          [
           "Love song"
          ],
          [
           "Arcade"
          ],
          [
           "Bon Appétit"
          ],
          [
           "That Funny Feeling"
          ],
          [
           "You Know Im No Good"
          ],
          [
           "Message Man"
          ],
          [
           "Writings on the Wall"
          ],
          [
           "Cold"
          ],
          [
           "Entertainer"
          ],
          [
           "Baby Its Cold Outside"
          ],
          [
           "Just Give Me a Reason"
          ],
          [
           "Pokémon Theme Gotta Catch ’Em All"
          ],
          [
           "Locked Away"
          ],
          [
           "Youth"
          ],
          [
           "STUPID"
          ],
          [
           "XO"
          ],
          [
           "​enough for you"
          ],
          [
           "Gaston"
          ],
          [
           "Mad at Disney"
          ],
          [
           "​coney island"
          ],
          [
           "​​come out and play"
          ],
          [
           "To Be So Lonely"
          ],
          [
           "F.U.N. Song"
          ],
          [
           "Sippy Cup"
          ],
          [
           "You Dont Know Me"
          ],
          [
           "Scream  Shout"
          ],
          [
           "What Comes Next?"
          ],
          [
           "DJ Snake - Taki Taki ft. Ozuna Cardi B  Selena Gomez English Translation"
          ],
          [
           "What About Us"
          ],
          [
           "Night Changes"
          ],
          [
           "The Louvre"
          ],
          [
           "These Days"
          ],
          [
           "I Forgot That You Existed"
          ],
          [
           "​girls"
          ],
          [
           "Capsize"
          ],
          [
           "Wonder"
          ],
          [
           "Bed"
          ],
          [
           "Into the Unknown"
          ],
          [
           "Here Comes a Thought"
          ],
          [
           "Step"
          ],
          [
           "BTS - 시차 My Time English Translation"
          ],
          [
           "New Americana"
          ],
          [
           "Fight Song"
          ],
          [
           "Crazy"
          ],
          [
           "Clarity"
          ],
          [
           "Hold My Hand"
          ],
          [
           "Sofia"
          ],
          [
           "​cowboy like me"
          ],
          [
           "Ciao Adiós"
          ],
          [
           "No Child Left Behind"
          ],
          [
           "Youre Somebody Else"
          ],
          [
           "Day-O Banana Boat Song"
          ],
          [
           "The Heart Wants What It Wants"
          ],
          [
           "Paper Rings"
          ],
          [
           "You Say"
          ],
          [
           "Ride"
          ],
          [
           "BTS - Dionysus English Translation"
          ],
          [
           "Fall"
          ],
          [
           "Moon River"
          ],
          [
           "Work from Home"
          ],
          [
           "Like Im Gonna Lose You"
          ],
          [
           "Guys"
          ],
          [
           "Wheres My Love"
          ],
          [
           "Stone Cold"
          ],
          [
           "A Song About Being Sad"
          ],
          [
           "Youve Got a Friend in Me"
          ],
          [
           "Tennis Court"
          ],
          [
           "Firework"
          ],
          [
           "Level of Concern"
          ],
          [
           "Finesse"
          ],
          [
           "Breaking Free"
          ],
          [
           "Take Me Home"
          ],
          [
           "Barbie Girl"
          ],
          [
           "Afterglow"
          ],
          [
           "Haunted"
          ],
          [
           "Roar"
          ],
          [
           "Happiness is a butterfly"
          ],
          [
           "Not Today"
          ],
          [
           "RUNNING OUT OF TIME"
          ],
          [
           "Buttercup"
          ],
          [
           "Focus"
          ],
          [
           "Hate Me"
          ],
          [
           "Higher"
          ],
          [
           "Countdown"
          ],
          [
           "Hard Feelings/Loveless"
          ],
          [
           "Marvin Gaye"
          ],
          [
           "Teeth"
          ],
          [
           "Sick Boy"
          ],
          [
           "The Crush Song"
          ],
          [
           "Cheap Thrills Remix"
          ],
          [
           "Ganja Burn"
          ],
          [
           "Tell Me You Love Me"
          ],
          [
           "There Is a Light That Never Goes Out"
          ],
          [
           "Deja Vu"
          ],
          [
           "Jackie Chan"
          ],
          [
           "Seventeen"
          ],
          [
           "Chemtrails Over the Country Club"
          ],
          [
           "Believe"
          ],
          [
           "Work Bitch"
          ],
          [
           "​​party favor"
          ],
          [
           "BTS - Louder than bombs English Translation"
          ],
          [
           "Sexual"
          ],
          [
           "Big Fun"
          ],
          [
           "We’re All In This Together"
          ],
          [
           "YOUTH"
          ],
          [
           "6.18.18"
          ],
          [
           "False God"
          ],
          [
           "​dorothea"
          ],
          [
           "You Dont Know"
          ],
          [
           "So It Goes..."
          ],
          [
           "For the First Time in Forever"
          ],
          [
           "G.U.Y."
          ],
          [
           "Nothing Breaks Like a Heart"
          ],
          [
           "Leave a Light On"
          ],
          [
           "This Is Why We Can’t Have Nice Things"
          ],
          [
           "Moonlight"
          ],
          [
           "Everything Stays"
          ],
          [
           "​goodbye"
          ],
          [
           "Losers"
          ],
          [
           "Adventure Time Main Title"
          ],
          [
           "Middle"
          ],
          [
           "Heaven"
          ],
          [
           "Can You Feel the Love Tonight"
          ],
          [
           "It’s Not Living If It’s Not with You"
          ],
          [
           "Afterglow"
          ],
          [
           "Michael in the Bathroom"
          ],
          [
           "Man Down"
          ],
          [
           "​pink skies"
          ],
          [
           "New Man"
          ],
          [
           "Call Me Maybe"
          ],
          [
           "Your Song"
          ],
          [
           "Jealous"
          ],
          [
           "Breathe"
          ],
          [
           "Diamond Heart"
          ],
          [
           "Beat It"
          ],
          [
           "Ayala Outro"
          ],
          [
           "Loving Someone"
          ],
          [
           "Irreplaceable"
          ],
          [
           "Ex Bitch"
          ],
          [
           "Hold On"
          ],
          [
           "Moral of the Story"
          ],
          [
           "We Dont Talk About Bruno"
          ],
          [
           "Mistletoe"
          ],
          [
           "Shameless"
          ],
          [
           "Solar Power"
          ],
          [
           "Dancing with Our Hands Tied"
          ],
          [
           "BTS - Trivia 承: Love English Translation"
          ],
          [
           "Cola"
          ],
          [
           "Human"
          ],
          [
           "Born This Way"
          ],
          [
           "Everyday"
          ],
          [
           "Always You"
          ],
          [
           "Ill Show You"
          ],
          [
           "If You Want Love"
          ],
          [
           "Hard Times"
          ],
          [
           "Defying Gravity"
          ],
          [
           "BTS - 낙원 Paradise English Translation"
          ],
          [
           "Diamonds Remix"
          ],
          [
           "Latch"
          ],
          [
           "Perfect Places"
          ],
          [
           "Little Do You Know"
          ],
          [
           "Water Under the Bridge"
          ],
          [
           "Hey Brother"
          ],
          [
           "Fourth of July"
          ],
          [
           "BTS - House of Cards Full Length Edition English Translation"
          ],
          [
           "How Would You Feel Paean"
          ],
          [
           "Fire on Fire"
          ],
          [
           "She Will Be Loved"
          ],
          [
           "Consequences"
          ],
          [
           "I Think He Knows"
          ],
          [
           "Never Really Over"
          ],
          [
           "Centuries"
          ],
          [
           "Maps"
          ],
          [
           "Bad Bunny - Yo Perreo Sola English Translation"
          ],
          [
           "BTS - DNA English Translation"
          ],
          [
           "Genius"
          ],
          [
           "Rollin"
          ],
          [
           "8 Letters"
          ],
          [
           "​l​ong story short"
          ],
          [
           "The One That Got Away"
          ],
          [
           "Bow Down / I Been On"
          ],
          [
           "Male Fantasy"
          ],
          [
           "Shiny"
          ],
          [
           "Talking to the Moon"
          ],
          [
           "Anyone"
          ],
          [
           "One Call Away"
          ],
          [
           "La La La"
          ],
          [
           "Stolen Dance"
          ],
          [
           "Sober"
          ],
          [
           "Hericane"
          ],
          [
           "Tag You’re It"
          ],
          [
           "Madiba Riddim"
          ],
          [
           "The Judge"
          ],
          [
           "I Know Him"
          ],
          [
           "Most Girls"
          ],
          [
           "Nancy Mulligan"
          ],
          [
           "We Wish You a Merry Christmas"
          ],
          [
           "Shelter"
          ],
          [
           "BLACKPINK - How You Like That English Translation"
          ],
          [
           "Dancin KRONO Remix"
          ],
          [
           "‎good guys"
          ],
          [
           "Another Love"
          ],
          [
           "Hold Me While You Wait"
          ],
          [
           "Ocean"
          ],
          [
           "JENNIE - SOLO English Translation"
          ],
          [
           "Ex-Wives"
          ],
          [
           "Dinero"
          ],
          [
           "BTS - Im Fine English Translation"
          ],
          [
           "Reckless Love Spontaneous Live"
          ],
          [
           "Graveyard"
          ],
          [
           "If Youre Too Shy Let Me Know"
          ],
          [
           "SexyBack"
          ],
          [
           "Mark My Words"
          ],
          [
           "From the Dining Table"
          ],
          [
           "Memory"
          ],
          [
           "Count on Me"
          ],
          [
           "Waves"
          ],
          [
           "Levitating Remix"
          ],
          [
           "Wake Up"
          ],
          [
           "Homemade Dynamite"
          ],
          [
           "Welcome to the Party"
          ],
          [
           "Polarize"
          ],
          [
           "Writer In the Dark"
          ],
          [
           "Pretty Girl"
          ],
          [
           "Dancing with a Stranger"
          ],
          [
           "Midnight Train"
          ],
          [
           "I GUESS IM IN LOVE"
          ],
          [
           "BTS - 둘 셋 그래도 좋은 날이 더 많기를 2 3 Still Wishing For More Good Days English Translation"
          ],
          [
           "Do They Know Its Christmas?"
          ],
          [
           "Palace"
          ],
          [
           "Come to Life"
          ],
          [
           "Mean It"
          ],
          [
           "Bad Bunny Jowell  Randy  Ñengo Flow - Safaera English Translation"
          ],
          [
           "Be Yourself"
          ],
          [
           "All You Wanna Do"
          ],
          [
           "Im Caillou Caillou Theme Song"
          ],
          [
           "We Are the World"
          ],
          [
           "Be Alright"
          ],
          [
           "Get Free"
          ],
          [
           "Dead Girl Walking"
          ],
          [
           "Break My Stride"
          ],
          [
           "One Day"
          ],
          [
           "History"
          ],
          [
           "Lost Stars"
          ],
          [
           "Part of Your World"
          ],
          [
           "Stayin Alive"
          ],
          [
           "BTS - Inner Child English Translation"
          ],
          [
           "Lemon Boy"
          ],
          [
           "TOOTIMETOOTIMETOOTIME"
          ],
          [
           "Husavik My Hometown"
          ],
          [
           "Rudolph the Red-Nosed Reindeer"
          ],
          [
           "Washing Machine Heart"
          ],
          [
           "Thats Life"
          ],
          [
           "Play Date"
          ],
          [
           "High School Sweethearts"
          ],
          [
           "3 Nights"
          ],
          [
           "Sweet Night"
          ],
          [
           "You  Me"
          ],
          [
           "Highway to Heaven English Version"
          ],
          [
           "BTS 방탄소년단 - 잠시 Telepathy English Translation"
          ],
          [
           "Purpose"
          ],
          [
           "Kill V. Maim"
          ],
          [
           "Barcelona"
          ],
          [
           "Do It Again"
          ],
          [
           "​comethru"
          ],
          [
           "Dont Mine At Night"
          ],
          [
           "Enemy"
          ],
          [
           "​​whoa mind in awe"
          ],
          [
           "Can We Kiss Forever?"
          ],
          [
           "Be My Mistake"
          ],
          [
           "On Melancholy Hill"
          ],
          [
           "Elastic Heart Hunger Games Version"
          ],
          [
           "I Have Questions"
          ],
          [
           "​marjorie"
          ],
          [
           "​raindrops an angel cried"
          ],
          [
           "Hands to Myself"
          ],
          [
           "911"
          ],
          [
           "No Promises"
          ],
          [
           "The Sound"
          ],
          [
           "Let Me Go"
          ],
          [
           "Pretty Girl"
          ],
          [
           "Party in the U.S.A."
          ],
          [
           "If I Believe You"
          ],
          [
           "Buzzcut Season"
          ],
          [
           "Little Things"
          ],
          [
           "Break My Heart Again"
          ],
          [
           "Crazy Over You"
          ],
          [
           "BTS - IDOL Remix ft. Nicki Minaj Romanized"
          ],
          [
           "Gods  Monsters"
          ],
          [
           "Stromae - Tous les Mêmes English Translation"
          ],
          [
           "Shotgun"
          ],
          [
           "Un Poco Loco"
          ],
          [
           "Physical"
          ],
          [
           "Almost Is Never Enough"
          ],
          [
           "Clean"
          ],
          [
           "Help Me Help You"
          ],
          [
           "Stromae - Papaoutai English Translation"
          ],
          [
           "You Need Me I Dont Need You Live at The Live Room"
          ],
          [
           "Hey Mama"
          ],
          [
           "The Other"
          ],
          [
           "Remind Me to Forget"
          ],
          [
           "IU - 에잇 eight ft. SUGA English Translation"
          ],
          [
           "Ive Been Waiting"
          ],
          [
           "Treasure"
          ]
         ],
         "hovertemplate": "tag=pop<br>X=%{x}<br>Y=%{y}<br>title=%{customdata[0]}<extra></extra>",
         "legendgroup": "pop",
         "marker": {
          "color": "#636efa",
          "symbol": "circle"
         },
         "mode": "markers",
         "name": "pop",
         "orientation": "v",
         "showlegend": true,
         "type": "scatter",
         "x": {
          "bdata": "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",
          "dtype": "f4"
         },
         "xaxis": "x",
         "y": {
          "bdata": "jXlQOQD7FbkIH5y5FDLJOWXrN7pZZBE6svHNOSn87TmhwyA6gZkCugAP7LZ8/Oa6Ks/uubVuJLp0/Py5YGfLutRtbznbeBo6O1qtObG7FjoiwB06QGcpNf0dATpk5Gk4hWP0unUk9bofghU62MUaOg87tDnlTRA6OEAIOijVt7qnks25BziHua7GvzndPyI6yBLROFPBt7opDxg6USvvuvJOZ7pk+re42JQUOq375TlcUSC5CywLOqLmGjqmYgA6AFeUNmeAMbnRhwM6AC+pN1/pTjltkfC5SAbRuocPwbkHkh86gj6juLTxDzoJCfI5rcHGOdadGznIOZI3iLEauWuzFzpfF5i62Iozuyam3roc3CM6MgbEuQ3UPrrXS6s5qO8cOt8wfDnbmem6BBwcOpWX5DmXkue6SUCEOQdWCbk4ZQO7zhUcOr+9qTn5aPo5dwjZOaGBgLpBp0G5ECf+OW+/L7jHJ+O5jrPZOAf7ObmMLdG5eAd2OW0SHToUK6S4+e4bOmWDyTnUMg06s5AdOgIwCjoQ2hg6MgvlOMU5HzpRX/E5Gc4uOYQHILoC9hw6ZMYeOmE3urlo+9A56+7Zus1w1biDARQ6GkyHuYGw/DnBkIm48iEeOvC0FTrfLQs6LCsXOlXo9brpHxo6z5sFOj9XhrqchAI6BdIMOsEmgbk1o9E5/MisuPB97jkJMxM6ZJsBOgFhIzpBYRY6XkmIuAZNIDowfOo5ywQJOncICzowpo26fjSLOKw9ZDiQc/m6Q83sOfhcNrl9BN26qyMTOhOzyLpw+6I5xozjOa0Pkrr3msQ5vw8POqHPGLuESvq5o2zIumUQfzlAhio6dsAeOrogojl2VDk5pFi8OTofw7nNMNa6sKpYOebhmLnL0xQ6BZ8DORzBFbseQQ86OK4POfIjpLm0JJ26skw8OW7Y8rh0lvy5a+cPOrUKIjocUou5bT8ZOuabYLogwso58Ac2uaDf07q9+wk6AfIWOiK4FzoeRiE64ESFuKTQBbxXHhU6wB0TOnvOBbpGfl66FLj3OZNlsrq0sTQ5nPjeuEcv4LnoMSo6KsCiukKL5zkfSBY6e7DWOaNBHDqd/h86AC7OunGxDjojzxI6qxUJOkdzMTqFVw06zFA7OeXVXDkI4Rw67bfWOR6R+7qUWw66s1/VOZWxB7oxbxY69q/ouXp5Ejr0NXG5FVwJuvdzFzq2ga057qkBOlaEEzqQRQw4y3gfOmThEzpZdOI53pRhunD3DbqBwJG63ir2Od1VHTqgvp84x7wgOtSfNrm6nA26R3yjuVN7FTrQXdI5YnelOd5JQLpBmQ06z10LOgemw7rKZfY5VWbhOVoW2DltzlW6EfzzuoE2gro53y26cMxaOdfHNLmhEeQ3zwAAumXN/LqSE8C6H7cIuaWJBzr8ke058c6MOWATwroV4aG56B0dOsAmaTiMZtc5qxshOgZPtzg+WSY6uT4fOsKmEjogphw6K/0ZuhJlGjqTLyI6n9H6unEvJjqUG4G56jEJOv7LULqdG9q684AdOszu0zk3EC66zGTUOazLJ7gvhwg6jnCtuRU3FDodqAi5aTT8uJ1KtLkOUg26x/6AOS5GhrruTRA6CskjunOT67ruSOc5JbKDOavlvrmKa4I5yofAOVhx5boYz3U5JlaqOYv0sbl6jQM6hBYsOu9hCTrHxJu6XNZUOZGIw7pkapK6MvsKOsaQDbgtSwU6ClgpOgefA7lQ18Y4iSIIOkqI9LhQ7bQ5xD4iOi3AITpvXgM6QpQnOhOamTnYnx86WriXuXUZzrogj3m5SMsiOne4B7rb1yS60H4BOsARyrknD1G58kpYuBvWWTlCLga6i8YROLT/4jkuchY5wgU0uq5grbltiIS6WUGaOU+iGTmNDBo5YReFObl7dLqXqxo6KTYeOrtC+zlMvKs5Cl8NOcgGYrlt0ue6q9QqOQd8cz0OFFu5WzcVOoa/kTl0H6M5bFgWOqwVkrraY6k3r3USOj3XGjpq51y6KELfOagYFTqp3s452CUhum3sFDpByA069tssOhzdF7kE1OW6DJscOnWjfrkuVq25SHjjNgA66DnGrgk67AkMOt9/BDpaex86RGgiOk+FEjoVoys6oFcIOh1+GjrmHFC5tLD2OWB+F7fr5xo6xnjrumtLsTlB1+W6yrrnONiPSDlbxqi5doRPurPGqDkyoPi6joEbOiEfr7kdw4K5sjS0uHCjrLf5evo53doNOh5/CzoWPC45Db8nOimxHboa2h46LhcTOn3bEDpMeZM5uf1Kug2xXLkvUdg5AtNSusxaBDnHbQI6P3EfOoI7wroCVaE5cQF6OQapQbrOJxU6C+yEubjgxLoD3BY6XeYTOsYQmDhDO++6lxICOmC66jlmCkS6OkgjOswNCjq67Ng5S9AgOmNpCjqufNs4s3I6uqhVoriSfDM5PeNbObqO4Tbo8Gs4rbLKu+qnBjrYbue378kKOgOZJbk8GA0651EtOjeC5znstDm6lVDUOdKsnDcf0AY5Uq+Sup8SMrnsJvE5SVTYOSTj3znYICe6uN8Kt31yu7qMwQk6vV6uuWNQ1DkK0gM6aulZuuLbuTko8865/DMZNzD0wzmVVB+6tKgROoBWeTnCu8y5JFWtOT3a9LovqZ05AbzGuoBC/TlsxSI6tvKoOCUdfjnKaNW6T9omuTA53LnySHa4ofvfulg8DDoyvM04gcXZOMwB2LrthCI6PMZzORSSD7qMzV45lRbOuea7MbrJ0So6T+cbOqALCjozaBA62YQuuOXZNzkePRc6Hy4iOl4LnLnYrBC3+pNYukFSLDo0mMY5O70dOp6J6DlNvwk6v69guhGoZDkROko5vpfWOQv8xDlgHgw6ERUlOpq7+TmA3/Y5+GySOTmIEjoVBYW6FTsZOmZXUbnkXPY5JAqCuRxi8DmkECU6gAICOhMSirkdvOK6mK1/NzTd17pgkSO6xgD2uSjVGjqw6ze3HWQlOkASALstohg6QzO3uQZSwbiQDlu5yuRxuP5c1Thhuoe6CGIVuviX6DnCQCy5mZHmuQDoEzqEAja5XukpOvBU3DknwRk6+QrEuo9pkbm7vcs5PHGbus+e/Lp88Cw4PpCwusy7Gjrc3ZA55kyAuFBvJTqMKgs67874OYh4HTqe7SE5188kOpDJpjmd6dC3Pzvqur5ULrdaA+65X2MKOpKtqLhTIVM5W6jQOZe/PDnlzW+6fR/xuiL0Hrm6xSc6BrP3OaLp8jnqux+5cBJcuCNkuDliKSE6xd04Ocu9XLpEbxI6gw35Oe5iDLoeQPA5EkVouYIfADrOg7o4+e8jOiLA2bn0ww45oWLxuW9Ig7lPB7Y5Jc0FOpCZ0zkBw6K6K6MuOepZJzpCAfs5tee3uvrGbrrty0a5Fi3zOR6duzkFswU6cvXZuX+EkzkMkDC4YNeEOTdToDm6sR86eHUXOrBqLjcc8685JBApujVUIrq0FBk57L1lusmuk7j/eKm6ugZOObebHjoY4nc5/xz9OS+71zlLTa85hnu0uedD9rodYC05RfPlOaxQGjp/2fu6cG8VuPj7+7oAHLc5SdWkOOqBvzlBqGc5tSC7ue7K4bpjhiU6M7ihOUV42ro5R0E52qiKORnZs7n6HnG6tZEROqAa2jh648e5wN6kOeC0zroM7N45/t3EuVWeirrMnDg4C7F9uc3wabrvEho67N0AOjjC17qhINe5zdftuuduJjrsHTO6PEIcOlDIsbqKZgQ6qV0nudTmsTlqSmw3BQfEOXxEFTp5r2q5TDzkOaA7IDoGza23XrscOt4yHToYGX05/fnqOWt0Z7qjQgQ6OQiaugC4qrqb0w46YdQnul0trTmnjx86/AG7OGR1CTqvR8o5XI54OXwE2rpJOiU6lmHcOEDnd7mMGKo5MI8bOun5/LkHNxU6Y/QHOp/GGDqrCCM6nNPPuli5JTrVDyY6HrEVuE0aDDpRKxQ6tZeouvQ83TnLbSI4zHQqOsM4ILnv42e5b7ETui44GTosIyS63LQvORr8LDqMSSC58vXYOWw0DzqlwQ461tABuTxHuDj2EsU5UqLxuEScI7lJr9g58G4HuiNVEDoouyS5CGN7uqCIJbrun5U5K83COYcf/bo3eLO63ZyJOdIV+Dk2JY45R4nfumI7h7iywso5FZEbOiKoZrowrQW6eNjRuvcGfjnchtc5foAGOqyDiLkdtRM6SX0EOr4zATrib425XJW3OcW6Uro4ogc6zG9MugoKobmTphk6wAjJOMoHHzo8hKW6FkAPOngKj7gwowg66r0ZugbHATob2xo6ze+lOcAPADojXiI67fDpOU8oAjpzFww6pu/sOAMXrjnzevA51X3FORDdmTlG4LU5jVHcummF+jnt/BI6x67rOYhNKzpAtHg5rswEuQ6xd7rSRAi60IDSuuvcN7mwFgI6/zLNuSAa/jnoZIe65rAnua+1zbj1xg26ozMJupeEdjk6JK45oLrjNjZ/KjoVYsm40Op4uuvRzbr+3wY6OCgdOhvzszmRN+c5hgMhOmhj4TlQchM6p6sSOganDTrgJe05qMmjOTsvBzr6uhE6GXIlOkukEjpO5Yc5Tt2susjbgDgKSB46PJ3KuBMCAzrtTT261oacuqSv/LrqASI5ahYiOpT+uTl9Nhk6QIiTtyjYFjrM7sU5OE0MOgWSprkhcuI5nAUAuzvkLDpohH84iCMeOgCaiDRAmQM6emvduq4npboaWEk5ADMaOjvnLDr3NVC6MFOouvlwKjoHKBg687UOOmhFyjlRbfc5vnHxusuNAzpZxT66JDdAOUreMjlklAs6yIHDOZdyF7oYYiQ6EE8WOstLGTr3Zqy6dqwoOgcC1LmroBM6e7/eutdAvblPTdi6qh0hOmTV4DlEL3e5kDWauCnkHzpWyfq5Y04nOrMgIjp8n5E44CNEOXOKGLprBoG5yFaTONGO5DkOYiI6a7qBuXTaDDpk2Kq5cm+5t+Ej1LrBBSU6VEMQOnXwyjmQg7q5L9EZOm+IATpZMH85gi8SOjQLhrkAXQE6IxfsOXNwHDr0HPQ5fJyPOSwhkrqB4SU6h9UXun+oEzrshPU5n7WPug0sljkyS5a5vywEOkpYD7r5/xC6rEz6uhV5+jlNbR86XToFOuXz9zkUJtk5HRUiOrMj4zhehA46MkiMOAGvhLr6MCw6ACLyORs6IzpD38y5XcENOhdQizkGExs6TLgROoUKh7quS9m6jUH1ubBeFToKGuo5Lwa3uUl4OrgKXx06seWMuk3p9DmGuhE6oHQBOeY+C7rgYRc6KEjDOTV6h7jARuo5uauCug==",
          "dtype": "f4"
         },
         "yaxis": "y"
        }
       ],
       "layout": {
        "legend": {
         "title": {
          "text": "tag"
         },
         "tracegroupgap": 0
        },
        "template": {
         "data": {
          "bar": [
           {
            "error_x": {
             "color": "#2a3f5f"
            },
            "error_y": {
             "color": "#2a3f5f"
            },
            "marker": {
             "line": {
              "color": "#E5ECF6",
              "width": 0.5
             },
             "pattern": {
              "fillmode": "overlay",
              "size": 10,
              "solidity": 0.2
             }
            },
            "type": "bar"
           }
          ],
          "barpolar": [
           {
            "marker": {
             "line": {
              "color": "#E5ECF6",
              "width": 0.5
             },
             "pattern": {
              "fillmode": "overlay",
              "size": 10,
              "solidity": 0.2
             }
            },
            "type": "barpolar"
           }
          ],
          "carpet": [
           {
            "aaxis": {
             "endlinecolor": "#2a3f5f",
             "gridcolor": "white",
             "linecolor": "white",
             "minorgridcolor": "white",
             "startlinecolor": "#2a3f5f"
            },
            "baxis": {
             "endlinecolor": "#2a3f5f",
             "gridcolor": "white",
             "linecolor": "white",
             "minorgridcolor": "white",
             "startlinecolor": "#2a3f5f"
            },
            "type": "carpet"
           }
          ],
          "choropleth": [
           {
            "colorbar": {
             "outlinewidth": 0,
             "ticks": ""
            },
            "type": "choropleth"
           }
          ],
          "contour": [
           {
            "colorbar": {
             "outlinewidth": 0,
             "ticks": ""
            },
            "colorscale": [
             [
              0,
              "#0d0887"
             ],
             [
              0.1111111111111111,
              "#46039f"
             ],
             [
              0.2222222222222222,
              "#7201a8"
             ],
             [
              0.3333333333333333,
              "#9c179e"
             ],
             [
              0.4444444444444444,
              "#bd3786"
             ],
             [
              0.5555555555555556,
              "#d8576b"
             ],
             [
              0.6666666666666666,
              "#ed7953"
             ],
             [
              0.7777777777777778,
              "#fb9f3a"
             ],
             [
              0.8888888888888888,
              "#fdca26"
             ],
             [
              1,
              "#f0f921"
             ]
            ],
            "type": "contour"
           }
          ],
          "contourcarpet": [
           {
            "colorbar": {
             "outlinewidth": 0,
             "ticks": ""
            },
            "type": "contourcarpet"
           }
          ],
          "heatmap": [
           {
            "colorbar": {
             "outlinewidth": 0,
             "ticks": ""
            },
            "colorscale": [
             [
              0,
              "#0d0887"
             ],
             [
              0.1111111111111111,
              "#46039f"
             ],
             [
              0.2222222222222222,
              "#7201a8"
             ],
             [
              0.3333333333333333,
              "#9c179e"
             ],
             [
              0.4444444444444444,
              "#bd3786"
             ],
             [
              0.5555555555555556,
              "#d8576b"
             ],
             [
              0.6666666666666666,
              "#ed7953"
             ],
             [
              0.7777777777777778,
              "#fb9f3a"
             ],
             [
              0.8888888888888888,
              "#fdca26"
             ],
             [
              1,
              "#f0f921"
             ]
            ],
            "type": "heatmap"
           }
          ],
          "histogram": [
           {
            "marker": {
             "pattern": {
              "fillmode": "overlay",
              "size": 10,
              "solidity": 0.2
             }
            },
            "type": "histogram"
           }
          ],
          "histogram2d": [
           {
            "colorbar": {
             "outlinewidth": 0,
             "ticks": ""
            },
            "colorscale": [
             [
              0,
              "#0d0887"
             ],
             [
              0.1111111111111111,
              "#46039f"
             ],
             [
              0.2222222222222222,
              "#7201a8"
             ],
             [
              0.3333333333333333,
              "#9c179e"
             ],
             [
              0.4444444444444444,
              "#bd3786"
             ],
             [
              0.5555555555555556,
              "#d8576b"
             ],
             [
              0.6666666666666666,
              "#ed7953"
             ],
             [
              0.7777777777777778,
              "#fb9f3a"
             ],
             [
              0.8888888888888888,
              "#fdca26"
             ],
             [
              1,
              "#f0f921"
             ]
            ],
            "type": "histogram2d"
           }
          ],
          "histogram2dcontour": [
           {
            "colorbar": {
             "outlinewidth": 0,
             "ticks": ""
            },
            "colorscale": [
             [
              0,
              "#0d0887"
             ],
             [
              0.1111111111111111,
              "#46039f"
             ],
             [
              0.2222222222222222,
              "#7201a8"
             ],
             [
              0.3333333333333333,
              "#9c179e"
             ],
             [
              0.4444444444444444,
              "#bd3786"
             ],
             [
              0.5555555555555556,
              "#d8576b"
             ],
             [
              0.6666666666666666,
              "#ed7953"
             ],
             [
              0.7777777777777778,
              "#fb9f3a"
             ],
             [
              0.8888888888888888,
              "#fdca26"
             ],
             [
              1,
              "#f0f921"
             ]
            ],
            "type": "histogram2dcontour"
           }
          ],
          "mesh3d": [
           {
            "colorbar": {
             "outlinewidth": 0,
             "ticks": ""
            },
            "type": "mesh3d"
           }
          ],
          "parcoords": [
           {
            "line": {
             "colorbar": {
              "outlinewidth": 0,
              "ticks": ""
             }
            },
            "type": "parcoords"
           }
          ],
          "pie": [
           {
            "automargin": true,
            "type": "pie"
           }
          ],
          "scatter": [
           {
            "fillpattern": {
             "fillmode": "overlay",
             "size": 10,
             "solidity": 0.2
            },
            "type": "scatter"
           }
          ],
          "scatter3d": [
           {
            "line": {
             "colorbar": {
              "outlinewidth": 0,
              "ticks": ""
             }
            },
            "marker": {
             "colorbar": {
              "outlinewidth": 0,
              "ticks": ""
             }
            },
            "type": "scatter3d"
           }
          ],
          "scattercarpet": [
           {
            "marker": {
             "colorbar": {
              "outlinewidth": 0,
              "ticks": ""
             }
            },
            "type": "scattercarpet"
           }
          ],
          "scattergeo": [
           {
            "marker": {
             "colorbar": {
              "outlinewidth": 0,
              "ticks": ""
             }
            },
            "type": "scattergeo"
           }
          ],
          "scattergl": [
           {
            "marker": {
             "colorbar": {
              "outlinewidth": 0,
              "ticks": ""
             }
            },
            "type": "scattergl"
           }
          ],
          "scattermap": [
           {
            "marker": {
             "colorbar": {
              "outlinewidth": 0,
              "ticks": ""
             }
            },
            "type": "scattermap"
           }
          ],
          "scattermapbox": [
           {
            "marker": {
             "colorbar": {
              "outlinewidth": 0,
              "ticks": ""
             }
            },
            "type": "scattermapbox"
           }
          ],
          "scatterpolar": [
           {
            "marker": {
             "colorbar": {
              "outlinewidth": 0,
              "ticks": ""
             }
            },
            "type": "scatterpolar"
           }
          ],
          "scatterpolargl": [
           {
            "marker": {
             "colorbar": {
              "outlinewidth": 0,
              "ticks": ""
             }
            },
            "type": "scatterpolargl"
           }
          ],
          "scatterternary": [
           {
            "marker": {
             "colorbar": {
              "outlinewidth": 0,
              "ticks": ""
             }
            },
            "type": "scatterternary"
           }
          ],
          "surface": [
           {
            "colorbar": {
             "outlinewidth": 0,
             "ticks": ""
            },
            "colorscale": [
             [
              0,
              "#0d0887"
             ],
             [
              0.1111111111111111,
              "#46039f"
             ],
             [
              0.2222222222222222,
              "#7201a8"
             ],
             [
              0.3333333333333333,
              "#9c179e"
             ],
             [
              0.4444444444444444,
              "#bd3786"
             ],
             [
              0.5555555555555556,
              "#d8576b"
             ],
             [
              0.6666666666666666,
              "#ed7953"
             ],
             [
              0.7777777777777778,
              "#fb9f3a"
             ],
             [
              0.8888888888888888,
              "#fdca26"
             ],
             [
              1,
              "#f0f921"
             ]
            ],
            "type": "surface"
           }
          ],
          "table": [
           {
            "cells": {
             "fill": {
              "color": "#EBF0F8"
             },
             "line": {
              "color": "white"
             }
            },
            "header": {
             "fill": {
              "color": "#C8D4E3"
             },
             "line": {
              "color": "white"
             }
            },
            "type": "table"
           }
          ]
         },
         "layout": {
          "annotationdefaults": {
           "arrowcolor": "#2a3f5f",
           "arrowhead": 0,
           "arrowwidth": 1
          },
          "autotypenumbers": "strict",
          "coloraxis": {
           "colorbar": {
            "outlinewidth": 0,
            "ticks": ""
           }
          },
          "colorscale": {
           "diverging": [
            [
             0,
             "#8e0152"
            ],
            [
             0.1,
             "#c51b7d"
            ],
            [
             0.2,
             "#de77ae"
            ],
            [
             0.3,
             "#f1b6da"
            ],
            [
             0.4,
             "#fde0ef"
            ],
            [
             0.5,
             "#f7f7f7"
            ],
            [
             0.6,
             "#e6f5d0"
            ],
            [
             0.7,
             "#b8e186"
            ],
            [
             0.8,
             "#7fbc41"
            ],
            [
             0.9,
             "#4d9221"
            ],
            [
             1,
             "#276419"
            ]
           ],
           "sequential": [
            [
             0,
             "#0d0887"
            ],
            [
             0.1111111111111111,
             "#46039f"
            ],
            [
             0.2222222222222222,
             "#7201a8"
            ],
            [
             0.3333333333333333,
             "#9c179e"
            ],
            [
             0.4444444444444444,
             "#bd3786"
            ],
            [
             0.5555555555555556,
             "#d8576b"
            ],
            [
             0.6666666666666666,
             "#ed7953"
            ],
            [
             0.7777777777777778,
             "#fb9f3a"
            ],
            [
             0.8888888888888888,
             "#fdca26"
            ],
            [
             1,
             "#f0f921"
            ]
           ],
           "sequentialminus": [
            [
             0,
             "#0d0887"
            ],
            [
             0.1111111111111111,
             "#46039f"
            ],
            [
             0.2222222222222222,
             "#7201a8"
            ],
            [
             0.3333333333333333,
             "#9c179e"
            ],
            [
             0.4444444444444444,
             "#bd3786"
            ],
            [
             0.5555555555555556,
             "#d8576b"
            ],
            [
             0.6666666666666666,
             "#ed7953"
            ],
            [
             0.7777777777777778,
             "#fb9f3a"
            ],
            [
             0.8888888888888888,
             "#fdca26"
            ],
            [
             1,
             "#f0f921"
            ]
           ]
          },
          "colorway": [
           "#636efa",
           "#EF553B",
           "#00cc96",
           "#ab63fa",
           "#FFA15A",
           "#19d3f3",
           "#FF6692",
           "#B6E880",
           "#FF97FF",
           "#FECB52"
          ],
          "font": {
           "color": "#2a3f5f"
          },
          "geo": {
           "bgcolor": "white",
           "lakecolor": "white",
           "landcolor": "#E5ECF6",
           "showlakes": true,
           "showland": true,
           "subunitcolor": "white"
          },
          "hoverlabel": {
           "align": "left"
          },
          "hovermode": "closest",
          "mapbox": {
           "style": "light"
          },
          "paper_bgcolor": "white",
          "plot_bgcolor": "#E5ECF6",
          "polar": {
           "angularaxis": {
            "gridcolor": "white",
            "linecolor": "white",
            "ticks": ""
           },
           "bgcolor": "#E5ECF6",
           "radialaxis": {
            "gridcolor": "white",
            "linecolor": "white",
            "ticks": ""
           }
          },
          "scene": {
           "xaxis": {
            "backgroundcolor": "#E5ECF6",
            "gridcolor": "white",
            "gridwidth": 2,
            "linecolor": "white",
            "showbackground": true,
            "ticks": "",
            "zerolinecolor": "white"
           },
           "yaxis": {
            "backgroundcolor": "#E5ECF6",
            "gridcolor": "white",
            "gridwidth": 2,
            "linecolor": "white",
            "showbackground": true,
            "ticks": "",
            "zerolinecolor": "white"
           },
           "zaxis": {
            "backgroundcolor": "#E5ECF6",
            "gridcolor": "white",
            "gridwidth": 2,
            "linecolor": "white",
            "showbackground": true,
            "ticks": "",
            "zerolinecolor": "white"
           }
          },
          "shapedefaults": {
           "line": {
            "color": "#2a3f5f"
           }
          },
          "ternary": {
           "aaxis": {
            "gridcolor": "white",
            "linecolor": "white",
            "ticks": ""
           },
           "baxis": {
            "gridcolor": "white",
            "linecolor": "white",
            "ticks": ""
           },
           "bgcolor": "#E5ECF6",
           "caxis": {
            "gridcolor": "white",
            "linecolor": "white",
            "ticks": ""
           }
          },
          "title": {
           "x": 0.05
          },
          "xaxis": {
           "automargin": true,
           "gridcolor": "white",
           "linecolor": "white",
           "ticks": "",
           "title": {
            "standoff": 15
           },
           "zerolinecolor": "white",
           "zerolinewidth": 2
          },
          "yaxis": {
           "automargin": true,
           "gridcolor": "white",
           "linecolor": "white",
           "ticks": "",
           "title": {
            "standoff": 15
           },
           "zerolinecolor": "white",
           "zerolinewidth": 2
          }
         }
        },
        "title": {
         "text": "2D map of songs by genre"
        },
        "xaxis": {
         "anchor": "y",
         "domain": [
          0,
          1
         ],
         "title": {
          "text": "X"
         }
        },
        "yaxis": {
         "anchor": "x",
         "domain": [
          0,
          1
         ],
         "title": {
          "text": "Y"
         }
        }
       }
      }
     },
     "metadata": {},
     "output_type": "display_data"
    }
   ],
   "source": [
    "fig = px.scatter(two_dimensional_songs, x='X', y='Y',color='tag', title='2D map of songs by genre', hover_data=['title'])\n",
    "fig.show()"
   ]
  },
  {
   "cell_type": "code",
   "execution_count": 82,
   "metadata": {
    "id": "DxRrCJNnURTU",
    "outputId": "049723ff-b543-46bc-8d5f-9067e16ad23f"
   },
   "outputs": [
    {
     "data": {
      "application/vnd.plotly.v1+json": {
       "config": {
        "plotlyServerURL": "https://plot.ly"
       },
       "data": [
        {
         "customdata": [
          [
           "Shape of You"
          ],
          [
           "Perfect"
          ],
          [
           "Castle on the Hill"
          ],
          [
           "Happier"
          ],
          [
           "Supermarket Flowers"
          ],
          [
           "Thinking Out Loud"
          ],
          [
           "Galway Girl"
          ],
          [
           "Dive"
          ],
          [
           "Photograph"
          ],
          [
           "Dont"
          ],
          [
           "Bad Habits"
          ],
          [
           "The A Team"
          ],
          [
           "South of the Border"
          ],
          [
           "I See Fire"
          ],
          [
           "Beautiful People"
          ],
          [
           "Eraser"
          ],
          [
           "Afterglow"
          ],
          [
           "New Man"
          ],
          [
           "How Would You Feel Paean"
          ],
          [
           "Nancy Mulligan"
          ],
          [
           "Barcelona"
          ],
          [
           "You Need Me I Dont Need You Live at The Live Room"
          ]
         ],
         "hovertemplate": "artist=Ed Sheeran<br>X=%{x}<br>Y=%{y}<br>title=%{customdata[0]}<extra></extra>",
         "legendgroup": "Ed Sheeran",
         "marker": {
          "color": "#636efa",
          "symbol": "circle"
         },
         "mode": "markers",
         "name": "Ed Sheeran",
         "orientation": "v",
         "showlegend": true,
         "type": "scatter",
         "x": {
          "bdata": "4xIdPc4gYT4OY5c+BbmjPo04jz5gLIc+1kZbPhk/mj64LI0+IfB0PpgoTL6TAEw+amaUvYTGkj7XQPI9nYOPPpNWiD5HjHs+cnKqPrEylz5itek9+sRZPg==",
          "dtype": "f4"
         },
         "xaxis": "x",
         "y": {
          "bdata": "jXlQOSn87Tn57hs6xTkfOoMBFDrfLQs6Q83sOSK4FzpxsQ46/JHtOVq4l7koQt852G7ntyfBGTp/hJM5tZEROiNVEDrt/BI6GXIlOgAzGjoNLJY5oHQBOQ==",
          "dtype": "f4"
         },
         "yaxis": "y"
        },
        {
         "customdata": [
          [
           "​thank u next"
          ],
          [
           "7 rings"
          ],
          [
           "​God is a woman"
          ],
          [
           "Side To Side"
          ],
          [
           "​​no tears left to cry"
          ],
          [
           "​break up with your girlfriend im bored"
          ],
          [
           "​​breathin"
          ],
          [
           "​imagine"
          ],
          [
           "​needy"
          ],
          [
           "​ghostin"
          ],
          [
           "​pete davidson"
          ],
          [
           "​in my head"
          ],
          [
           "Let Me Love You"
          ],
          [
           "NASA"
          ],
          [
           "​bloodline"
          ],
          [
           "Into You"
          ],
          [
           "One Last Time"
          ],
          [
           "​fake smile"
          ],
          [
           "​goodnight n go"
          ],
          [
           "​the light is coming"
          ],
          [
           "​bad idea"
          ],
          [
           "​make up"
          ],
          [
           "Problem"
          ],
          [
           "​everytime"
          ],
          [
           "Moonlight"
          ],
          [
           "Everyday"
          ],
          [
           "Be Alright"
          ],
          [
           "​raindrops an angel cried"
          ]
         ],
         "hovertemplate": "artist=Ariana Grande<br>X=%{x}<br>Y=%{y}<br>title=%{customdata[0]}<extra></extra>",
         "legendgroup": "Ariana Grande",
         "marker": {
          "color": "#EF553B",
          "symbol": "circle"
         },
         "mode": "markers",
         "name": "Ariana Grande",
         "orientation": "v",
         "showlegend": true,
         "type": "scatter",
         "x": {
          "bdata": "nKoWvvWKGb06f6E9BHERvlqBnb6oFpa+VQmFPXwM3jwHw4Q+bNdWPgodZb629HM9lb+Cvyesx76Rdj++Eu+kPByBpD6+Bxe+NOqEv6LS4r3UpQW/2AFcv4NpI77DImU+Oz8fPiJoEr/4VT2+RwviOw==",
          "dtype": "f4"
         },
         "xaxis": "x",
         "y": {
          "bdata": "APsVuWXrN7pTwbe6Z4AxuW2R8LnHJ+O5MgvlOOabYLqjQRw6s1/VOUd8o7neSUC6c5PrutvXJLp1o3655hxQuRraHjoNsVy5QzvvugOZJbm/r2C6+QrEuu3LRrlF8+U5wA8AOtDqeLpruoG5syPjOA==",
          "dtype": "f4"
         },
         "yaxis": "y"
        },
        {
         "customdata": [
          [
           "Hotline Bling"
          ],
          [
           "One Dance"
          ],
          [
           "Passionfruit"
          ],
          [
           "Too Good"
          ],
          [
           "Controlla"
          ],
          [
           "Teenage Fever"
          ],
          [
           "Feel No Ways"
          ],
          [
           "Blem"
          ],
          [
           "Madiba Riddim"
          ]
         ],
         "hovertemplate": "artist=Drake<br>X=%{x}<br>Y=%{y}<br>title=%{customdata[0]}<extra></extra>",
         "legendgroup": "Drake",
         "marker": {
          "color": "#00cc96",
          "symbol": "circle"
         },
         "mode": "markers",
         "name": "Drake",
         "orientation": "v",
         "showlegend": true,
         "type": "scatter",
         "x": {
          "bdata": "PnWUPvPGYrw/WEc+u0lyPpr88z2HT50+zZwgPkedaj6hUYQ+",
          "dtype": "f4"
         },
         "xaxis": "x",
         "y": {
          "bdata": "WWQROgAP7LYAV5Q2CQnyOYQHILrwtBU6oc8Yu8t4HzpAmQM6",
          "dtype": "f4"
         },
         "yaxis": "y"
        },
        {
         "customdata": [
          [
           "​when the partys over"
          ],
          [
           "​bad guy"
          ],
          [
           "​everything i wanted"
          ],
          [
           "Happier Than Ever"
          ],
          [
           "​idontwannabeyouanymore"
          ],
          [
           "​bury a friend"
          ],
          [
           "​i love you"
          ],
          [
           "Your Power"
          ],
          [
           "​wish you were gay"
          ],
          [
           "No Time To Die"
          ],
          [
           "Therefore I Am"
          ],
          [
           "​​ocean eyes"
          ],
          [
           "​my future"
          ],
          [
           "​bellyache"
          ],
          [
           "​you should see me in a crown"
          ],
          [
           "​all the good girls go to hell"
          ],
          [
           "​xanny"
          ],
          [
           "​ilomilo"
          ],
          [
           "COPYCAT"
          ],
          [
           "​my strange addiction"
          ],
          [
           "​listen before i go"
          ],
          [
           "​watch"
          ],
          [
           "​hostage"
          ],
          [
           "​my boy"
          ],
          [
           "Bored"
          ],
          [
           "NDA"
          ],
          [
           "8"
          ],
          [
           "​bitches broken hearts"
          ],
          [
           "​​come out and play"
          ],
          [
           "​​party favor"
          ],
          [
           "6.18.18"
          ],
          [
           "​goodbye"
          ],
          [
           "Male Fantasy"
          ]
         ],
         "hovertemplate": "artist=Billie Eilish<br>X=%{x}<br>Y=%{y}<br>title=%{customdata[0]}<extra></extra>",
         "legendgroup": "Billie Eilish",
         "marker": {
          "color": "#ab63fa",
          "symbol": "circle"
         },
         "mode": "markers",
         "name": "Billie Eilish",
         "orientation": "v",
         "showlegend": true,
         "type": "scatter",
         "x": {
          "bdata": "Ti+MPnUERj4aSpk+grxmPlLXpT5nbzE+hPt8PlYCZ70FOIg+tMeTPu2xND7u4m6/evi4PYTpmj5R22w+oX9QPj4fAbtI/JE+2+ttPk4Hkz6Hj8o9wuqWPvq5dz4oKOC+FlF2Ptkscr4wjYi/fHEcPoHjJT48SVg+SnTWPDB4cD57cZo+",
          "dtype": "f4"
         },
         "xaxis": "x",
         "y": {
          "bdata": "OEAIOq7GvznYlBQ6rfvlOQeSHzrXS6s5gbD8OcGQibjLBAk6qyMTOqRYvDnNMNa65dVcOd1VHTrKZfY5VWbhOTnfLbrqMQk6zO7TORU3FDoYz3U5bewUOgA66DnstDm6HkDwOYZ7tLnnQ/a6wN6kORgZfTlclbc5wAjJOO3w6Tko2BY6",
          "dtype": "f4"
         },
         "yaxis": "y"
        },
        {
         "customdata": [
          [
           "​changes"
          ],
          [
           "I dont even speak spanish lol"
          ],
          [
           "Ayala Outro"
          ],
          [
           "Ex Bitch"
          ],
          [
           "​​whoa mind in awe"
          ]
         ],
         "hovertemplate": "artist=XXXTENTACION<br>X=%{x}<br>Y=%{y}<br>title=%{customdata[0]}<extra></extra>",
         "legendgroup": "XXXTENTACION",
         "marker": {
          "color": "#FFA15A",
          "symbol": "circle"
         },
         "mode": "markers",
         "name": "XXXTENTACION",
         "orientation": "v",
         "showlegend": true,
         "type": "scatter",
         "x": {
          "bdata": "04XiPQIhgL+gaWu/gvgDvQOxir8=",
          "dtype": "f4"
         },
         "xaxis": "x",
         "y": {
          "bdata": "AC+pN0HX5brQgNK6/zLNuaxM+ro=",
          "dtype": "f4"
         },
         "yaxis": "y"
        },
        {
         "customdata": [
          [
           "All Too Well 10 Minute Version Taylors Version From the Vault"
          ],
          [
           "​cardigan"
          ],
          [
           "​exile"
          ],
          [
           "​the 1"
          ],
          [
           "All Too Well 10 Minute Version Taylors Version Live Acoustic"
          ],
          [
           "Look What You Made Me Do"
          ],
          [
           "​august"
          ],
          [
           "End Game"
          ],
          [
           "​champagne problems"
          ],
          [
           "Blank Space"
          ],
          [
           "You Need To Calm Down"
          ],
          [
           "ME"
          ],
          [
           "​my tears ricochet"
          ],
          [
           "...Ready for It?"
          ],
          [
           "​willow"
          ],
          [
           "​invisible string"
          ],
          [
           "Cruel Summer"
          ],
          [
           "​the last great american dynasty"
          ],
          [
           "​seven"
          ],
          [
           "Delicate"
          ],
          [
           "Call It What You Want"
          ],
          [
           "Style"
          ],
          [
           "​this is me trying"
          ],
          [
           "​illicit affairs"
          ],
          [
           "Bad Blood Remix"
          ],
          [
           "​happiness"
          ],
          [
           "​evermore"
          ],
          [
           "​tolerate it"
          ],
          [
           "​peace"
          ],
          [
           "​mirrorball"
          ],
          [
           "​ivy"
          ],
          [
           "Gorgeous"
          ],
          [
           "​mad woman"
          ],
          [
           "The Man"
          ],
          [
           "​gold rush"
          ],
          [
           "Dont Blame Me"
          ],
          [
           "Dress"
          ],
          [
           "Getaway Car"
          ],
          [
           "​no body no crime"
          ],
          [
           "I Did Something Bad"
          ],
          [
           "​hoax"
          ],
          [
           "Wildest Dreams"
          ],
          [
           "​epiphany"
          ],
          [
           "The Archer"
          ],
          [
           "London Boy"
          ],
          [
           "​tis the damn season"
          ],
          [
           "Cornelia Street"
          ],
          [
           "Miss Americana  The Heartbreak Prince"
          ],
          [
           "Bad Blood"
          ],
          [
           "Daylight"
          ],
          [
           "​the lakes"
          ],
          [
           "King of My Heart"
          ],
          [
           "Death by a Thousand Cuts"
          ],
          [
           "New Years Day"
          ],
          [
           "​coney island"
          ],
          [
           "I Forgot That You Existed"
          ],
          [
           "​cowboy like me"
          ],
          [
           "Paper Rings"
          ],
          [
           "False God"
          ],
          [
           "​dorothea"
          ],
          [
           "So It Goes..."
          ],
          [
           "This Is Why We Can’t Have Nice Things"
          ],
          [
           "Afterglow"
          ],
          [
           "Dancing with Our Hands Tied"
          ],
          [
           "I Think He Knows"
          ],
          [
           "​l​ong story short"
          ],
          [
           "​marjorie"
          ],
          [
           "Clean"
          ]
         ],
         "hovertemplate": "artist=Taylor Swift<br>X=%{x}<br>Y=%{y}<br>title=%{customdata[0]}<extra></extra>",
         "legendgroup": "Taylor Swift",
         "marker": {
          "color": "#19d3f3",
          "symbol": "circle"
         },
         "mode": "markers",
         "name": "Taylor Swift",
         "orientation": "v",
         "showlegend": true,
         "type": "scatter",
         "x": {
          "bdata": "ZPGTPt2soT4zsHk+D/WbPmhRlz7gSVM+5UWiPgRNrb0Z6pU+Enf9PfApTL+4xDi/9wCHPrkBQT4dAZI+LxKfvrm7zb2kPo0+O5WdPkV2kj67vBo+rxk1PmD4rz6nI44+3AYdvp2ynD4gjYM+PPuTPrpInD7KMI0+ms+NPvZKLT5HbpY++LCLPs8LhD4K96W8P/nEvlgIuT1JBWs+aDqIv7TaoD7lPYy9TStQPb5Tjz7jksU8Y0KUPhK7qj48Khy9NlSOvSJtLz1RfYc+NrKLu/EOgz7I95U+JQWaPmD3hz6zgKY+EUTGvAQOnz7l8jy/suWTPdcxPD6bRg4+gpCrPdl6Xz08dig+QAGoPmPGIb8=",
          "dtype": "f4"
         },
         "xaxis": "x",
         "y": {
          "bdata": "tPEPOqjvHDr5aPo5ENoYOiwrFzo1o9E5AWEjOm7Y8rhtPxk64ESFuJNlsroqwKK6R3MxOu231jkxbxY6zwAAuh+3CLnCphI684AdOi+HCDqOcK25yofAOYQWLDoy+wo6Jw9RuQybHDrGrgk67AkMOo6BGzrd2g06LhcTOkx5kzld5hM6jMEJOgrSAzr8Mxk3lVQfuoBWeTkkVa05Pdr0umzFIjrZhC645dk3OWAeDDr+XNU4AOgTOl7pKTqPaZG55kyAuJ7tITlfYwo6zoO6OCXNBTqsUBo63jIdOq9HyjnVDyY6y20iOMoHHzo8hKW6eAqPuM3vpTkQ3Zk5l4R2OcjbgDiU/rk5HRUiOrHljLo=",
          "dtype": "f4"
         },
         "yaxis": "y"
        },
        {
         "customdata": [
          [
           "BTS - 봄날 Spring Day English Translation"
          ],
          [
           "Luis Fonsi  Daddy Yankee - Despacito Remix ft. Justin Bieber English Translation"
          ],
          [
           "BTS - Magic Shop English Translation"
          ],
          [
           "BTS - 전하지 못한 진심 The Truth Untold English Translation"
          ],
          [
           "BTS - FAKE LOVE English Translation"
          ],
          [
           "BTS - 소우주 Mikrokosmos English Translation"
          ],
          [
           "BTS 방탄소년단 - Life Goes On English Translation"
          ],
          [
           "BTS - Euphoria English Translation"
          ],
          [
           "BTS - Answer: Love Myself English Translation"
          ],
          [
           "BTS - Pied Piper English Translation"
          ],
          [
           "BTS - Epiphany English Translation"
          ],
          [
           "BTS - 작은 것들을 위한 시 Boy With Luv ft. Halsey English Translation"
          ],
          [
           "BTS 방탄소년단 - Blue  Grey English Translation"
          ],
          [
           "BTS - Intro: Serendipity 세렌디피티 English Translation"
          ],
          [
           "BTS - 친구 Friends English Translation"
          ],
          [
           "BTS - 피 땀 눈물 Blood Sweat  Tears English Translation"
          ],
          [
           "BTS - 00:00 Zero OClock English Translation"
          ],
          [
           "BTS - Trivia 轉: Seesaw English Translation"
          ],
          [
           "BTS - Butterfly English Translation"
          ],
          [
           "BLACKPINK - Kill This Love English Translation"
          ],
          [
           "BTS - We Are Bulletproof: The Eternal English Translation"
          ],
          [
           "BTS - ON English Translation"
          ],
          [
           "BTS - Intro: Singularity English Translation"
          ],
          [
           "BLACKPINK - 뚜두뚜두 DDU-DU DDU-DU English Translation"
          ],
          [
           "BTS - Filter English Translation"
          ],
          [
           "BTS - Make It Right English Translation"
          ],
          [
           "Bad Bunny  Jhay Cortez - DÁKITI English Translation"
          ],
          [
           "BTS - HOME English Translation"
          ],
          [
           "Jimin - 약속 Promise English Translation"
          ],
          [
           "BTS - IDOL English Translation"
          ],
          [
           "DJ Snake - Taki Taki ft. Ozuna Cardi B  Selena Gomez English Translation"
          ],
          [
           "BTS - 시차 My Time English Translation"
          ],
          [
           "BTS - Dionysus English Translation"
          ],
          [
           "BTS - Louder than bombs English Translation"
          ],
          [
           "BTS - Trivia 承: Love English Translation"
          ],
          [
           "BTS - 낙원 Paradise English Translation"
          ],
          [
           "BTS - House of Cards Full Length Edition English Translation"
          ],
          [
           "Bad Bunny - Yo Perreo Sola English Translation"
          ],
          [
           "BTS - DNA English Translation"
          ],
          [
           "BLACKPINK - How You Like That English Translation"
          ],
          [
           "JENNIE - SOLO English Translation"
          ],
          [
           "BTS - Im Fine English Translation"
          ],
          [
           "BTS - 둘 셋 그래도 좋은 날이 더 많기를 2 3 Still Wishing For More Good Days English Translation"
          ],
          [
           "Bad Bunny Jowell  Randy  Ñengo Flow - Safaera English Translation"
          ],
          [
           "BTS - Inner Child English Translation"
          ],
          [
           "BTS 방탄소년단 - 잠시 Telepathy English Translation"
          ],
          [
           "Stromae - Tous les Mêmes English Translation"
          ],
          [
           "Stromae - Papaoutai English Translation"
          ],
          [
           "IU - 에잇 eight ft. SUGA English Translation"
          ]
         ],
         "hovertemplate": "artist=Genius English Translations<br>X=%{x}<br>Y=%{y}<br>title=%{customdata[0]}<extra></extra>",
         "legendgroup": "Genius English Translations",
         "marker": {
          "color": "#FF6692",
          "symbol": "circle"
         },
         "mode": "markers",
         "name": "Genius English Translations",
         "orientation": "v",
         "showlegend": true,
         "type": "scatter",
         "x": {
          "bdata": "SqWJPrgSsT3QAYk+qemuPqlfmj49QYq/X/2yvn1P1b6qNsm+2YqAv4u/pD6tkWa/3gaZPlXpZD7Xx4m+/1BkPn+jDb6b/5o+81VqPolfzr62Shy/SP9Iv4AfpD4ARIK/rwsCv0RFlz4s7UU+Yp+TPXTwEz6d3HO/xqjHvprsor6XGDK+/e+GvT+7JD7zxp8+vWSOPmS05L4btzK/2J8/v5V/hr+FI6g9MGtpPbrqvr4tFpk+epCQPrY2kj4dgpI+VTmevQ==",
          "dtype": "f4"
         },
         "xaxis": "x",
         "y": {
          "bdata": "QIYqOhzBFbsB8hY66DEqOh9IFjoekfu6upwNujcQLroKySO6WHHlui3AITp1Gc66l6saOmC66jnCu8y5L6mdOU/aJrk7vR06HGLwOWCRI7phuoe6PpCwulBvJTo/O+q6y71cunh1Fzq6Bk45cG8VuDO4oTlFeNq6YdQnuun5/Lnv42e5xbpSujokrjmGAyE6+roROu1NPbrWhpy6MFOour5x8bokN0A5Vsn6uXOKGLov0Rk6f6gTOrBeFTqGuhE6NXqHuA==",
          "dtype": "f4"
         },
         "yaxis": "y"
        },
        {
         "customdata": [
          [
           "Heartless"
          ],
          [
           "Flashing Lights"
          ],
          [
           "No Child Left Behind"
          ],
          [
           "Come to Life"
          ]
         ],
         "hovertemplate": "artist=Kanye West<br>X=%{x}<br>Y=%{y}<br>title=%{customdata[0]}<extra></extra>",
         "legendgroup": "Kanye West",
         "marker": {
          "color": "#B6E880",
          "symbol": "circle"
         },
         "mode": "markers",
         "name": "Kanye West",
         "orientation": "v",
         "showlegend": true,
         "type": "scatter",
         "x": {
          "bdata": "2kOWPgfpkjxxQIY+XOQQPg==",
          "dtype": "f4"
         },
         "xaxis": "x",
         "y": {
          "bdata": "PlkmOov0sblNGgw6fJ+ROA==",
          "dtype": "f4"
         },
         "yaxis": "y"
        },
        {
         "customdata": [
          [
           "Starships"
          ],
          [
           "Bed"
          ],
          [
           "Ganja Burn"
          ]
         ],
         "hovertemplate": "artist=Nicki Minaj<br>X=%{x}<br>Y=%{y}<br>title=%{customdata[0]}<extra></extra>",
         "legendgroup": "Nicki Minaj",
         "marker": {
          "color": "#FF97FF",
          "symbol": "circle"
         },
         "mode": "markers",
         "name": "Nicki Minaj",
         "orientation": "v",
         "showlegend": true,
         "type": "scatter",
         "x": {
          "bdata": "ExK7PU+4Dbyi6Gm/",
          "dtype": "f4"
         },
         "xaxis": "x",
         "y": {
          "bdata": "ETpKOZZh3Dh42NG6",
          "dtype": "f4"
         },
         "yaxis": "y"
        },
        {
         "customdata": [
          [
           "IGORS THEME"
          ],
          [
           "RUNNING OUT OF TIME"
          ]
         ],
         "hovertemplate": "artist=Tyler, The Creator<br>X=%{x}<br>Y=%{y}<br>title=%{customdata[0]}<extra></extra>",
         "legendgroup": "Tyler, The Creator",
         "marker": {
          "color": "#FECB52",
          "symbol": "circle"
         },
         "mode": "markers",
         "name": "Tyler, The Creator",
         "orientation": "v",
         "showlegend": true,
         "type": "scatter",
         "x": {
          "bdata": "epjGvsHPKj4=",
          "dtype": "f4"
         },
         "xaxis": "x",
         "y": {
          "bdata": "NVQiuivNwjk=",
          "dtype": "f4"
         },
         "yaxis": "y"
        }
       ],
       "layout": {
        "legend": {
         "title": {
          "text": "artist"
         },
         "tracegroupgap": 0
        },
        "template": {
         "data": {
          "bar": [
           {
            "error_x": {
             "color": "#2a3f5f"
            },
            "error_y": {
             "color": "#2a3f5f"
            },
            "marker": {
             "line": {
              "color": "#E5ECF6",
              "width": 0.5
             },
             "pattern": {
              "fillmode": "overlay",
              "size": 10,
              "solidity": 0.2
             }
            },
            "type": "bar"
           }
          ],
          "barpolar": [
           {
            "marker": {
             "line": {
              "color": "#E5ECF6",
              "width": 0.5
             },
             "pattern": {
              "fillmode": "overlay",
              "size": 10,
              "solidity": 0.2
             }
            },
            "type": "barpolar"
           }
          ],
          "carpet": [
           {
            "aaxis": {
             "endlinecolor": "#2a3f5f",
             "gridcolor": "white",
             "linecolor": "white",
             "minorgridcolor": "white",
             "startlinecolor": "#2a3f5f"
            },
            "baxis": {
             "endlinecolor": "#2a3f5f",
             "gridcolor": "white",
             "linecolor": "white",
             "minorgridcolor": "white",
             "startlinecolor": "#2a3f5f"
            },
            "type": "carpet"
           }
          ],
          "choropleth": [
           {
            "colorbar": {
             "outlinewidth": 0,
             "ticks": ""
            },
            "type": "choropleth"
           }
          ],
          "contour": [
           {
            "colorbar": {
             "outlinewidth": 0,
             "ticks": ""
            },
            "colorscale": [
             [
              0,
              "#0d0887"
             ],
             [
              0.1111111111111111,
              "#46039f"
             ],
             [
              0.2222222222222222,
              "#7201a8"
             ],
             [
              0.3333333333333333,
              "#9c179e"
             ],
             [
              0.4444444444444444,
              "#bd3786"
             ],
             [
              0.5555555555555556,
              "#d8576b"
             ],
             [
              0.6666666666666666,
              "#ed7953"
             ],
             [
              0.7777777777777778,
              "#fb9f3a"
             ],
             [
              0.8888888888888888,
              "#fdca26"
             ],
             [
              1,
              "#f0f921"
             ]
            ],
            "type": "contour"
           }
          ],
          "contourcarpet": [
           {
            "colorbar": {
             "outlinewidth": 0,
             "ticks": ""
            },
            "type": "contourcarpet"
           }
          ],
          "heatmap": [
           {
            "colorbar": {
             "outlinewidth": 0,
             "ticks": ""
            },
            "colorscale": [
             [
              0,
              "#0d0887"
             ],
             [
              0.1111111111111111,
              "#46039f"
             ],
             [
              0.2222222222222222,
              "#7201a8"
             ],
             [
              0.3333333333333333,
              "#9c179e"
             ],
             [
              0.4444444444444444,
              "#bd3786"
             ],
             [
              0.5555555555555556,
              "#d8576b"
             ],
             [
              0.6666666666666666,
              "#ed7953"
             ],
             [
              0.7777777777777778,
              "#fb9f3a"
             ],
             [
              0.8888888888888888,
              "#fdca26"
             ],
             [
              1,
              "#f0f921"
             ]
            ],
            "type": "heatmap"
           }
          ],
          "histogram": [
           {
            "marker": {
             "pattern": {
              "fillmode": "overlay",
              "size": 10,
              "solidity": 0.2
             }
            },
            "type": "histogram"
           }
          ],
          "histogram2d": [
           {
            "colorbar": {
             "outlinewidth": 0,
             "ticks": ""
            },
            "colorscale": [
             [
              0,
              "#0d0887"
             ],
             [
              0.1111111111111111,
              "#46039f"
             ],
             [
              0.2222222222222222,
              "#7201a8"
             ],
             [
              0.3333333333333333,
              "#9c179e"
             ],
             [
              0.4444444444444444,
              "#bd3786"
             ],
             [
              0.5555555555555556,
              "#d8576b"
             ],
             [
              0.6666666666666666,
              "#ed7953"
             ],
             [
              0.7777777777777778,
              "#fb9f3a"
             ],
             [
              0.8888888888888888,
              "#fdca26"
             ],
             [
              1,
              "#f0f921"
             ]
            ],
            "type": "histogram2d"
           }
          ],
          "histogram2dcontour": [
           {
            "colorbar": {
             "outlinewidth": 0,
             "ticks": ""
            },
            "colorscale": [
             [
              0,
              "#0d0887"
             ],
             [
              0.1111111111111111,
              "#46039f"
             ],
             [
              0.2222222222222222,
              "#7201a8"
             ],
             [
              0.3333333333333333,
              "#9c179e"
             ],
             [
              0.4444444444444444,
              "#bd3786"
             ],
             [
              0.5555555555555556,
              "#d8576b"
             ],
             [
              0.6666666666666666,
              "#ed7953"
             ],
             [
              0.7777777777777778,
              "#fb9f3a"
             ],
             [
              0.8888888888888888,
              "#fdca26"
             ],
             [
              1,
              "#f0f921"
             ]
            ],
            "type": "histogram2dcontour"
           }
          ],
          "mesh3d": [
           {
            "colorbar": {
             "outlinewidth": 0,
             "ticks": ""
            },
            "type": "mesh3d"
           }
          ],
          "parcoords": [
           {
            "line": {
             "colorbar": {
              "outlinewidth": 0,
              "ticks": ""
             }
            },
            "type": "parcoords"
           }
          ],
          "pie": [
           {
            "automargin": true,
            "type": "pie"
           }
          ],
          "scatter": [
           {
            "fillpattern": {
             "fillmode": "overlay",
             "size": 10,
             "solidity": 0.2
            },
            "type": "scatter"
           }
          ],
          "scatter3d": [
           {
            "line": {
             "colorbar": {
              "outlinewidth": 0,
              "ticks": ""
             }
            },
            "marker": {
             "colorbar": {
              "outlinewidth": 0,
              "ticks": ""
             }
            },
            "type": "scatter3d"
           }
          ],
          "scattercarpet": [
           {
            "marker": {
             "colorbar": {
              "outlinewidth": 0,
              "ticks": ""
             }
            },
            "type": "scattercarpet"
           }
          ],
          "scattergeo": [
           {
            "marker": {
             "colorbar": {
              "outlinewidth": 0,
              "ticks": ""
             }
            },
            "type": "scattergeo"
           }
          ],
          "scattergl": [
           {
            "marker": {
             "colorbar": {
              "outlinewidth": 0,
              "ticks": ""
             }
            },
            "type": "scattergl"
           }
          ],
          "scattermap": [
           {
            "marker": {
             "colorbar": {
              "outlinewidth": 0,
              "ticks": ""
             }
            },
            "type": "scattermap"
           }
          ],
          "scattermapbox": [
           {
            "marker": {
             "colorbar": {
              "outlinewidth": 0,
              "ticks": ""
             }
            },
            "type": "scattermapbox"
           }
          ],
          "scatterpolar": [
           {
            "marker": {
             "colorbar": {
              "outlinewidth": 0,
              "ticks": ""
             }
            },
            "type": "scatterpolar"
           }
          ],
          "scatterpolargl": [
           {
            "marker": {
             "colorbar": {
              "outlinewidth": 0,
              "ticks": ""
             }
            },
            "type": "scatterpolargl"
           }
          ],
          "scatterternary": [
           {
            "marker": {
             "colorbar": {
              "outlinewidth": 0,
              "ticks": ""
             }
            },
            "type": "scatterternary"
           }
          ],
          "surface": [
           {
            "colorbar": {
             "outlinewidth": 0,
             "ticks": ""
            },
            "colorscale": [
             [
              0,
              "#0d0887"
             ],
             [
              0.1111111111111111,
              "#46039f"
             ],
             [
              0.2222222222222222,
              "#7201a8"
             ],
             [
              0.3333333333333333,
              "#9c179e"
             ],
             [
              0.4444444444444444,
              "#bd3786"
             ],
             [
              0.5555555555555556,
              "#d8576b"
             ],
             [
              0.6666666666666666,
              "#ed7953"
             ],
             [
              0.7777777777777778,
              "#fb9f3a"
             ],
             [
              0.8888888888888888,
              "#fdca26"
             ],
             [
              1,
              "#f0f921"
             ]
            ],
            "type": "surface"
           }
          ],
          "table": [
           {
            "cells": {
             "fill": {
              "color": "#EBF0F8"
             },
             "line": {
              "color": "white"
             }
            },
            "header": {
             "fill": {
              "color": "#C8D4E3"
             },
             "line": {
              "color": "white"
             }
            },
            "type": "table"
           }
          ]
         },
         "layout": {
          "annotationdefaults": {
           "arrowcolor": "#2a3f5f",
           "arrowhead": 0,
           "arrowwidth": 1
          },
          "autotypenumbers": "strict",
          "coloraxis": {
           "colorbar": {
            "outlinewidth": 0,
            "ticks": ""
           }
          },
          "colorscale": {
           "diverging": [
            [
             0,
             "#8e0152"
            ],
            [
             0.1,
             "#c51b7d"
            ],
            [
             0.2,
             "#de77ae"
            ],
            [
             0.3,
             "#f1b6da"
            ],
            [
             0.4,
             "#fde0ef"
            ],
            [
             0.5,
             "#f7f7f7"
            ],
            [
             0.6,
             "#e6f5d0"
            ],
            [
             0.7,
             "#b8e186"
            ],
            [
             0.8,
             "#7fbc41"
            ],
            [
             0.9,
             "#4d9221"
            ],
            [
             1,
             "#276419"
            ]
           ],
           "sequential": [
            [
             0,
             "#0d0887"
            ],
            [
             0.1111111111111111,
             "#46039f"
            ],
            [
             0.2222222222222222,
             "#7201a8"
            ],
            [
             0.3333333333333333,
             "#9c179e"
            ],
            [
             0.4444444444444444,
             "#bd3786"
            ],
            [
             0.5555555555555556,
             "#d8576b"
            ],
            [
             0.6666666666666666,
             "#ed7953"
            ],
            [
             0.7777777777777778,
             "#fb9f3a"
            ],
            [
             0.8888888888888888,
             "#fdca26"
            ],
            [
             1,
             "#f0f921"
            ]
           ],
           "sequentialminus": [
            [
             0,
             "#0d0887"
            ],
            [
             0.1111111111111111,
             "#46039f"
            ],
            [
             0.2222222222222222,
             "#7201a8"
            ],
            [
             0.3333333333333333,
             "#9c179e"
            ],
            [
             0.4444444444444444,
             "#bd3786"
            ],
            [
             0.5555555555555556,
             "#d8576b"
            ],
            [
             0.6666666666666666,
             "#ed7953"
            ],
            [
             0.7777777777777778,
             "#fb9f3a"
            ],
            [
             0.8888888888888888,
             "#fdca26"
            ],
            [
             1,
             "#f0f921"
            ]
           ]
          },
          "colorway": [
           "#636efa",
           "#EF553B",
           "#00cc96",
           "#ab63fa",
           "#FFA15A",
           "#19d3f3",
           "#FF6692",
           "#B6E880",
           "#FF97FF",
           "#FECB52"
          ],
          "font": {
           "color": "#2a3f5f"
          },
          "geo": {
           "bgcolor": "white",
           "lakecolor": "white",
           "landcolor": "#E5ECF6",
           "showlakes": true,
           "showland": true,
           "subunitcolor": "white"
          },
          "hoverlabel": {
           "align": "left"
          },
          "hovermode": "closest",
          "mapbox": {
           "style": "light"
          },
          "paper_bgcolor": "white",
          "plot_bgcolor": "#E5ECF6",
          "polar": {
           "angularaxis": {
            "gridcolor": "white",
            "linecolor": "white",
            "ticks": ""
           },
           "bgcolor": "#E5ECF6",
           "radialaxis": {
            "gridcolor": "white",
            "linecolor": "white",
            "ticks": ""
           }
          },
          "scene": {
           "xaxis": {
            "backgroundcolor": "#E5ECF6",
            "gridcolor": "white",
            "gridwidth": 2,
            "linecolor": "white",
            "showbackground": true,
            "ticks": "",
            "zerolinecolor": "white"
           },
           "yaxis": {
            "backgroundcolor": "#E5ECF6",
            "gridcolor": "white",
            "gridwidth": 2,
            "linecolor": "white",
            "showbackground": true,
            "ticks": "",
            "zerolinecolor": "white"
           },
           "zaxis": {
            "backgroundcolor": "#E5ECF6",
            "gridcolor": "white",
            "gridwidth": 2,
            "linecolor": "white",
            "showbackground": true,
            "ticks": "",
            "zerolinecolor": "white"
           }
          },
          "shapedefaults": {
           "line": {
            "color": "#2a3f5f"
           }
          },
          "ternary": {
           "aaxis": {
            "gridcolor": "white",
            "linecolor": "white",
            "ticks": ""
           },
           "baxis": {
            "gridcolor": "white",
            "linecolor": "white",
            "ticks": ""
           },
           "bgcolor": "#E5ECF6",
           "caxis": {
            "gridcolor": "white",
            "linecolor": "white",
            "ticks": ""
           }
          },
          "title": {
           "x": 0.05
          },
          "xaxis": {
           "automargin": true,
           "gridcolor": "white",
           "linecolor": "white",
           "ticks": "",
           "title": {
            "standoff": 15
           },
           "zerolinecolor": "white",
           "zerolinewidth": 2
          },
          "yaxis": {
           "automargin": true,
           "gridcolor": "white",
           "linecolor": "white",
           "ticks": "",
           "title": {
            "standoff": 15
           },
           "zerolinecolor": "white",
           "zerolinewidth": 2
          }
         }
        },
        "title": {
         "text": "2D map of songs by artists"
        },
        "xaxis": {
         "anchor": "y",
         "domain": [
          0,
          1
         ],
         "title": {
          "text": "X"
         }
        },
        "yaxis": {
         "anchor": "x",
         "domain": [
          0,
          1
         ],
         "title": {
          "text": "Y"
         }
        }
       }
      }
     },
     "metadata": {},
     "output_type": "display_data"
    }
   ],
   "source": [
    "#Plotting the songs of top 10 artists\n",
    "top_artists = artist_df.head(10)['artist'].to_list()\n",
    "filtered_df = two_dimensional_songs[two_dimensional_songs['artist'].isin(top_artists)]\n",
    "\n",
    "fig = px.scatter(filtered_df, x='X', y='Y', color='artist',\n",
    "                 title='2D map of songs by artists',hover_data=['title'])\n",
    "\n",
    "fig.show()\n"
   ]
  },
  {
   "cell_type": "code",
   "execution_count": 83,
   "metadata": {
    "id": "2DLTnNSYURTU",
    "outputId": "c94c7ae3-0f65-4998-b0fc-5c0492949c0f"
   },
   "outputs": [
    {
     "data": {
      "application/vnd.plotly.v1+json": {
       "config": {
        "plotlyServerURL": "https://plot.ly"
       },
       "data": [
        {
         "marker": {
          "color": {
           "bdata": "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",
           "dtype": "f8"
          },
          "colorscale": [
           [
            0,
            "#440154"
           ],
           [
            0.1111111111111111,
            "#482878"
           ],
           [
            0.2222222222222222,
            "#3e4989"
           ],
           [
            0.3333333333333333,
            "#31688e"
           ],
           [
            0.4444444444444444,
            "#26828e"
           ],
           [
            0.5555555555555556,
            "#1f9e89"
           ],
           [
            0.6666666666666666,
            "#35b779"
           ],
           [
            0.7777777777777778,
            "#6ece58"
           ],
           [
            0.8888888888888888,
            "#b5de2b"
           ],
           [
            1,
            "#fde725"
           ]
          ],
          "showscale": true,
          "size": {
           "bdata": "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",
           "dtype": "f8"
          }
         },
         "mode": "markers",
         "text": [
          "Ed Sheeran - <br>Views: 266513724<br>Valence: 0.9993",
          "Ariana Grande - <br>Views: 159846342<br>Valence: 0.9996",
          "Rihanna - <br>Views: 156743106<br>Valence: -0.9978",
          "Sam Smith - <br>Views: 85436713<br>Valence: -0.977",
          "Ariana Grande - <br>Views: 77642721<br>Valence: 0.9972",
          "Drake - <br>Views: 55646792<br>Valence: 0.9916",
          "The Chainsmokers - <br>Views: 55168162<br>Valence: 0.9808",
          "Ed Sheeran - <br>Views: 53899429<br>Valence: 0.9988",
          "Garrett Nash - <br>Views: 51961727<br>Valence: -0.3199",
          "Beyonc - <br>Views: 49997262<br>Valence: 0.3772",
          "Drake - <br>Views: 47311533<br>Valence: 0.9936",
          "Marshmello & Anne-Marie - <br>Views: 44818182<br>Valence: -0.9758",
          "Adele - <br>Views: 42807278<br>Valence: -0.9789",
          "Robin Thicke - <br>Views: 40504854<br>Valence: 0.9487",
          "Dua Lipa - <br>Views: 35905687<br>Valence: -0.6902",
          "Wiz Khalifa - <br>Views: 34753663<br>Valence: 0.9928",
          "The Weeknd - <br>Views: 29623126<br>Valence: 0.9997",
          "Justin Bieber - <br>Views: 28341648<br>Valence: 0.9849",
          "Billie Eilish & Khalid - <br>Views: 26833765<br>Valence: 0.9866",
          "Ryan Gosling & Emma Stone - <br>Views: 26792392<br>Valence: 0.9652",
          "Daft Punk - <br>Views: 25446186<br>Valence: 0.9996",
          "Christmas Songs - <br>Views: 24588791<br>Valence: 0.9979",
          "Lukas Graham - <br>Views: 23639231<br>Valence: 0.9921",
          "Charlie Puth - <br>Views: 23384132<br>Valence: 0.8693",
          "Camila Cabello - <br>Views: 22653567<br>Valence: 0.8693",
          "BTS - <br>Views: 22104779<br>Valence: 0.9946",
          "Hozier - <br>Views: 21476837<br>Valence: -0.4575",
          "Ziv Zaifman - <br>Views: 21475345<br>Valence: 0.9952",
          "Olivia Rodrigo - <br>Views: 21304046<br>Valence: 0.518",
          "Frank Sinatra - <br>Views: 20819477<br>Valence: 0.9899",
          "Billie Eilish - <br>Views: 20036676<br>Valence: 0.9977",
          "DJ Snake - <br>Views: 18671848<br>Valence: 0.946",
          "Maroon 5 - <br>Views: 17785733<br>Valence: 0.9999",
          "CaptainSparklez - <br>Views: 17544791<br>Valence: -0.948",
          "Billie Eilish - <br>Views: 17384505<br>Valence: -0.9967",
          "Zac Efron - <br>Views: 17042332<br>Valence: -0.8991",
          "Julia Michaels - <br>Views: 15999395<br>Valence: -0.0129",
          "Ariana Grande - <br>Views: 15941809<br>Valence: 0.9974",
          "Lewis Capaldi - <br>Views: 15606136<br>Valence: 0.9788",
          "The Chainsmokers & Coldplay - <br>Views: 15274890<br>Valence: 0.9965",
          "BTS - <br>Views: 14886591<br>Valence: 0.9864",
          "Post Malone - <br>Views: 14576697<br>Valence: -0.9697",
          "Billie Eilish - <br>Views: 14461505<br>Valence: -0.6322",
          "Billie Eilish - <br>Views: 14400388<br>Valence: -0.9608",
          "Beyonc - <br>Views: 14136764<br>Valence: 0.9975",
          "Marshmello & Bastille - <br>Views: 13853558<br>Valence: 0.9966",
          "James Arthur - <br>Views: 13414121<br>Valence: 0.9957",
          "ZAYN - <br>Views: 13321133<br>Valence: 0.9872",
          "Drake - <br>Views: 13203309<br>Valence: 0.9813",
          "Ariana Grande - <br>Views: 12612244<br>Valence: -0.6007",
          "twenty one pilots - <br>Views: 12335412<br>Valence: 0.9932",
          "XXXTENTACION - <br>Views: 12110080<br>Valence: -0.9724",
          "Selena Gomez - <br>Views: 11993668<br>Valence: 0.9993",
          "Ariana Grande - <br>Views: 11907622<br>Valence: 0.9897",
          "Shawn Mendes & Camila Cabello - <br>Views: 11704946<br>Valence: 0.9989",
          "Cardi B - <br>Views: 10849199<br>Valence: -0.9986",
          "Billie Eilish - <br>Views: 10332851<br>Valence: 0.8544",
          "Calvin Harris - <br>Views: 10118416<br>Valence: 0.9922",
          "Taylor Swift - <br>Views: 10082735<br>Valence: 0.9969",
          "Drake - <br>Views: 10081799<br>Valence: 0.9989",
          "Kygo & Selena Gomez - <br>Views: 9556408<br>Valence: 0.999",
          "Joji - <br>Views: 9347643<br>Valence: 0.9827",
          "Christmas Songs - <br>Views: 9304663<br>Valence: 0.9864",
          "Bruno Mars - <br>Views: 9207390<br>Valence: 0.9658",
          "Elvis Presley - <br>Views: 9115064<br>Valence: 0.9952",
          "blackbear - <br>Views: 8769792<br>Valence: -0.9996",
          "Frank Ocean - <br>Views: 8697291<br>Valence: -0.8345",
          "Keala Settle - <br>Views: 8629902<br>Valence: 0.8532",
          "Adele - <br>Views: 8569923<br>Valence: 0.9888",
          "Olivia Rodrigo - <br>Views: 8388333<br>Valence: 0.9865",
          "Frank Ocean - <br>Views: 8310870<br>Valence: 0.897",
          "Billie Eilish - <br>Views: 8225164<br>Valence: 0.9841",
          "Taylor Swift - <br>Views: 8034117<br>Valence: 0.9944",
          "Olivia Rodrigo - <br>Views: 7618984<br>Valence: 0.999",
          "Lady Gaga - <br>Views: 7368526<br>Valence: 0.9982",
          "Frank Ocean - <br>Views: 7303629<br>Valence: -0.3253",
          "Shawn Mendes - <br>Views: 6849435<br>Valence: 0.9368",
          "You'll Be Back Lyrics - Jonathan Groff & Original Broadway Cast of \"Hamilton\" - <br>Views: 6817614<br>Valence: 0.9369",
          "Hugh Jackman, Keala Settle, Zac Efron, Zendaya & The Greatest Showman Ensemble - <br>Views: 6749974<br>Valence: 0.9988",
          "The Weeknd - <br>Views: 6605413<br>Valence: -0.4434",
          "Calvin Harris - <br>Views: 6601476<br>Valence: 0.9642",
          "Machine Gun Kelly & Camila Cabello - <br>Views: 6583352<br>Valence: -0.9808",
          "Justin Bieber - <br>Views: 6418443<br>Valence: 0.9039",
          "Taylor Swift - <br>Views: 6377719<br>Valence: -0.5057",
          "Foster the People - <br>Views: 6303846<br>Valence: 0.9986",
          "Tones and I - <br>Views: 6241392<br>Valence: 0.0387",
          "Justin Bieber - <br>Views: 6065784<br>Valence: 0.9956",
          "Halsey - <br>Views: 5833139<br>Valence: -0.4809",
          "Demi Lovato - <br>Views: 5760147<br>Valence: -0.9848",
          "Ariana Grande - <br>Views: 5742142<br>Valence: 0.991",
          "Lorde - <br>Views: 5701305<br>Valence: 0.9919",
          "The Weeknd - <br>Views: 5604466<br>Valence: 0.9635",
          "Lizzo - <br>Views: 5585199<br>Valence: 0.9995",
          "Pharrell Williams - <br>Views: 5552701<br>Valence: 0.9982",
          "Zedd & Alessia Cara - <br>Views: 5515393<br>Valence: -0.5821",
          "Bruno Mars - <br>Views: 5456064<br>Valence: 0.985",
          "Ed Sheeran - <br>Views: 5397438<br>Valence: 0.9001",
          "Post Malone - <br>Views: 5322220<br>Valence: 0.9686",
          "Rick Astley - <br>Views: 5252415<br>Valence: -0.9951",
          "Calum Scott - <br>Views: 5222544<br>Valence: -0.9452",
          "Loren Allred - <br>Views: 5219818<br>Valence: -0.2869",
          "Taylor Swift - <br>Views: 5075295<br>Valence: 0.9894",
          "Ariana Grande - <br>Views: 4949296<br>Valence: 0.9224",
          "Ed Sheeran - <br>Views: 4920403<br>Valence: 0.9978",
          "Camila Cabello - <br>Views: 4687261<br>Valence: -0.9973",
          "Sia - <br>Views: 4634576<br>Valence: 0.9395",
          "Drake - <br>Views: 4630895<br>Valence: 0.9891",
          "Daft Punk - <br>Views: 4620834<br>Valence: 0.9968",
          "Ed Sheeran & Beyonc - <br>Views: 4618317<br>Valence: 0.9991",
          "Harry Styles - <br>Views: 4537728<br>Valence: 0.9502",
          "Beyonc - <br>Views: 4482377<br>Valence: 0.9873",
          "ROS - <br>Views: 4468512<br>Valence: -0.8439",
          "Ariana Grande & Justin Bieber - <br>Views: 4443202<br>Valence: -0.9976",
          "Ed Sheeran - <br>Views: 4330869<br>Valence: 0.9946",
          "Lil Dicky - <br>Views: 4294899<br>Valence: 0.9996",
          "Billie Eilish - <br>Views: 4265567<br>Valence: 0.9519",
          "Billie Eilish - <br>Views: 4114670<br>Valence: -0.8537",
          "Auli'i Cravalho - <br>Views: 4064212<br>Valence: 0.917",
          "Drake - <br>Views: 4063418<br>Valence: 0.9963",
          "Ed Sheeran - <br>Views: 4006137<br>Valence: 0.9975",
          "Taylor Swift - <br>Views: 3986919<br>Valence: 0.9977",
          "Imagine Dragons - <br>Views: 3973860<br>Valence: 0.509",
          "Adele - <br>Views: 3959039<br>Valence: 0.9568",
          "benny blanco, Halsey & Khalid - <br>Views: 3949524<br>Valence: 0.9889",
          "OutKast - <br>Views: 3921955<br>Valence: 0.9481",
          "Harry Styles - <br>Views: 3847858<br>Valence: -0.9715",
          "Harry Styles - <br>Views: 3826587<br>Valence: 0.817",
          "Beyonc - <br>Views: 3764208<br>Valence: 0.988",
          "Taylor Swift - <br>Views: 3731354<br>Valence: -0.9641",
          "The Weeknd - <br>Views: 3700972<br>Valence: 0.9764",
          "Lana Del Rey - <br>Views: 3613475<br>Valence: 0.9992",
          "Martin Garrix & Dua Lipa - <br>Views: 3573315<br>Valence: -0.995",
          "Mike Posner - <br>Views: 3452117<br>Valence: 0.8739",
          "Taylor Swift - <br>Views: 3432571<br>Valence: 0.9956",
          "Gotye - <br>Views: 3427537<br>Valence: 0.9891",
          "Mariah Carey - <br>Views: 3409666<br>Valence: 0.923",
          "Beyonc - <br>Views: 3407945<br>Valence: -0.1521",
          "Rihanna - <br>Views: 3406496<br>Valence: 0.3189",
          "Billie Eilish - <br>Views: 3393730<br>Valence: 0.9794",
          "Marshmello - <br>Views: 3383895<br>Valence: -0.9746",
          "Alessia Cara - <br>Views: 3326379<br>Valence: 0.9938",
          "Beyonc - <br>Views: 3316570<br>Valence: 0.9595",
          "Billy Straus - <br>Views: 3299796<br>Valence: 0.9038",
          "Jason Derulo - <br>Views: 3287674<br>Valence: -0.8079",
          "Ed Sheeran - <br>Views: 3275640<br>Valence: 0.9992",
          "Katy Perry - <br>Views: 3258290<br>Valence: 0.9904",
          "Maroon 5 - <br>Views: 3246992<br>Valence: 0.9851",
          "Billie Eilish - <br>Views: 3156690<br>Valence: -0.9962",
          "Ava Max - <br>Views: 3154043<br>Valence: 0.9795",
          "Panic! at the Disco - <br>Views: 3148228<br>Valence: 0.9983",
          "Christmas Songs - <br>Views: 3138445<br>Valence: 0.9896",
          "Clean Bandit - <br>Views: 3059911<br>Valence: 0.9979",
          "Zedd, Maren Morris & Grey - <br>Views: 3059088<br>Valence: -0.9767",
          "Louis Tomlinson - <br>Views: 3037965<br>Valence: -0.999",
          "Drake - <br>Views: 3024940<br>Valence: 0.9675",
          "Liam Payne - <br>Views: 2958292<br>Valence: 0.9997",
          "Maroon 5 - <br>Views: 2938507<br>Valence: 0.9968",
          "The 1975 - <br>Views: 2927187<br>Valence: 0.9595",
          "Genius English Translations - <br>Views: 2905314<br>Valence: -0.7726",
          "SHAUN () - <br>Views: 2826660<br>Valence: 0.5383",
          "Buddy Castle - <br>Views: 2771921<br>Valence: 0.9615",
          "Justin Bieber - <br>Views: 2750830<br>Valence: 0.9998",
          "Billie Eilish - <br>Views: 2736003<br>Valence: -0.9849",
          "Dwayne Johnson - <br>Views: 2729526<br>Valence: 0.9961",
          "Billie Eilish - <br>Views: 2684353<br>Valence: -0.7426",
          "Hugh Jackman & Zac Efron - <br>Views: 2633511<br>Valence: 0.9939",
          "Bruno Mars - <br>Views: 2571106<br>Valence: -0.8275",
          "Shawn Mendes - <br>Views: 2535339<br>Valence: 0.9973",
          "Beyonc - <br>Views: 2529190<br>Valence: 0.9876",
          "Genius English Translations - <br>Views: 2504451<br>Valence: 0.9902",
          "Charlie Puth - <br>Views: 2474433<br>Valence: -0.9954",
          "The Weeknd - <br>Views: 2463413<br>Valence: 0.8748",
          "Ed Sheeran & Justin Bieber - <br>Views: 2462705<br>Valence: 0.9915",
          "Michael Jackson - <br>Views: 2450343<br>Valence: -0.8055",
          "Dua Lipa - <br>Views: 2424568<br>Valence: -0.9873",
          "Taylor Swift - <br>Views: 2408650<br>Valence: 0.8376",
          "Meghan Trainor - <br>Views: 2407908<br>Valence: -0.9994",
          "Rex Orange County - <br>Views: 2404865<br>Valence: 0.9994",
          "fun. - <br>Views: 2403101<br>Valence: 0.9013",
          "Harry Styles - <br>Views: 2387033<br>Valence: 0.9913",
          "Taylor Swift - <br>Views: 2368597<br>Valence: -0.6667",
          "Ariana Grande - <br>Views: 2342887<br>Valence: 0.9959",
          "Major Lazer - <br>Views: 2328953<br>Valence: -0.3071",
          "Rex Orange County - <br>Views: 2320765<br>Valence: -0.8184",
          "Lil Peep & XXXTENTACION - <br>Views: 2269414<br>Valence: 0.9717",
          "Passenger - <br>Views: 2266951<br>Valence: 0.9829",
          "Genius English Translations - <br>Views: 2255413<br>Valence: 0.9923",
          "Ed Sheeran - <br>Views: 2207551<br>Valence: -0.8966",
          "Christina Perri - <br>Views: 2199392<br>Valence: 0.9975",
          "Taylor Swift - <br>Views: 2130787<br>Valence: -0.9085",
          "Doja Cat - <br>Views: 2122901<br>Valence: 0.9839",
          "Naomi Scott - <br>Views: 2119651<br>Valence: 0.9082",
          "Calvin Harris & Disciples - <br>Views: 2110308<br>Valence: 0.9992",
          "Internet Money - <br>Views: 2096132<br>Valence: -0.9686",
          "XXXTENTACION & Lil Pump - <br>Views: 2078166<br>Valence: 0.9143",
          "Ariel Winter - <br>Views: 2047421<br>Valence: 0.8408",
          "Taylor Swift - <br>Views: 2039520<br>Valence: 0.9934",
          "Dream - <br>Views: 2026074<br>Valence: -0.3077",
          "N.E.R.D & Rihanna - <br>Views: 2023823<br>Valence: -0.9968",
          "Michael Jackson - <br>Views: 2000185<br>Valence: 0.9855",
          "Genius English Translations - <br>Views: 1949672<br>Valence: -0.962",
          "Taylor Swift - <br>Views: 1947561<br>Valence: 0.9979",
          "Rihanna, Kanye West & Paul McCartney - <br>Views: 1927704<br>Valence: 0.962",
          "Genius English Translations - <br>Views: 1913716<br>Valence: 0.9995",
          "A Great Big World - <br>Views: 1910892<br>Valence: 0.9952",
          "Ariana Grande - <br>Views: 1902489<br>Valence: 0.9774",
          "Selena Gomez & Marshmello - <br>Views: 1858024<br>Valence: 0.0772",
          "Doja Cat - <br>Views: 1840312<br>Valence: 0.9963",
          "Ed Sheeran - <br>Views: 1820927<br>Valence: 0.9922",
          "Selena Gomez - <br>Views: 1807732<br>Valence: -0.898",
          "ElyOtto - <br>Views: 1807031<br>Valence: -0.6562",
          "Taylor Swift - <br>Views: 1768524<br>Valence: -0.9898",
          "Lea Salonga & Brad Kane - <br>Views: 1758240<br>Valence: 0.9716",
          "Frank Ocean - <br>Views: 1739847<br>Valence: 0.9336",
          "Billie Eilish - <br>Views: 1722089<br>Valence: 0.9909",
          "Lewis Capaldi - <br>Views: 1701857<br>Valence: -0.9937",
          "Taylor Swift - <br>Views: 1684132<br>Valence: 0.9227",
          "Genius English Translations - <br>Views: 1653276<br>Valence: 0.9883",
          "Sia - <br>Views: 1640409<br>Valence: 0.9999",
          "Ariana Grande - <br>Views: 1639188<br>Valence: -0.7452",
          "Cheap Thrills Lyrics - Sia - <br>Views: 1630990<br>Valence: 0.999",
          "Taylor Swift - <br>Views: 1623621<br>Valence: 0.9829",
          "Frank Ocean - <br>Views: 1621999<br>Valence: -0.9844",
          "Selena Gomez - <br>Views: 1620185<br>Valence: 0.9875",
          "twenty one pilots - <br>Views: 1619104<br>Valence: 0.8502",
          "Jessie J, Ariana Grande & Nicki Minaj - <br>Views: 1616450<br>Valence: 0.9789",
          "Halsey - <br>Views: 1614936<br>Valence: 0.9954",
          "a-ha - <br>Views: 1602866<br>Valence: 0.8628",
          "Christmas Songs - <br>Views: 1600880<br>Valence: 0.9961",
          "OneRepublic - <br>Views: 1591375<br>Valence: -0.9873",
          "5 Seconds of Summer - <br>Views: 1587427<br>Valence: 0.6007",
          "Drake - <br>Views: 1586799<br>Valence: 0.8399",
          "Alan Walker - <br>Views: 1577448<br>Valence: -0.8263",
          "twenty one pilots - <br>Views: 1575494<br>Valence: 0.8952",
          "SpongeBob SquarePants - <br>Views: 1556754<br>Valence: 0.7788",
          "Clean Bandit - <br>Views: 1551196<br>Valence: -0.9854",
          "Lana Del Rey - <br>Views: 1550218<br>Valence: -0.8176",
          "Jonas Blue - <br>Views: 1523687<br>Valence: 0.9887",
          "Billie Eilish - <br>Views: 1499206<br>Valence: 0.951",
          "Anne-Marie - <br>Views: 1496206<br>Valence: 0.9989",
          "Shawn Mendes - <br>Views: 1488681<br>Valence: 0.9937",
          "Mac Miller - <br>Views: 1460123<br>Valence: -0.9747",
          "Genius English Translations - <br>Views: 1459142<br>Valence: 0.7863",
          "Ariana Grande - <br>Views: 1453737<br>Valence: 0.9986",
          "Lorde - <br>Views: 1443547<br>Valence: 0.843",
          "Dua Lipa - <br>Views: 1441481<br>Valence: 0.9901",
          "Frankie Valli - <br>Views: 1439208<br>Valence: 0.9996",
          "Ariana Grande - <br>Views: 1437415<br>Valence: 0.942",
          "Olivia Rodrigo - <br>Views: 1436487<br>Valence: 0.9964",
          "Judy Garland - <br>Views: 1435764<br>Valence: 0.9462",
          "NCT 127 - <br>Views: 1431416<br>Valence: 0.8833",
          "Billie Eilish - <br>Views: 1427399<br>Valence: 0.91",
          "Billie Eilish - <br>Views: 1417287<br>Valence: -0.9894",
          "Olivia Rodrigo - <br>Views: 1413339<br>Valence: 0.999",
          "Doja Cat - <br>Views: 1408897<br>Valence: -0.9527",
          null,
          null,
          null,
          null,
          null,
          null,
          null,
          null,
          null,
          null,
          null,
          null,
          null,
          null,
          null,
          null,
          null,
          null,
          null,
          null,
          null,
          null,
          null,
          null,
          null,
          null,
          null,
          null,
          null,
          null,
          null,
          null,
          null,
          null,
          null,
          null,
          null,
          null,
          null,
          null,
          null,
          null,
          null,
          null,
          null,
          null,
          null,
          null,
          null,
          null,
          null,
          null,
          null,
          null,
          null,
          null,
          null,
          null,
          null,
          null,
          null,
          null,
          null,
          null,
          null,
          null,
          null,
          null,
          null,
          null,
          null,
          null,
          null,
          null,
          null,
          null,
          null,
          null,
          null,
          null,
          null,
          null,
          null,
          null,
          null,
          null,
          null,
          null,
          null,
          null,
          null,
          null,
          null,
          null,
          null,
          null,
          null,
          null,
          null,
          null,
          null,
          null,
          null,
          null,
          null,
          null,
          null,
          null,
          null,
          null,
          null,
          null,
          null,
          null,
          null,
          null,
          null,
          null,
          null,
          null,
          null,
          null,
          null,
          null,
          null,
          null,
          null,
          null,
          null,
          null,
          null,
          null,
          null,
          null,
          null,
          null,
          null,
          null,
          null,
          null,
          null,
          null,
          null,
          null,
          null,
          null,
          null,
          null,
          null,
          null,
          null,
          null,
          null,
          null,
          null,
          null,
          null,
          null,
          null,
          null,
          null,
          null,
          null,
          null,
          null,
          null,
          null,
          null,
          null,
          null,
          null,
          null,
          null,
          null,
          null,
          null,
          null,
          null,
          null,
          null,
          null,
          null,
          null,
          null,
          null,
          null,
          null,
          null,
          null,
          null,
          null,
          null,
          null,
          null,
          null,
          null,
          null,
          null,
          null,
          null,
          null,
          null,
          null,
          null,
          null,
          null,
          null,
          null,
          null,
          null,
          null,
          null,
          null,
          null,
          null,
          null,
          null,
          null,
          null,
          null,
          null,
          null,
          null,
          null,
          null,
          null,
          null,
          null,
          null,
          null,
          null,
          null,
          null,
          null,
          null,
          null,
          null,
          null,
          null,
          null,
          null,
          null,
          null,
          null,
          null,
          null,
          null,
          null,
          null,
          null,
          null,
          null,
          null,
          null,
          null,
          null,
          null,
          null,
          null,
          null,
          null,
          null,
          null,
          null,
          null,
          null,
          null,
          null,
          null,
          null,
          null,
          null,
          null,
          null,
          null,
          null,
          null,
          null,
          null,
          null,
          null,
          null,
          null,
          null,
          null,
          null,
          null,
          null,
          null,
          null,
          null,
          null,
          null,
          null,
          null,
          null,
          null,
          null,
          null,
          null,
          null,
          null,
          null,
          null,
          null,
          null,
          null,
          null,
          null,
          null,
          null,
          null,
          null,
          null,
          null,
          null,
          null,
          null,
          null,
          null,
          null,
          null,
          null,
          null,
          null,
          null,
          null,
          null,
          null,
          null,
          null,
          null,
          null,
          null,
          null,
          null,
          null,
          null,
          null,
          null,
          null,
          null,
          null,
          null,
          null,
          null,
          null,
          null,
          null,
          null,
          null,
          null,
          null,
          null,
          null,
          null,
          null,
          null,
          null,
          null,
          null,
          null,
          null,
          null,
          null,
          null,
          null,
          null,
          null,
          null,
          null,
          null,
          null,
          null,
          null,
          null,
          null,
          null,
          null,
          null,
          null,
          null,
          null,
          null,
          null,
          null,
          null,
          null,
          null,
          null,
          null,
          null,
          null,
          null,
          null,
          null,
          null,
          null,
          null,
          null,
          null,
          null,
          null,
          null,
          null,
          null,
          null,
          null,
          null,
          null,
          null,
          null,
          null,
          null,
          null,
          null,
          null,
          null,
          null,
          null,
          null,
          null,
          null,
          null,
          null,
          null,
          null,
          null,
          null,
          null,
          null,
          null,
          null,
          null,
          null,
          null,
          null,
          null,
          null,
          null,
          null,
          null,
          null,
          null,
          null,
          null,
          null,
          null,
          null,
          null,
          null,
          null,
          null,
          null,
          null,
          null,
          null,
          null,
          null,
          null,
          null,
          null,
          null,
          null,
          null,
          null,
          null,
          null,
          null,
          null,
          null,
          null,
          null,
          null,
          null,
          null,
          null,
          null,
          null,
          null,
          null,
          null,
          null,
          null,
          null,
          null,
          null,
          null,
          null,
          null,
          null,
          null,
          null,
          null,
          null,
          null,
          null,
          null,
          null,
          null,
          null,
          null,
          null,
          null,
          null,
          null,
          null,
          null,
          null,
          null,
          null,
          null,
          null,
          null,
          null,
          null,
          null,
          null,
          null,
          null,
          null,
          null,
          null,
          null,
          null,
          null,
          null,
          null,
          null,
          null,
          null,
          null,
          null,
          null,
          null,
          null,
          null,
          null,
          null,
          null,
          null,
          null,
          null,
          null,
          null,
          null,
          null,
          null,
          null,
          null,
          null,
          null,
          null,
          null,
          null,
          null,
          null,
          null,
          null,
          null,
          null,
          null,
          null,
          null,
          null,
          null,
          null,
          null,
          null,
          null,
          null,
          null,
          null,
          null,
          null,
          null,
          null,
          null,
          null,
          null,
          null,
          null,
          null,
          null,
          null,
          null,
          null,
          null,
          null,
          null,
          null,
          null,
          null,
          null,
          null,
          null,
          null,
          null,
          null,
          null,
          null,
          null,
          null,
          null,
          null,
          null,
          null,
          null,
          null,
          null,
          null,
          null,
          null,
          null,
          null,
          null,
          null,
          null,
          null,
          null,
          null,
          null,
          null,
          null,
          null,
          null,
          null,
          null,
          null,
          null,
          null,
          null,
          null,
          null,
          null,
          null,
          null,
          null,
          null,
          null,
          null,
          null,
          null,
          null,
          null,
          null,
          null,
          null,
          null,
          null,
          null,
          null,
          null,
          null,
          null,
          null,
          null,
          null,
          null,
          null,
          null,
          null,
          null,
          null,
          null,
          null,
          null,
          null,
          null,
          null,
          null,
          null,
          null,
          null,
          null,
          null,
          null,
          null,
          null,
          null,
          null,
          null,
          null,
          null,
          null,
          null,
          null,
          null,
          null,
          null,
          null,
          null,
          null,
          null,
          null,
          null,
          null,
          null,
          null,
          null,
          null,
          null,
          null,
          null,
          null,
          null,
          null,
          null,
          null,
          null,
          null,
          null,
          null,
          null,
          null,
          null,
          null,
          null,
          null,
          null,
          null,
          null,
          null,
          null,
          null,
          null,
          null,
          null,
          null,
          null,
          null,
          null,
          null,
          null,
          null,
          null,
          null,
          null,
          null,
          null,
          null,
          null,
          null,
          null,
          null
         ],
         "type": "scatter",
         "x": {
          "bdata": "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",
          "dtype": "f4"
         },
         "y": {
          "bdata": "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",
          "dtype": "f4"
         }
        }
       ],
       "layout": {
        "template": {
         "data": {
          "bar": [
           {
            "error_x": {
             "color": "#2a3f5f"
            },
            "error_y": {
             "color": "#2a3f5f"
            },
            "marker": {
             "line": {
              "color": "white",
              "width": 0.5
             },
             "pattern": {
              "fillmode": "overlay",
              "size": 10,
              "solidity": 0.2
             }
            },
            "type": "bar"
           }
          ],
          "barpolar": [
           {
            "marker": {
             "line": {
              "color": "white",
              "width": 0.5
             },
             "pattern": {
              "fillmode": "overlay",
              "size": 10,
              "solidity": 0.2
             }
            },
            "type": "barpolar"
           }
          ],
          "carpet": [
           {
            "aaxis": {
             "endlinecolor": "#2a3f5f",
             "gridcolor": "#C8D4E3",
             "linecolor": "#C8D4E3",
             "minorgridcolor": "#C8D4E3",
             "startlinecolor": "#2a3f5f"
            },
            "baxis": {
             "endlinecolor": "#2a3f5f",
             "gridcolor": "#C8D4E3",
             "linecolor": "#C8D4E3",
             "minorgridcolor": "#C8D4E3",
             "startlinecolor": "#2a3f5f"
            },
            "type": "carpet"
           }
          ],
          "choropleth": [
           {
            "colorbar": {
             "outlinewidth": 0,
             "ticks": ""
            },
            "type": "choropleth"
           }
          ],
          "contour": [
           {
            "colorbar": {
             "outlinewidth": 0,
             "ticks": ""
            },
            "colorscale": [
             [
              0,
              "#0d0887"
             ],
             [
              0.1111111111111111,
              "#46039f"
             ],
             [
              0.2222222222222222,
              "#7201a8"
             ],
             [
              0.3333333333333333,
              "#9c179e"
             ],
             [
              0.4444444444444444,
              "#bd3786"
             ],
             [
              0.5555555555555556,
              "#d8576b"
             ],
             [
              0.6666666666666666,
              "#ed7953"
             ],
             [
              0.7777777777777778,
              "#fb9f3a"
             ],
             [
              0.8888888888888888,
              "#fdca26"
             ],
             [
              1,
              "#f0f921"
             ]
            ],
            "type": "contour"
           }
          ],
          "contourcarpet": [
           {
            "colorbar": {
             "outlinewidth": 0,
             "ticks": ""
            },
            "type": "contourcarpet"
           }
          ],
          "heatmap": [
           {
            "colorbar": {
             "outlinewidth": 0,
             "ticks": ""
            },
            "colorscale": [
             [
              0,
              "#0d0887"
             ],
             [
              0.1111111111111111,
              "#46039f"
             ],
             [
              0.2222222222222222,
              "#7201a8"
             ],
             [
              0.3333333333333333,
              "#9c179e"
             ],
             [
              0.4444444444444444,
              "#bd3786"
             ],
             [
              0.5555555555555556,
              "#d8576b"
             ],
             [
              0.6666666666666666,
              "#ed7953"
             ],
             [
              0.7777777777777778,
              "#fb9f3a"
             ],
             [
              0.8888888888888888,
              "#fdca26"
             ],
             [
              1,
              "#f0f921"
             ]
            ],
            "type": "heatmap"
           }
          ],
          "histogram": [
           {
            "marker": {
             "pattern": {
              "fillmode": "overlay",
              "size": 10,
              "solidity": 0.2
             }
            },
            "type": "histogram"
           }
          ],
          "histogram2d": [
           {
            "colorbar": {
             "outlinewidth": 0,
             "ticks": ""
            },
            "colorscale": [
             [
              0,
              "#0d0887"
             ],
             [
              0.1111111111111111,
              "#46039f"
             ],
             [
              0.2222222222222222,
              "#7201a8"
             ],
             [
              0.3333333333333333,
              "#9c179e"
             ],
             [
              0.4444444444444444,
              "#bd3786"
             ],
             [
              0.5555555555555556,
              "#d8576b"
             ],
             [
              0.6666666666666666,
              "#ed7953"
             ],
             [
              0.7777777777777778,
              "#fb9f3a"
             ],
             [
              0.8888888888888888,
              "#fdca26"
             ],
             [
              1,
              "#f0f921"
             ]
            ],
            "type": "histogram2d"
           }
          ],
          "histogram2dcontour": [
           {
            "colorbar": {
             "outlinewidth": 0,
             "ticks": ""
            },
            "colorscale": [
             [
              0,
              "#0d0887"
             ],
             [
              0.1111111111111111,
              "#46039f"
             ],
             [
              0.2222222222222222,
              "#7201a8"
             ],
             [
              0.3333333333333333,
              "#9c179e"
             ],
             [
              0.4444444444444444,
              "#bd3786"
             ],
             [
              0.5555555555555556,
              "#d8576b"
             ],
             [
              0.6666666666666666,
              "#ed7953"
             ],
             [
              0.7777777777777778,
              "#fb9f3a"
             ],
             [
              0.8888888888888888,
              "#fdca26"
             ],
             [
              1,
              "#f0f921"
             ]
            ],
            "type": "histogram2dcontour"
           }
          ],
          "mesh3d": [
           {
            "colorbar": {
             "outlinewidth": 0,
             "ticks": ""
            },
            "type": "mesh3d"
           }
          ],
          "parcoords": [
           {
            "line": {
             "colorbar": {
              "outlinewidth": 0,
              "ticks": ""
             }
            },
            "type": "parcoords"
           }
          ],
          "pie": [
           {
            "automargin": true,
            "type": "pie"
           }
          ],
          "scatter": [
           {
            "fillpattern": {
             "fillmode": "overlay",
             "size": 10,
             "solidity": 0.2
            },
            "type": "scatter"
           }
          ],
          "scatter3d": [
           {
            "line": {
             "colorbar": {
              "outlinewidth": 0,
              "ticks": ""
             }
            },
            "marker": {
             "colorbar": {
              "outlinewidth": 0,
              "ticks": ""
             }
            },
            "type": "scatter3d"
           }
          ],
          "scattercarpet": [
           {
            "marker": {
             "colorbar": {
              "outlinewidth": 0,
              "ticks": ""
             }
            },
            "type": "scattercarpet"
           }
          ],
          "scattergeo": [
           {
            "marker": {
             "colorbar": {
              "outlinewidth": 0,
              "ticks": ""
             }
            },
            "type": "scattergeo"
           }
          ],
          "scattergl": [
           {
            "marker": {
             "colorbar": {
              "outlinewidth": 0,
              "ticks": ""
             }
            },
            "type": "scattergl"
           }
          ],
          "scattermap": [
           {
            "marker": {
             "colorbar": {
              "outlinewidth": 0,
              "ticks": ""
             }
            },
            "type": "scattermap"
           }
          ],
          "scattermapbox": [
           {
            "marker": {
             "colorbar": {
              "outlinewidth": 0,
              "ticks": ""
             }
            },
            "type": "scattermapbox"
           }
          ],
          "scatterpolar": [
           {
            "marker": {
             "colorbar": {
              "outlinewidth": 0,
              "ticks": ""
             }
            },
            "type": "scatterpolar"
           }
          ],
          "scatterpolargl": [
           {
            "marker": {
             "colorbar": {
              "outlinewidth": 0,
              "ticks": ""
             }
            },
            "type": "scatterpolargl"
           }
          ],
          "scatterternary": [
           {
            "marker": {
             "colorbar": {
              "outlinewidth": 0,
              "ticks": ""
             }
            },
            "type": "scatterternary"
           }
          ],
          "surface": [
           {
            "colorbar": {
             "outlinewidth": 0,
             "ticks": ""
            },
            "colorscale": [
             [
              0,
              "#0d0887"
             ],
             [
              0.1111111111111111,
              "#46039f"
             ],
             [
              0.2222222222222222,
              "#7201a8"
             ],
             [
              0.3333333333333333,
              "#9c179e"
             ],
             [
              0.4444444444444444,
              "#bd3786"
             ],
             [
              0.5555555555555556,
              "#d8576b"
             ],
             [
              0.6666666666666666,
              "#ed7953"
             ],
             [
              0.7777777777777778,
              "#fb9f3a"
             ],
             [
              0.8888888888888888,
              "#fdca26"
             ],
             [
              1,
              "#f0f921"
             ]
            ],
            "type": "surface"
           }
          ],
          "table": [
           {
            "cells": {
             "fill": {
              "color": "#EBF0F8"
             },
             "line": {
              "color": "white"
             }
            },
            "header": {
             "fill": {
              "color": "#C8D4E3"
             },
             "line": {
              "color": "white"
             }
            },
            "type": "table"
           }
          ]
         },
         "layout": {
          "annotationdefaults": {
           "arrowcolor": "#2a3f5f",
           "arrowhead": 0,
           "arrowwidth": 1
          },
          "autotypenumbers": "strict",
          "coloraxis": {
           "colorbar": {
            "outlinewidth": 0,
            "ticks": ""
           }
          },
          "colorscale": {
           "diverging": [
            [
             0,
             "#8e0152"
            ],
            [
             0.1,
             "#c51b7d"
            ],
            [
             0.2,
             "#de77ae"
            ],
            [
             0.3,
             "#f1b6da"
            ],
            [
             0.4,
             "#fde0ef"
            ],
            [
             0.5,
             "#f7f7f7"
            ],
            [
             0.6,
             "#e6f5d0"
            ],
            [
             0.7,
             "#b8e186"
            ],
            [
             0.8,
             "#7fbc41"
            ],
            [
             0.9,
             "#4d9221"
            ],
            [
             1,
             "#276419"
            ]
           ],
           "sequential": [
            [
             0,
             "#0d0887"
            ],
            [
             0.1111111111111111,
             "#46039f"
            ],
            [
             0.2222222222222222,
             "#7201a8"
            ],
            [
             0.3333333333333333,
             "#9c179e"
            ],
            [
             0.4444444444444444,
             "#bd3786"
            ],
            [
             0.5555555555555556,
             "#d8576b"
            ],
            [
             0.6666666666666666,
             "#ed7953"
            ],
            [
             0.7777777777777778,
             "#fb9f3a"
            ],
            [
             0.8888888888888888,
             "#fdca26"
            ],
            [
             1,
             "#f0f921"
            ]
           ],
           "sequentialminus": [
            [
             0,
             "#0d0887"
            ],
            [
             0.1111111111111111,
             "#46039f"
            ],
            [
             0.2222222222222222,
             "#7201a8"
            ],
            [
             0.3333333333333333,
             "#9c179e"
            ],
            [
             0.4444444444444444,
             "#bd3786"
            ],
            [
             0.5555555555555556,
             "#d8576b"
            ],
            [
             0.6666666666666666,
             "#ed7953"
            ],
            [
             0.7777777777777778,
             "#fb9f3a"
            ],
            [
             0.8888888888888888,
             "#fdca26"
            ],
            [
             1,
             "#f0f921"
            ]
           ]
          },
          "colorway": [
           "#636efa",
           "#EF553B",
           "#00cc96",
           "#ab63fa",
           "#FFA15A",
           "#19d3f3",
           "#FF6692",
           "#B6E880",
           "#FF97FF",
           "#FECB52"
          ],
          "font": {
           "color": "#2a3f5f"
          },
          "geo": {
           "bgcolor": "white",
           "lakecolor": "white",
           "landcolor": "white",
           "showlakes": true,
           "showland": true,
           "subunitcolor": "#C8D4E3"
          },
          "hoverlabel": {
           "align": "left"
          },
          "hovermode": "closest",
          "mapbox": {
           "style": "light"
          },
          "paper_bgcolor": "white",
          "plot_bgcolor": "white",
          "polar": {
           "angularaxis": {
            "gridcolor": "#EBF0F8",
            "linecolor": "#EBF0F8",
            "ticks": ""
           },
           "bgcolor": "white",
           "radialaxis": {
            "gridcolor": "#EBF0F8",
            "linecolor": "#EBF0F8",
            "ticks": ""
           }
          },
          "scene": {
           "xaxis": {
            "backgroundcolor": "white",
            "gridcolor": "#DFE8F3",
            "gridwidth": 2,
            "linecolor": "#EBF0F8",
            "showbackground": true,
            "ticks": "",
            "zerolinecolor": "#EBF0F8"
           },
           "yaxis": {
            "backgroundcolor": "white",
            "gridcolor": "#DFE8F3",
            "gridwidth": 2,
            "linecolor": "#EBF0F8",
            "showbackground": true,
            "ticks": "",
            "zerolinecolor": "#EBF0F8"
           },
           "zaxis": {
            "backgroundcolor": "white",
            "gridcolor": "#DFE8F3",
            "gridwidth": 2,
            "linecolor": "#EBF0F8",
            "showbackground": true,
            "ticks": "",
            "zerolinecolor": "#EBF0F8"
           }
          },
          "shapedefaults": {
           "line": {
            "color": "#2a3f5f"
           }
          },
          "ternary": {
           "aaxis": {
            "gridcolor": "#DFE8F3",
            "linecolor": "#A2B1C6",
            "ticks": ""
           },
           "baxis": {
            "gridcolor": "#DFE8F3",
            "linecolor": "#A2B1C6",
            "ticks": ""
           },
           "bgcolor": "white",
           "caxis": {
            "gridcolor": "#DFE8F3",
            "linecolor": "#A2B1C6",
            "ticks": ""
           }
          },
          "title": {
           "x": 0.05
          },
          "xaxis": {
           "automargin": true,
           "gridcolor": "#EBF0F8",
           "linecolor": "#EBF0F8",
           "ticks": "",
           "title": {
            "standoff": 15
           },
           "zerolinecolor": "#EBF0F8",
           "zerolinewidth": 2
          },
          "yaxis": {
           "automargin": true,
           "gridcolor": "#EBF0F8",
           "linecolor": "#EBF0F8",
           "ticks": "",
           "title": {
            "standoff": 15
           },
           "zerolinecolor": "#EBF0F8",
           "zerolinewidth": 2
          }
         }
        },
        "title": {
         "text": "2D map of artists (Point size = Views)"
        },
        "xaxis": {
         "title": {
          "text": "X"
         }
        },
        "yaxis": {
         "title": {
          "text": "Y"
         }
        }
       }
      }
     },
     "metadata": {},
     "output_type": "display_data"
    }
   ],
   "source": [
    "# Optional: seed for consistent colors\n",
    "np.random.seed(42)\n",
    "\n",
    "# Normalize views to a reasonable range for marker sizes\n",
    "views = artist_df['total_views']\n",
    "min_size = 5\n",
    "max_size = 30\n",
    "\n",
    "# Normalize view counts to marker sizes between min_size and max_size\n",
    "normalized_sizes = min_size + (views - views.min()) / (views.max() - views.min()) * (max_size - min_size)\n",
    "\n",
    "fig = go.Figure(data=go.Scatter(\n",
    "    x = two_dimensional_songs['X'],\n",
    "    y = two_dimensional_songs['Y'],\n",
    "    text = two_dimensional_songs['artist'] + \" - \" + \"<br>Views: \" + views.astype(str)+ \"<br>Valence: \" + two_dimensional_songs['valence'].astype(str),\n",
    "    mode='markers',\n",
    "    marker=dict(\n",
    "        size=normalized_sizes,\n",
    "        color=np.random.randn(len(two_dimensional_songs)),  # random color for now\n",
    "        colorscale='Viridis',\n",
    "        showscale=True\n",
    "    )\n",
    "))\n",
    "\n",
    "fig.update_layout(\n",
    "    title='2D map of artists (Point size = Views)',\n",
    "    xaxis_title='X',\n",
    "    yaxis_title='Y',\n",
    "    template='plotly_white'\n",
    ")\n",
    "\n",
    "fig.show()"
   ]
  }
 ],
 "metadata": {
  "_change_revision": 1,
  "_is_fork": false,
  "colab": {
   "provenance": []
  },
  "kernelspec": {
   "display_name": "test",
   "language": "python",
   "name": "python3"
  },
  "language_info": {
   "codemirror_mode": {
    "name": "ipython",
    "version": 3
   },
   "file_extension": ".py",
   "mimetype": "text/x-python",
   "name": "python",
   "nbconvert_exporter": "python",
   "pygments_lexer": "ipython3",
   "version": "3.12.8"
  }
 },
 "nbformat": 4,
 "nbformat_minor": 0
}
